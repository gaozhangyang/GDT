{
 "cells": [
  {
   "cell_type": "code",
   "execution_count": 1,
   "metadata": {},
   "outputs": [
    {
     "data": {
      "text/plain": [
       "<module 'api' from '../utils/api.py'>"
      ]
     },
     "execution_count": 1,
     "metadata": {},
     "output_type": "execute_result"
    }
   ],
   "source": [
    "import numpy as np\n",
    "import matplotlib.pyplot as plt\n",
    "import sys\n",
    "sys.path.append('../utils/')\n",
    "import imp\n",
    "import plot_tools\n",
    "imp.reload(plot_tools)\n",
    "import pandas as pd\n",
    "import networkx as nx\n",
    "import api\n",
    "imp.reload(api)"
   ]
  },
  {
   "cell_type": "code",
   "execution_count": 6,
   "metadata": {},
   "outputs": [
    {
     "data": {
      "text/plain": [
       "(569, 30)"
      ]
     },
     "execution_count": 6,
     "metadata": {},
     "output_type": "execute_result"
    }
   ],
   "source": [
    "X.shape"
   ]
  },
  {
   "cell_type": "code",
   "execution_count": 7,
   "metadata": {
    "scrolled": false
   },
   "outputs": [
    {
     "name": "stdout",
     "output_type": "stream",
     "text": [
      "[0.00000000e+00 0.00000000e+00 0.00000000e+00 0.00000000e+00\n",
      " 0.00000000e+00 0.00000000e+00 1.04667060e-01 0.00000000e+00\n",
      " 0.00000000e+00 0.00000000e+00 0.00000000e+00 0.00000000e+00\n",
      " 0.00000000e+00 0.00000000e+00 0.00000000e+00 0.00000000e+00\n",
      " 2.89493280e-07 0.00000000e+00 0.00000000e+00 9.78612942e-10\n",
      " 2.99455560e-09 0.00000000e+00 0.00000000e+00 0.00000000e+00\n",
      " 0.00000000e+00 0.00000000e+00 0.00000000e+00 0.00000000e+00\n",
      " 0.00000000e+00 0.00000000e+00 0.00000000e+00 0.00000000e+00\n",
      " 0.00000000e+00 0.00000000e+00 0.00000000e+00 0.00000000e+00\n",
      " 0.00000000e+00 0.00000000e+00 0.00000000e+00 0.00000000e+00\n",
      " 8.22034871e-10 0.00000000e+00 0.00000000e+00 1.95722588e-11\n",
      " 0.00000000e+00 0.00000000e+00 0.00000000e+00 0.00000000e+00\n",
      " 5.87167765e-11 1.19247118e-05 3.91445177e-11 6.17406905e-07\n",
      " 7.49226068e-08 0.00000000e+00 1.95722588e-11 1.95722588e-11\n",
      " 0.00000000e+00 0.00000000e+00 2.26873874e-04 0.00000000e+00\n",
      " 0.00000000e+00 0.00000000e+00 0.00000000e+00 0.00000000e+00\n",
      " 0.00000000e+00 0.00000000e+00 3.91445177e-11 0.00000000e+00\n",
      " 0.00000000e+00 8.58570994e-05 1.87893685e-09 0.00000000e+00\n",
      " 0.00000000e+00 0.00000000e+00 4.01661312e-02 0.00000000e+00\n",
      " 0.00000000e+00 0.00000000e+00 0.00000000e+00 1.00000000e+00\n",
      " 3.91445177e-11 2.98596925e-05 0.00000000e+00 0.00000000e+00\n",
      " 3.90107217e-05 0.00000000e+00 0.00000000e+00 0.00000000e+00\n",
      " 0.00000000e+00 0.00000000e+00 6.36152440e-02 0.00000000e+00\n",
      " 0.00000000e+00 8.27857442e-04 0.00000000e+00 0.00000000e+00\n",
      " 0.00000000e+00 0.00000000e+00 1.18532692e-03 0.00000000e+00\n",
      " 0.00000000e+00 0.00000000e+00 9.98185200e-10 0.00000000e+00\n",
      " 7.82890353e-11 0.00000000e+00 0.00000000e+00 6.01431681e-03\n",
      " 0.00000000e+00 0.00000000e+00 0.00000000e+00 0.00000000e+00\n",
      " 0.00000000e+00 0.00000000e+00 3.71872918e-09 0.00000000e+00\n",
      " 0.00000000e+00 0.00000000e+00 0.00000000e+00 0.00000000e+00\n",
      " 1.35937734e-04 0.00000000e+00 0.00000000e+00 1.95722588e-11\n",
      " 0.00000000e+00 1.92578853e-04 0.00000000e+00 0.00000000e+00\n",
      " 0.00000000e+00 0.00000000e+00 1.95722588e-11 9.78612942e-11\n",
      " 0.00000000e+00 1.06511688e-03 0.00000000e+00 0.00000000e+00\n",
      " 0.00000000e+00 3.11880919e-02 0.00000000e+00 0.00000000e+00\n",
      " 0.00000000e+00 0.00000000e+00 8.61179389e-10 2.32043220e-05\n",
      " 1.21739450e-08 0.00000000e+00 0.00000000e+00 0.00000000e+00\n",
      " 5.87167765e-11 6.40743496e-05 0.00000000e+00 0.00000000e+00\n",
      " 0.00000000e+00 3.52300659e-10 1.61118835e-07 2.80792824e-05\n",
      " 0.00000000e+00 0.00000000e+00 5.08356974e-03 1.95722588e-11\n",
      " 0.00000000e+00 0.00000000e+00 0.00000000e+00 0.00000000e+00\n",
      " 0.00000000e+00 5.40652335e-06 0.00000000e+00 0.00000000e+00\n",
      " 0.00000000e+00 2.48841699e-07 5.89124991e-09 2.89512853e-07\n",
      " 0.00000000e+00 0.00000000e+00 0.00000000e+00 0.00000000e+00\n",
      " 0.00000000e+00 0.00000000e+00 0.00000000e+00 0.00000000e+00\n",
      " 0.00000000e+00 0.00000000e+00 0.00000000e+00 0.00000000e+00\n",
      " 0.00000000e+00 0.00000000e+00 0.00000000e+00 6.17700489e-08\n",
      " 1.56578071e-10 6.16917598e-08 0.00000000e+00 0.00000000e+00\n",
      " 0.00000000e+00 0.00000000e+00 0.00000000e+00 6.78701935e-05\n",
      " 0.00000000e+00 0.00000000e+00 0.00000000e+00 0.00000000e+00\n",
      " 1.27219682e-09 0.00000000e+00 0.00000000e+00 0.00000000e+00\n",
      " 7.50791849e-08 0.00000000e+00 2.62659714e-08 0.00000000e+00\n",
      " 0.00000000e+00 0.00000000e+00 0.00000000e+00 3.63832689e-03\n",
      " 0.00000000e+00 0.00000000e+00 0.00000000e+00 2.98596925e-05\n",
      " 1.95722588e-11 0.00000000e+00 0.00000000e+00 0.00000000e+00\n",
      " 0.00000000e+00 3.13156141e-09 2.60898210e-08 1.95722588e-11\n",
      " 1.16379195e-05 0.00000000e+00 4.65489772e-05 3.91445177e-11\n",
      " 0.00000000e+00 0.00000000e+00 0.00000000e+00 0.00000000e+00\n",
      " 0.00000000e+00 0.00000000e+00 0.00000000e+00 0.00000000e+00\n",
      " 0.00000000e+00 0.00000000e+00 0.00000000e+00 0.00000000e+00\n",
      " 6.13385197e-05 8.80751647e-10 0.00000000e+00 0.00000000e+00\n",
      " 0.00000000e+00 0.00000000e+00 0.00000000e+00 0.00000000e+00\n",
      " 0.00000000e+00 2.19170154e-07 0.00000000e+00 6.30422457e-08\n",
      " 0.00000000e+00 1.23244557e-05 0.00000000e+00 9.78612942e-11\n",
      " 0.00000000e+00 0.00000000e+00 0.00000000e+00 0.00000000e+00\n",
      " 0.00000000e+00 1.99637040e-08 0.00000000e+00 6.65456800e-10\n",
      " 5.40556431e-06 0.00000000e+00 0.00000000e+00 1.38963038e-09\n",
      " 3.84708405e-05 0.00000000e+00 3.46624704e-08 1.16266736e-01\n",
      " 0.00000000e+00 0.00000000e+00 1.99637040e-08 0.00000000e+00\n",
      " 0.00000000e+00 0.00000000e+00 1.08018905e-05 0.00000000e+00\n",
      " 0.00000000e+00 0.00000000e+00 0.00000000e+00 0.00000000e+00\n",
      " 0.00000000e+00 2.26873913e-04 0.00000000e+00 2.62268268e-09\n",
      " 0.00000000e+00 0.00000000e+00 0.00000000e+00 0.00000000e+00\n",
      " 1.75152144e-07 1.61079690e-08 4.90911697e-03 6.06740024e-10\n",
      " 0.00000000e+00 0.00000000e+00 3.20073772e-02 0.00000000e+00\n",
      " 0.00000000e+00 0.00000000e+00 0.00000000e+00 0.00000000e+00\n",
      " 2.54635087e-08 0.00000000e+00 2.53265029e-07 0.00000000e+00\n",
      " 1.23735820e-06 1.23277829e-06 3.91445177e-11 7.10590429e-07\n",
      " 2.01594266e-09 0.00000000e+00 0.00000000e+00 1.12716639e-06\n",
      " 4.11017435e-10 1.04673987e-01 0.00000000e+00 0.00000000e+00\n",
      " 0.00000000e+00 0.00000000e+00 0.00000000e+00 0.00000000e+00\n",
      " 2.29045257e-03 8.57305843e-05 0.00000000e+00 2.90158737e-06\n",
      " 9.78612942e-11 0.00000000e+00 0.00000000e+00 0.00000000e+00\n",
      " 0.00000000e+00 2.20540213e-07 1.16226798e-03 0.00000000e+00\n",
      " 0.00000000e+00 0.00000000e+00 1.13519101e-09 0.00000000e+00\n",
      " 1.95722588e-10 0.00000000e+00 1.40724541e-08 0.00000000e+00\n",
      " 7.87612748e-05 0.00000000e+00 1.16272255e-03 0.00000000e+00\n",
      " 0.00000000e+00 0.00000000e+00 1.05103030e-08 0.00000000e+00\n",
      " 0.00000000e+00 0.00000000e+00 0.00000000e+00 0.00000000e+00\n",
      " 1.95722588e-11 1.28003747e-05 0.00000000e+00 0.00000000e+00\n",
      " 8.41875270e-06 4.81317818e-04 9.97122390e-01 7.82890353e-11\n",
      " 2.02290843e-04 1.87893685e-09 0.00000000e+00 3.11585389e-04\n",
      " 0.00000000e+00 0.00000000e+00 0.00000000e+00 4.83596675e-04\n",
      " 0.00000000e+00 0.00000000e+00 5.99860570e-05 0.00000000e+00\n",
      " 0.00000000e+00 0.00000000e+00 0.00000000e+00 0.00000000e+00\n",
      " 0.00000000e+00 3.64631182e-08 0.00000000e+00 0.00000000e+00\n",
      " 1.79054657e-05 0.00000000e+00 2.01594266e-09 3.13128740e-06\n",
      " 0.00000000e+00 0.00000000e+00 1.15223311e-01 0.00000000e+00\n",
      " 0.00000000e+00 0.00000000e+00 8.61179389e-10 4.56229353e-08\n",
      " 0.00000000e+00 0.00000000e+00 5.87167765e-11 3.31154072e-03\n",
      " 0.00000000e+00 1.93137093e-05 0.00000000e+00 5.39020008e-07\n",
      " 0.00000000e+00 2.21166525e-09 1.06515421e-03 0.00000000e+00\n",
      " 1.95722588e-11 0.00000000e+00 0.00000000e+00 1.20956560e-08\n",
      " 0.00000000e+00 0.00000000e+00 0.00000000e+00 9.78612942e-11\n",
      " 0.00000000e+00 0.00000000e+00 6.59117346e-06 1.56578071e-10\n",
      " 3.63652569e-08 0.00000000e+00 1.80260504e-08 7.82890353e-11\n",
      " 0.00000000e+00 5.15225222e-03 0.00000000e+00 3.25095219e-08\n",
      " 1.78626220e-06 8.41939858e-06 0.00000000e+00 0.00000000e+00\n",
      " 0.00000000e+00 0.00000000e+00 7.60225482e-05 0.00000000e+00\n",
      " 7.18301899e-09 1.17629276e-08 1.41757956e-06 7.18313251e-05\n",
      " 0.00000000e+00 0.00000000e+00 7.55489191e-09 0.00000000e+00\n",
      " 7.78975901e-09 0.00000000e+00 0.00000000e+00 1.16846385e-08\n",
      " 3.40557304e-09 0.00000000e+00 0.00000000e+00 0.00000000e+00\n",
      " 2.53950058e-07 1.95722588e-11 1.21421616e-04 0.00000000e+00\n",
      " 0.00000000e+00 6.08634761e-01 6.08634760e-01 0.00000000e+00\n",
      " 0.00000000e+00 0.00000000e+00 0.00000000e+00 2.50994471e-04\n",
      " 4.29994698e-06 0.00000000e+00 0.00000000e+00 0.00000000e+00\n",
      " 0.00000000e+00 0.00000000e+00 9.78612942e-11 0.00000000e+00\n",
      " 5.26493763e-09 0.00000000e+00 0.00000000e+00 1.79024516e-05\n",
      " 0.00000000e+00 3.20081923e-02 7.82890353e-11 0.00000000e+00\n",
      " 3.52461531e-03 6.47189032e-05 4.69734212e-10 8.66456070e-06\n",
      " 0.00000000e+00 0.00000000e+00 3.38404355e-08 0.00000000e+00\n",
      " 7.89721854e-05 0.00000000e+00 1.29176908e-08 0.00000000e+00\n",
      " 0.00000000e+00 0.00000000e+00 8.63136614e-08 1.37005812e-10\n",
      " 0.00000000e+00 6.03859490e-03 0.00000000e+00 0.00000000e+00\n",
      " 0.00000000e+00 0.00000000e+00 2.07485516e-07 0.00000000e+00\n",
      " 0.00000000e+00 0.00000000e+00 0.00000000e+00 0.00000000e+00\n",
      " 0.00000000e+00 0.00000000e+00 0.00000000e+00 5.63245493e-04\n",
      " 0.00000000e+00 9.55909121e-08 3.40557304e-09 7.24173577e-10\n",
      " 3.91445177e-11 0.00000000e+00 0.00000000e+00 3.40557304e-09\n",
      " 0.00000000e+00 0.00000000e+00 5.15225224e-03 7.36504100e-08\n",
      " 0.00000000e+00 3.71872918e-09 0.00000000e+00 2.85754979e-09\n",
      " 0.00000000e+00 7.47660287e-08 2.50524913e-09 0.00000000e+00\n",
      " 1.04844676e-06 0.00000000e+00 0.00000000e+00 0.00000000e+00\n",
      " 0.00000000e+00 0.00000000e+00 0.00000000e+00 0.00000000e+00\n",
      " 0.00000000e+00 0.00000000e+00 1.19243987e-05 8.80751647e-10\n",
      " 1.95722588e-11 6.40964450e-02 4.67691260e-05 0.00000000e+00\n",
      " 0.00000000e+00 0.00000000e+00 0.00000000e+00 0.00000000e+00\n",
      " 7.90719257e-09 0.00000000e+00 2.61857251e-07 0.00000000e+00\n",
      " 0.00000000e+00 0.00000000e+00 0.00000000e+00 0.00000000e+00\n",
      " 0.00000000e+00 0.00000000e+00 0.00000000e+00 0.00000000e+00\n",
      " 0.00000000e+00 0.00000000e+00 0.00000000e+00 0.00000000e+00\n",
      " 0.00000000e+00]\n"
     ]
    },
    {
     "name": "stderr",
     "output_type": "stream",
     "text": [
      "../utils/topo_graph.py:63: RuntimeWarning:\n",
      "\n",
      "invalid value encountered in true_divide\n",
      "\n"
     ]
    },
    {
     "data": {
      "image/png": "[encoded data removed]",
      "text/plain": [
       "<Figure size 288x288 with 1 Axes>"
      ]
     },
     "metadata": {},
     "output_type": "display_data"
    }
   ],
   "source": [
    "df = pd.read_csv('./breast_cancer.csv')\n",
    "X = df.values[:,:-1]\n",
    "Y_true = df.values[:,-1]\n",
    "\n",
    "Y_pred = api.DGSFC.fit(X,\n",
    "                  K_d=500,\n",
    "                  K_n=50,\n",
    "                  lamda=0,\n",
    "                  epsilon=1,\n",
    "                  plot=True,\n",
    "                  pnum=30,\n",
    "                  mp4=False,\n",
    "                  fps=4,\n",
    "                  figroot='/usr/data/gzy/DGC_copy/ex1_toy/results/circles',\n",
    "                  mp4name='circles'\n",
    "                 )"
   ]
  },
  {
   "cell_type": "code",
   "execution_count": 4,
   "metadata": {},
   "outputs": [
    {
     "data": {
      "text/plain": [
       "array([1., 1., 1., 1., 1., 1., 1., 1., 1., 1., 1., 1., 1., 1., 1., 1., 1.,\n",
       "       1., 1., 0., 0., 0., 1., 1., 1., 1., 1., 1., 1., 1., 1., 1., 1., 1.,\n",
       "       1., 1., 1., 0., 1., 1., 1., 1., 1., 1., 1., 1., 0., 1., 0., 0., 0.,\n",
       "       0., 0., 1., 1., 0., 1., 1., 0., 0., 0., 0., 1., 0., 1., 1., 0., 0.,\n",
       "       0., 0., 1., 0., 1., 1., 0., 1., 0., 1., 1., 0., 0., 0., 1., 1., 0.,\n",
       "       1., 1., 1., 0., 0., 0., 1., 0., 0., 1., 1., 0., 0., 0., 1., 1., 0.,\n",
       "       0., 0., 0., 1., 0., 0., 1., 0., 0., 0., 0., 0., 0., 0., 0., 1., 1.,\n",
       "       1., 0., 1., 1., 0., 0., 0., 1., 1., 0., 1., 0., 1., 1., 0., 1., 1.,\n",
       "       0., 0., 1., 0., 0., 1., 0., 0., 0., 0., 1., 0., 0., 0., 0., 0., 0.,\n",
       "       0., 0., 0., 1., 0., 0., 0., 0., 1., 1., 0., 1., 0., 0., 1., 1., 0.,\n",
       "       0., 1., 1., 0., 0., 0., 0., 1., 0., 0., 1., 1., 1., 0., 1., 0., 1.,\n",
       "       0., 0., 0., 1., 0., 0., 1., 1., 0., 1., 1., 1., 1., 0., 1., 1., 1.,\n",
       "       0., 1., 0., 1., 0., 0., 1., 0., 1., 1., 1., 1., 0., 0., 1., 1., 0.,\n",
       "       0., 0., 1., 0., 0., 0., 0., 0., 1., 1., 0., 0., 1., 0., 0., 1., 1.,\n",
       "       0., 1., 0., 0., 0., 0., 1., 0., 0., 0., 0., 0., 1., 0., 1., 1., 1.,\n",
       "       1., 1., 1., 1., 1., 1., 1., 1., 1., 1., 1., 0., 0., 0., 0., 0., 0.,\n",
       "       1., 0., 1., 0., 0., 1., 0., 0., 1., 0., 1., 1., 0., 0., 0., 0., 0.,\n",
       "       0., 0., 0., 0., 0., 0., 0., 0., 1., 0., 0., 1., 0., 1., 0., 0., 0.,\n",
       "       0., 0., 0., 0., 0., 0., 0., 0., 0., 0., 0., 1., 0., 0., 0., 1., 0.,\n",
       "       1., 0., 0., 0., 0., 1., 1., 1., 0., 0., 0., 0., 1., 0., 1., 0., 1.,\n",
       "       0., 0., 0., 1., 0., 0., 0., 0., 0., 0., 0., 1., 1., 1., 0., 0., 0.,\n",
       "       0., 0., 0., 0., 0., 0., 0., 0., 1., 1., 0., 1., 1., 1., 0., 1., 1.,\n",
       "       0., 0., 0., 0., 0., 1., 0., 0., 0., 0., 0., 1., 0., 0., 0., 1., 0.,\n",
       "       0., 1., 1., 0., 0., 0., 0., 0., 0., 1., 0., 0., 0., 0., 0., 0., 0.,\n",
       "       1., 0., 0., 0., 0., 0., 1., 0., 0., 1., 0., 0., 0., 0., 0., 0., 0.,\n",
       "       0., 0., 0., 0., 0., 1., 0., 1., 1., 0., 1., 0., 0., 0., 0., 0., 1.,\n",
       "       0., 0., 1., 0., 1., 0., 0., 1., 0., 1., 0., 0., 0., 0., 0., 0., 0.,\n",
       "       0., 1., 1., 0., 0., 0., 0., 0., 0., 1., 0., 0., 0., 0., 0., 0., 0.,\n",
       "       0., 0., 0., 1., 0., 0., 0., 0., 0., 0., 0., 1., 0., 1., 0., 0., 1.,\n",
       "       0., 0., 0., 0., 0., 1., 1., 0., 1., 0., 1., 0., 0., 0., 0., 0., 1.,\n",
       "       0., 0., 1., 0., 1., 0., 1., 1., 0., 0., 0., 1., 0., 0., 0., 0., 0.,\n",
       "       0., 0., 0., 0., 0., 0., 1., 0., 1., 1., 0., 0., 0., 0., 0., 0., 0.,\n",
       "       0., 0., 0., 0., 0., 0., 0., 0., 0., 0., 0., 0., 0., 0., 0., 0., 0.,\n",
       "       0., 1., 1., 1., 1., 1., 1., 0.])"
      ]
     },
     "execution_count": 4,
     "metadata": {},
     "output_type": "execute_result"
    }
   ],
   "source": [
    "Y_true"
   ]
  },
  {
   "cell_type": "code",
   "execution_count": 8,
   "metadata": {},
   "outputs": [
    {
     "data": {
      "text/plain": [
       "array([ 0, -1, -1, -1, -1, -1, -1, -1, -1, -1, -1, -1,  1, -1, -1, -1, -1,\n",
       "       -1, -1, -1, -1, -1, -1, -1, -1, -1, -1, -1, -1, -1, -1, -1, -1, -1,\n",
       "       -1, -1, -1, -1, -1, -1, -1, -1,  2, -1, -1, -1, -1, -1, -1, -1, -1,\n",
       "       -1, -1, -1, -1, -1, -1, -1, -1, -1, -1, -1, -1, -1, -1, -1, -1, -1,\n",
       "       -1, -1, -1, -1, -1, -1, -1, -1, -1, -1,  3,  4, -1,  5,  6, -1, -1,\n",
       "       -1, -1, -1, -1, -1, -1, -1, -1, -1, -1, -1, -1, -1, -1, -1, -1, -1,\n",
       "       -1, -1, -1, -1, -1, -1,  7, -1, -1, -1, -1, -1, -1, -1, -1, -1, -1,\n",
       "       -1, -1, -1,  8, -1, -1, -1, -1, -1, -1, -1, -1, -1, -1, -1, -1, -1,\n",
       "       -1, -1, -1, -1, -1, -1, -1, -1, -1, -1, -1, -1, -1, -1, -1, -1, -1,\n",
       "       -1, -1, -1, -1, -1, -1, -1, -1, -1, -1, -1, -1, -1, -1, -1, -1, -1,\n",
       "       -1, -1, -1, -1, -1, -1, -1, -1, -1, -1, -1,  9, -1, -1, -1, -1, -1,\n",
       "       -1, -1, -1, -1, -1, -1, -1, -1, -1, -1, -1, -1, -1, -1, -1, 10, -1,\n",
       "       -1, -1, -1, -1, -1, -1, -1, -1, -1, 11, -1, 12, -1, -1, -1, -1, -1,\n",
       "       -1, -1, -1, -1, -1, -1, -1, -1, -1, -1, -1, -1, -1, -1, -1, -1, -1,\n",
       "       -1, -1, -1, -1, -1, -1, -1, -1, -1, -1, -1, -1, 13, -1, -1, -1, -1,\n",
       "       -1, 14, -1, 15, -1, -1, -1, -1, -1, -1, -1, -1, -1, -1, -1, -1, -1,\n",
       "       -1, -1, -1, -1, -1, -1, -1, -1, -1, -1, -1, -1, -1, -1, -1, -1, -1,\n",
       "       -1, -1, -1, -1, -1, -1, -1, -1, -1, -1, -1, -1, -1, 16, -1, -1, -1,\n",
       "       -1, -1, -1, -1, -1, -1, -1, -1, -1, -1, -1, 17, -1, -1, -1, -1, -1,\n",
       "       -1, -1, -1, -1, -1, -1, -1, -1, -1, -1, -1, -1, -1, -1, -1, -1, -1,\n",
       "       -1, -1, -1, -1, -1, -1, -1, -1, -1, -1, -1, -1, 18, -1, -1, -1, -1,\n",
       "       -1, -1, -1, -1, -1, -1, -1, -1, -1, 19, -1, -1, -1, -1, -1, -1, -1,\n",
       "       -1, -1, -1, -1, -1, -1, -1, -1, -1, -1, -1, -1, -1, -1, -1, 20, -1,\n",
       "       -1, -1, 21, -1, -1, -1, -1, -1, -1, -1, -1, -1, -1, -1, -1, -1, -1,\n",
       "       -1, -1, -1, -1, -1, -1, -1, -1, -1, 22, -1, -1, -1, -1, -1, -1, -1,\n",
       "       -1, -1, -1, -1, -1, -1, -1, -1, -1, -1, -1, -1, -1, -1, -1, -1, -1,\n",
       "       -1, -1, -1, -1, -1, -1, -1, -1, -1, -1, -1, -1, -1, -1, -1, -1, -1,\n",
       "       -1, -1, 23, -1, -1, -1, -1, -1, -1, 24, -1, -1, -1, -1, -1, -1, -1,\n",
       "       -1, -1, -1, -1, -1, -1, -1, -1, -1, -1, -1, -1, -1, -1, -1, -1, -1,\n",
       "       -1, -1, -1, -1, -1, -1, -1, -1, -1, -1, -1, -1, -1, -1, -1, -1, -1,\n",
       "       -1, -1, -1, -1, -1, -1, -1, -1, -1, -1, -1, 25, -1, -1, -1, -1, -1,\n",
       "       -1, -1, -1, -1, -1, -1, -1, -1, -1, -1, -1, -1, -1, -1, -1, -1, -1,\n",
       "       -1, -1, -1, -1, -1, -1, -1, -1, -1, -1, -1, -1, -1, -1, -1, -1, -1,\n",
       "       -1, -1, 26, -1, -1, -1, 27, -1])"
      ]
     },
     "execution_count": 8,
     "metadata": {},
     "output_type": "execute_result"
    }
   ],
   "source": [
    "Y_pred"
   ]
  }
 ],
 "metadata": {
  "kernelspec": {
   "display_name": "GG",
   "language": "python",
   "name": "gg"
  },
  "language_info": {
   "codemirror_mode": {
    "name": "ipython",
    "version": 3
   },
   "file_extension": ".py",
   "mimetype": "text/x-python",
   "name": "python",
   "nbconvert_exporter": "python",
   "pygments_lexer": "ipython3",
   "version": "3.6.10"
  },
  "toc": {
   "base_numbering": 1,
   "nav_menu": {},
   "number_sections": true,
   "sideBar": true,
   "skip_h1_title": false,
   "title_cell": "Table of Contents",
   "title_sidebar": "Contents",
   "toc_cell": false,
   "toc_position": {},
   "toc_section_display": true,
   "toc_window_display": false
  }
 },
 "nbformat": 4,
 "nbformat_minor": 4
}
