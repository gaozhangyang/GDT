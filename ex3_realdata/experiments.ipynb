{
 "cells": [
  {
   "cell_type": "markdown",
   "metadata": {
    "toc": true
   },
   "source": [
    "<h1>Table of Contents<span class=\"tocSkip\"></span></h1>\n",
    "<div class=\"toc\"><ul class=\"toc-item\"><li><span><a href=\"#iris\" data-toc-modified-id=\"iris-1\"><span class=\"toc-item-num\">1&nbsp;&nbsp;</span>iris</a></span></li><li><span><a href=\"#glass\" data-toc-modified-id=\"glass-2\"><span class=\"toc-item-num\">2&nbsp;&nbsp;</span>glass</a></span></li><li><span><a href=\"#wine\" data-toc-modified-id=\"wine-3\"><span class=\"toc-item-num\">3&nbsp;&nbsp;</span>wine</a></span></li><li><span><a href=\"#hepatitis\" data-toc-modified-id=\"hepatitis-4\"><span class=\"toc-item-num\">4&nbsp;&nbsp;</span>hepatitis</a></span></li><li><span><a href=\"#seismic-bumps\" data-toc-modified-id=\"seismic-bumps-5\"><span class=\"toc-item-num\">5&nbsp;&nbsp;</span>seismic-bumps</a></span></li><li><span><a href=\"#real-image-segmentation\" data-toc-modified-id=\"real-image-segmentation-6\"><span class=\"toc-item-num\">6&nbsp;&nbsp;</span>real image segmentation</a></span></li></ul></div>"
   ]
  },
  {
   "cell_type": "code",
   "execution_count": 5,
   "metadata": {
    "ExecuteTime": {
     "end_time": "2020-07-31T13:51:03.719547Z",
     "start_time": "2020-07-31T13:51:01.678706Z"
    }
   },
   "outputs": [],
   "source": [
    "import numpy as np\n",
    "import matplotlib.pyplot as plt\n",
    "import sys\n",
    "sys.path.append('../utils/')\n",
    "import imp\n",
    "import plot_tools\n",
    "imp.reload(plot_tools)\n",
    "import pandas as pd\n",
    "import networkx as nx\n",
    "from sklearn.metrics import f1_score,adjusted_rand_score\n",
    "\n",
    "def match(current,true_set):\n",
    "        max_overlap=0\n",
    "        idx=None\n",
    "        for j in true_set.keys():\n",
    "            N=len(current&true_set[j])\n",
    "            if N>max_overlap:\n",
    "                max_overlap=N\n",
    "                idx=j\n",
    "        return idx\n",
    "\n",
    "def matchY(Y_pred,Y_true):\n",
    "    pred_set={}\n",
    "    for i in list(set(Y_pred)):\n",
    "        pred_set[int(i)]=set(np.where(Y_pred==i)[0])\n",
    "\n",
    "    true_set={}\n",
    "    for i in sorted(list(set(Y_true))):\n",
    "        true_set[int(i)]=set(np.where(Y_true==i)[0])\n",
    "\n",
    "    sort_idx=np.argsort(-np.array(list(map(len,pred_set.values()))))\n",
    "    \n",
    "    Y_pred=np.zeros_like(Y_pred)-2\n",
    "    for i in sort_idx:\n",
    "        real_y=match(pred_set[i],true_set)\n",
    "        if real_y is None:\n",
    "            Y_pred[list(pred_set[i])]=-2\n",
    "        else:\n",
    "            Y_pred[list(pred_set[i])]=real_y\n",
    "            del true_set[real_y]\n",
    "\n",
    "    return Y_pred,Y_true"
   ]
  },
  {
   "cell_type": "markdown",
   "metadata": {
    "heading_collapsed": true
   },
   "source": [
    "# iris"
   ]
  },
  {
   "cell_type": "code",
   "execution_count": 5,
   "metadata": {
    "ExecuteTime": {
     "end_time": "2020-07-31T13:51:06.161165Z",
     "start_time": "2020-07-31T13:51:05.859069Z"
    },
    "hidden": true
   },
   "outputs": [],
   "source": [
    "panda=pd.read_csv('./iris.csv', header=None)\n",
    "X=panda.iloc[1:,:-1].values.astype(np.float)\n",
    "Y_true=panda.iloc[1:,-1].values.astype(np.float)"
   ]
  },
  {
   "cell_type": "code",
   "execution_count": 233,
   "metadata": {
    "ExecuteTime": {
     "end_time": "2020-07-31T13:51:31.788803Z",
     "start_time": "2020-07-31T13:51:08.500203Z"
    },
    "collapsed": true,
    "hidden": true
   },
   "outputs": [
    {
     "name": "stdout",
     "output_type": "stream",
     "text": [
      "[0.94141646 0.86148195 0.79602097 0.78093825 0.59439783 0.33250737\n",
      " 0.35845626 0.9751185  0.27729164 0.97506431 0.42929851 0.68575129\n",
      " 0.81631118 0.29190463 0.06010293 0.01636689 0.30123196 0.92820246\n",
      " 0.16176928 0.55615853 0.5173194  0.51908762 0.10440711 0.350415\n",
      " 0.51349744 0.70271848 0.75181071 0.87678823 0.89025193 0.79126798\n",
      " 1.         0.46073479 0.07051703 0.07745721 0.97506431 0.57527404\n",
      " 0.38232324 0.97506431 0.45997664 0.97165261 0.861033   0.\n",
      " 0.41361967 0.299315   0.39486237 0.70928476 0.49800604 0.73081368\n",
      " 0.53071439 0.68254276 0.17830717 0.22779621 0.33473743 0.16822547\n",
      " 0.35687873 0.47967474 0.16978429 0.16168055 0.41731793 0.08368111\n",
      " 0.00656869 0.43406977 0.02689307 0.58231229 0.31672565 0.41517331\n",
      " 0.40767622 0.37631046 0.1321825  0.53069556 0.14501926 0.36811357\n",
      " 0.1083838  0.34675212 0.48621688 0.46298097 0.18183081 0.29463755\n",
      " 0.5357206  0.29451363 0.42162743 0.33963348 0.55728198 0.28501377\n",
      " 0.23866646 0.06863712 0.46693433 0.10176431 0.51913243 0.40602287\n",
      " 0.37317519 0.46287703 0.5018954  0.14507028 0.54585675 0.45002219\n",
      " 0.65012345 0.57429811 0.10268757 0.61965563 0.16701375 0.33186527\n",
      " 0.1818215  0.30404559 0.30702658 0.11238429 0.00352445 0.16834995\n",
      " 0.02138185 0.00121601 0.2291797  0.31069051 0.45267229 0.0748098\n",
      " 0.03339134 0.24214505 0.40492366 0.0557705  0.01348331 0.08059692\n",
      " 0.45611619 0.16695901 0.08628034 0.36596541 0.23626311 0.0583645\n",
      " 0.36122304 0.42067252 0.33056806 0.08998253 0.13839819 0.05523353\n",
      " 0.26652438 0.33115552 0.09045732 0.06570718 0.24619868 0.3108096\n",
      " 0.42870687 0.45103629 0.45486547 0.36709576 0.33186527 0.43857427\n",
      " 0.24663643 0.39296042 0.1163506  0.41043656 0.18664998 0.32776802]\n"
     ]
    },
    {
     "data": {
      "image/png": "[encoded data removed]",
      "text/plain": [
       "<Figure size 288x288 with 1 Axes>"
      ]
     },
     "metadata": {},
     "output_type": "display_data"
    }
   ],
   "source": [
    "import api\n",
    "imp.reload(api)\n",
    "\n",
    "Y_pred = api.DGSFC.fit( X,\n",
    "                      K_d=10,\n",
    "                      K_n=10,\n",
    "                      epsilon=0,\n",
    "                      lamda=0.4,\n",
    "                      plot=True,\n",
    "                      pnum=30,\n",
    "                      mp4=False,\n",
    "                      fps=4,\n",
    "                      figroot='/usr/data/gzy/DGC/results/circles',\n",
    "                      mp4name='circles'\n",
    "                     )\n",
    "# print(Y_pred)\n",
    "# print(Y_true.astype(np.int))\n",
    "# print(np.sum(Y_pred==Y_true)/Y_true.shape[0])\n",
    "\n",
    "# print( 'f1_score:{}'.format(f1_score(Y_true, Y_pred, average='weighted')) )\n",
    "# print( 'adjusted_rand_score:{}'.format(adjusted_rand_score(Y_true, Y_pred)) )"
   ]
  },
  {
   "cell_type": "markdown",
   "metadata": {
    "heading_collapsed": true
   },
   "source": [
    "# glass"
   ]
  },
  {
   "cell_type": "code",
   "execution_count": 21,
   "metadata": {
    "hidden": true
   },
   "outputs": [],
   "source": [
    "panda=pd.read_csv('./glass.csv', header=None)\n",
    "X=panda.iloc[1:,:-1].values.astype(np.float)\n",
    "Y_true=panda.iloc[1:,-1].values.astype(np.int)\n",
    "Y_set=list(set(Y_true))\n",
    "Y_map={Y_set[i]:i for i in range(len(Y_set))}\n",
    "Y_true=np.array([Y_map[y] for y in Y_true])"
   ]
  },
  {
   "cell_type": "code",
   "execution_count": 52,
   "metadata": {
    "hidden": true
   },
   "outputs": [
    {
     "name": "stderr",
     "output_type": "stream",
     "text": [
      "../utils/topo_graph.py:63: RuntimeWarning:\n",
      "\n",
      "invalid value encountered in true_divide\n",
      "\n"
     ]
    },
    {
     "name": "stdout",
     "output_type": "stream",
     "text": [
      "[ 1  1  1  1  1  0  1  1  1  0  0  1  0  0  1  1  1  0  1  1  0  0  1  1\n",
      "  1  1  1  1  1  1  0  1  0  1  1  1  1  1  0  0  1  1  1  0  0  1  0  0\n",
      "  0  1  0  0  1  1  1  0  0  1  1  0  1  1  0  0  0  1  0  0  0  0  1  0\n",
      "  1  1  1  1  1  1  0  1  1  1  1  1  1  1  1  1  1  1  0  1  0  1  1  1\n",
      "  0  0  1  1  0  1  0  0  0 -2 -2 -2  0  1 -2 -2 -2  0  1  1  1  1  0  1\n",
      "  1  0  1  1  1  0  1  0  0  0  1  0  1  0  1  0  0  1  1  1  1  0  0  1\n",
      "  0  0  1  1  0  1  0  0  1  1  1  1  1  0  1  1  1  0  0  5  1  1  1  1\n",
      "  1  1  0  3 -2  1  0  0  1  1  1  1  1  1  1  1  5  1  1  1  1  5  1  5\n",
      "  5  5  5  5  5  5  5  5  5  1  5  5  5  5  5  5  5  5  5  5  5  5]\n",
      "[0 0 0 0 0 0 0 0 0 0 0 0 0 0 0 0 0 0 0 0 0 0 0 0 0 0 0 0 0 0 0 0 0 0 0 0 0\n",
      " 0 0 0 0 0 0 0 0 0 0 0 0 0 0 0 0 0 0 0 0 0 0 0 0 0 0 0 0 0 0 0 0 0 1 1 1 1\n",
      " 1 1 1 1 1 1 1 1 1 1 1 1 1 1 1 1 1 1 1 1 1 1 1 1 1 1 1 1 1 1 1 1 1 1 1 1 1\n",
      " 1 1 1 1 1 1 1 1 1 1 1 1 1 1 1 1 1 1 1 1 1 1 1 1 1 1 1 1 1 1 1 1 1 1 1 2 2\n",
      " 2 2 2 2 2 2 2 2 2 2 2 2 2 2 2 3 3 3 3 3 3 3 3 3 3 3 3 3 4 4 4 4 4 4 4 4 4\n",
      " 5 5 5 5 5 5 5 5 5 5 5 5 5 5 5 5 5 5 5 5 5 5 5 5 5 5 5 5 5]\n",
      "0.4532710280373832\n",
      "f1_score:0.4276271203946999\n",
      "adjusted_rand_score:0.10324091345195349\n"
     ]
    },
    {
     "data": {
      "image/png": "[encoded data removed]",
      "text/plain": [
       "<Figure size 288x288 with 1 Axes>"
      ]
     },
     "metadata": {},
     "output_type": "display_data"
    }
   ],
   "source": [
    "import api\n",
    "imp.reload(api)\n",
    "\n",
    "Y_pred=api.DGSFC.fit( X,\n",
    "                      K_d=30,\n",
    "                      K_n=10,\n",
    "                      lamda=0.05,\n",
    "                      epsilon=0,\n",
    "                      plot=True,\n",
    "                      pnum=30,\n",
    "                      mp4=False,\n",
    "                      fps=4,\n",
    "                      figroot='/usr/data/gzy/DGC/results/circles',\n",
    "                      mp4name='circles'\n",
    "                     )\n",
    "\n",
    "Y_pred,Y_true=matchY(Y_pred,Y_true)\n",
    "print(Y_pred)\n",
    "print(Y_true)\n",
    "print(np.sum(Y_pred==Y_true)/Y_true.shape[0])\n",
    "\n",
    "print( 'f1_score:{}'.format(f1_score(Y_true, Y_pred, average='weighted')) )\n",
    "print( 'adjusted_rand_score:{}'.format(adjusted_rand_score(Y_true, Y_pred)) )"
   ]
  },
  {
   "cell_type": "markdown",
   "metadata": {
    "heading_collapsed": true
   },
   "source": [
    "# wine"
   ]
  },
  {
   "cell_type": "code",
   "execution_count": 53,
   "metadata": {
    "hidden": true
   },
   "outputs": [],
   "source": [
    "df=pd.read_csv('./wine.csv', header=None)\n",
    "X=df.iloc[1:,:-1].values.astype(np.float)\n",
    "Y_true=df.iloc[1:,-1].values.astype(np.int)\n",
    "Y_set=list(set(Y_true))\n",
    "Y_map={Y_set[i]:i for i in range(len(Y_set))}\n",
    "Y_true=np.array([Y_map[y] for y in Y_true])"
   ]
  },
  {
   "cell_type": "code",
   "execution_count": 20,
   "metadata": {
    "collapsed": true,
    "hidden": true
   },
   "outputs": [
    {
     "name": "stdout",
     "output_type": "stream",
     "text": [
      "[ 0  0  0  0  0  0  0  0  0  0  0  0  0  0  0  0  0  0  0  0  0  0  0  0\n",
      "  0  0  0  0  0  0  0  0  0  0  0  0  0  0  0  0  0  0  0  0  0  0  0  0\n",
      "  0  0  0  0  0  0  0  0  0  0  0  1  2  2  0  1  2  0  1  1  2  0  2  0\n",
      "  2  0  0  1  1  2  0 -2  1  1  2  2 -2  1  2  2  2  1  2  2  2  1  1  0\n",
      "  2  1  1  1  1  1 -2  1  1  2  1  2  1 -2  0  1  2  2 -2  2  1  1  2  1\n",
      " -2 -2 -2  0 -2 -2 -2  2  2 -2  2  2  2  2  2  2  2  2 -2  2  2  2  2 -2\n",
      "  2  2  2  2  2  2  2  2  2  2  2  2  2  2  2  2  2  2  2  2  2  2  2  2\n",
      "  2  2  2  2  2  2  2  2  2  2]\n",
      "[0 0 0 0 0 0 0 0 0 0 0 0 0 0 0 0 0 0 0 0 0 0 0 0 0 0 0 0 0 0 0 0 0 0 0 0 0\n",
      " 0 0 0 0 0 0 0 0 0 0 0 0 0 0 0 0 0 0 0 0 0 0 1 1 1 1 1 1 1 1 1 1 1 1 1 1 1\n",
      " 1 1 1 1 1 1 1 1 1 1 1 1 1 1 1 1 1 1 1 1 1 1 1 1 1 1 1 1 1 1 1 1 1 1 1 1 1\n",
      " 1 1 1 1 1 1 1 1 1 1 1 1 1 1 1 1 1 1 1 2 2 2 2 2 2 2 2 2 2 2 2 2 2 2 2 2 2\n",
      " 2 2 2 2 2 2 2 2 2 2 2 2 2 2 2 2 2 2 2 2 2 2 2 2 2 2 2 2 2 2]\n",
      "0.7303370786516854\n",
      "f1_score:0.7235591038214944\n",
      "adjusted_rand_score:0.48409858326861815\n"
     ]
    },
    {
     "data": {
      "image/png": "[encoded data removed]",
      "text/plain": [
       "<Figure size 288x288 with 1 Axes>"
      ]
     },
     "metadata": {},
     "output_type": "display_data"
    }
   ],
   "source": [
    "import api\n",
    "imp.reload(api)\n",
    "\n",
    "Y_pred=api.DGSFC.fit( X,\n",
    "                      K_d=15,\n",
    "                      K_n=5,\n",
    "                      lamda=0.1,\n",
    "                      epsilon=0,\n",
    "                      plot=True,\n",
    "                      pnum=30,\n",
    "                      mp4=False,\n",
    "                      fps=4,\n",
    "                      figroot='/usr/data/gzy/DGC/results/circles',\n",
    "                      mp4name='circles'\n",
    "                     )\n",
    "\n",
    "Y_pred,Y_true=matchY(Y_pred,Y_true)\n",
    "print(Y_pred)\n",
    "print(Y_true)\n",
    "print(np.sum(Y_pred==Y_true)/Y_true.shape[0])\n",
    "\n",
    "print( 'f1_score:{}'.format(f1_score(Y_true, Y_pred, average='weighted')) )\n",
    "print( 'adjusted_rand_score:{}'.format(adjusted_rand_score(Y_true, Y_pred)) )"
   ]
  },
  {
   "cell_type": "markdown",
   "metadata": {
    "heading_collapsed": true
   },
   "source": [
    "# hepatitis"
   ]
  },
  {
   "cell_type": "code",
   "execution_count": 91,
   "metadata": {
    "hidden": true
   },
   "outputs": [],
   "source": [
    "df=pd.read_csv('./hepatitis.csv')\n",
    "X=df.iloc[:,1:].values.astype(np.float)\n",
    "Y_true=df.iloc[:,0].values.astype(np.int)\n",
    "Y_set=list(set(Y_true))\n",
    "Y_map={Y_set[i]:i for i in range(len(Y_set))}\n",
    "Y_true=np.array([Y_map[y] for y in Y_true])"
   ]
  },
  {
   "cell_type": "code",
   "execution_count": 105,
   "metadata": {
    "hidden": true
   },
   "outputs": [
    {
     "name": "stdout",
     "output_type": "stream",
     "text": [
      "[ 1  1  1  1  1  1  1  1  1  1  1  1  1  1  1  1  1  1  1  1  1  1  1  1\n",
      "  1  1  1  1  1  1  1  1  1  1  1  1  1  1  1  1  1  1  1  1  1  1  1  1\n",
      "  1  1  1  1  1  1  1  1  1  1  1  1  1  1  1  1  1  1  1  1  1  1  1  0\n",
      "  1  1  1  1  1  1  1  1  1 -2  1  1 -2  1  1  1  1  1  1  1  1 -2  1  1\n",
      " -2  1  1  1  1  1  1  1  1  1  1  1  1  1  1  1  1  1  1  1  1 -2  1  1\n",
      "  1  1  1  1  1 -2  1  1 -2  1  1  1  1  1  1  1  1 -2  1  1  1  1]\n",
      "[1 1 1 1 1 0 1 1 1 1 1 1 1 1 1 1 1 1 1 1 1 1 1 1 1 1 1 1 1 0 1 1 1 0 1 1 1\n",
      " 1 1 1 1 1 1 1 1 1 1 1 1 1 1 1 1 1 1 1 1 1 1 1 1 1 1 0 1 1 1 0 1 1 1 0 1 1\n",
      " 1 1 1 1 1 1 0 0 0 1 1 0 1 0 1 1 1 0 1 0 1 1 1 0 1 1 1 0 1 0 1 1 1 1 1 1 1\n",
      " 0 1 1 1 1 1 0 1 0 1 0 1 1 0 1 1 1 0 1 1 1 0 0 1 1 1 0 1 1 1 0]\n",
      "0.8028169014084507\n",
      "f1_score:0.7550075104801051\n",
      "adjusted_rand_score:0.21629615588785034\n"
     ]
    },
    {
     "name": "stderr",
     "output_type": "stream",
     "text": [
      "../utils/topo_graph.py:63: RuntimeWarning:\n",
      "\n",
      "invalid value encountered in true_divide\n",
      "\n"
     ]
    },
    {
     "data": {
      "image/png": "[encoded data removed]",
      "text/plain": [
       "<Figure size 288x288 with 1 Axes>"
      ]
     },
     "metadata": {},
     "output_type": "display_data"
    }
   ],
   "source": [
    "import api\n",
    "imp.reload(api)\n",
    "\n",
    "Y_pred=api.DGSFC.fit( X,\n",
    "                      K_d=30,\n",
    "                      K_n=22,\n",
    "                      lamda=0.2,\n",
    "                      epsilon=0,\n",
    "                      plot=True,\n",
    "                      pnum=30,\n",
    "                      mp4=False,\n",
    "                      fps=4,\n",
    "                      figroot='/usr/data/gzy/DGC/results/circles',\n",
    "                      mp4name='circles'\n",
    "                     )\n",
    "\n",
    "Y_pred,Y_true=matchY(Y_pred,Y_true)\n",
    "print(Y_pred)\n",
    "print(Y_true)\n",
    "print(np.sum(Y_pred==Y_true)/Y_true.shape[0])\n",
    "\n",
    "print( 'f1_score:{}'.format(f1_score(Y_true, Y_pred, average='weighted')) )\n",
    "print( 'adjusted_rand_score:{}'.format(adjusted_rand_score(Y_true, Y_pred)) )"
   ]
  },
  {
   "cell_type": "code",
   "execution_count": 106,
   "metadata": {
    "hidden": true
   },
   "outputs": [],
   "source": [
    "import hdbscan"
   ]
  },
  {
   "cell_type": "code",
   "execution_count": 120,
   "metadata": {
    "collapsed": true,
    "hidden": true
   },
   "outputs": [
    {
     "name": "stdout",
     "output_type": "stream",
     "text": [
      "[-1 -1 -1 -1 -1 -1 -1  1 -1  0 -1  1 -1  1 -1 -1 -1 -1  1 -1 -1  0 -1 -1\n",
      " -1  1 -1 -1  1 -1  1 -1 -1 -1 -1 -1  0 -1 -1 -1 -1 -1 -1  1 -1  1 -1  1\n",
      "  1 -1  0 -1  1 -1 -1  1 -1 -1 -1 -1  1  1 -1 -1 -1  1 -1 -1  1 -1 -1 -1\n",
      " -1  1  1 -1 -1 -1 -1 -1 -1 -1 -1 -1 -1  1 -1 -1 -1 -1 -1  1 -1 -1 -1 -1\n",
      " -1  1  1 -1 -1 -1 -1 -1  1  1 -1 -1  1 -1  1 -1 -1  1 -1 -1  0 -1 -1 -1\n",
      " -1 -1 -1 -1 -1 -1  1 -1 -1 -1 -1 -1 -1 -1 -1 -1  1 -1 -1  1  1 -1]\n"
     ]
    }
   ],
   "source": [
    "clusterer = hdbscan.HDBSCAN(min_cluster_size=5, gen_min_span_tree=True,cluster_selection_epsilon=10)\n",
    "clusterer.fit(X)\n",
    "Y_pred=clusterer.labels_\n",
    "print(Y_pred)"
   ]
  },
  {
   "cell_type": "markdown",
   "metadata": {
    "heading_collapsed": true
   },
   "source": [
    "# seismic-bumps"
   ]
  },
  {
   "cell_type": "code",
   "execution_count": 134,
   "metadata": {
    "hidden": true
   },
   "outputs": [],
   "source": [
    "df = pd.read_csv('./seismic-bumps.txt',sep = ',',header=None)\n",
    "for col in [0,1,2,7]:\n",
    "    sym=list(set(df.iloc[:,col]))\n",
    "    for i in range(len(sym)):\n",
    "        df.iloc[df.iloc[:,col]==sym[i],col]=i"
   ]
  },
  {
   "cell_type": "code",
   "execution_count": 136,
   "metadata": {
    "hidden": true
   },
   "outputs": [],
   "source": [
    "X=df.iloc[:,:-1].values.astype(np.float)\n",
    "Y_true=df.iloc[:,-1].values.astype(np.int)\n",
    "Y_set=list(set(Y_true))\n",
    "Y_map={Y_set[i]:i for i in range(len(Y_set))}\n",
    "Y_true=np.array([Y_map[y] for y in Y_true])"
   ]
  },
  {
   "cell_type": "code",
   "execution_count": 143,
   "metadata": {
    "collapsed": true,
    "hidden": true
   },
   "outputs": [
    {
     "name": "stderr",
     "output_type": "stream",
     "text": [
      "../utils/kde.py:9: RuntimeWarning:\n",
      "\n",
      "divide by zero encountered in true_divide\n",
      "\n",
      "../utils/kde.py:26: RuntimeWarning:\n",
      "\n",
      "invalid value encountered in matmul\n",
      "\n",
      "../utils/topo_graph.py:63: RuntimeWarning:\n",
      "\n",
      "invalid value encountered in true_divide\n",
      "\n"
     ]
    },
    {
     "name": "stdout",
     "output_type": "stream",
     "text": [
      "[ 0 -2 -2 ... -2 -2 -2]\n",
      "[0 0 0 ... 0 0 0]\n",
      "0.0007739938080495357\n",
      "f1_score:0.0015431408421893787\n",
      "adjusted_rand_score:0.009403710725572337\n"
     ]
    },
    {
     "data": {
      "image/png": "[encoded data removed]",
      "text/plain": [
       "<Figure size 288x288 with 1 Axes>"
      ]
     },
     "metadata": {},
     "output_type": "display_data"
    }
   ],
   "source": [
    "import api\n",
    "imp.reload(api)\n",
    "\n",
    "Y_pred=api.DGSFC.fit( X,\n",
    "                      K_d=50,\n",
    "                      K_n=50,\n",
    "                      lamda=0.2,\n",
    "                      epsilon=0,\n",
    "                      plot=True,\n",
    "                      pnum=30,\n",
    "                      mp4=False,\n",
    "                      fps=4,\n",
    "                      figroot='/usr/data/gzy/DGC/results/circles',\n",
    "                      mp4name='circles'\n",
    "                     )\n",
    "\n",
    "Y_pred,Y_true=matchY(Y_pred,Y_true)\n",
    "print(Y_pred)\n",
    "print(Y_true)\n",
    "print(np.sum(Y_pred==Y_true)/Y_true.shape[0])\n",
    "\n",
    "print( 'f1_score:{}'.format(f1_score(Y_true, Y_pred, average='weighted')) )\n",
    "print( 'adjusted_rand_score:{}'.format(adjusted_rand_score(Y_true, Y_pred)) )"
   ]
  },
  {
   "cell_type": "markdown",
   "metadata": {
    "heading_collapsed": true
   },
   "source": [
    "# real image segmentation"
   ]
  },
  {
   "cell_type": "code",
   "execution_count": 2,
   "metadata": {
    "hidden": true
   },
   "outputs": [],
   "source": [
    "import matplotlib.image as imgplt\n",
    "X = imgplt.imread('./westlake.jpg')\n",
    "X = X.reshape(-1,3)"
   ]
  },
  {
   "cell_type": "code",
   "execution_count": 4,
   "metadata": {
    "hidden": true
   },
   "outputs": [
    {
     "name": "stderr",
     "output_type": "stream",
     "text": [
      "../utils/topo_graph.py:53: RuntimeWarning:\n",
      "\n",
      "invalid value encountered in true_divide\n",
      "\n"
     ]
    },
    {
     "data": {
      "image/png": "[encoded data removed]",
      "text/plain": [
       "<Figure size 288x288 with 1 Axes>"
      ]
     },
     "metadata": {},
     "output_type": "display_data"
    }
   ],
   "source": [
    "import api\n",
    "imp.reload(api)\n",
    "\n",
    "X_pred=api.DGSFC.fit( X,\n",
    "                      K_d=10,\n",
    "                      search_n=5,\n",
    "                      ratio=0.1,\n",
    "                      level=1,\n",
    "                      plot=True,\n",
    "                      pnum=30,\n",
    "                      mp4=False,\n",
    "                      fps=4,\n",
    "                      figroot='/usr/data/gzy/DGC/results/circles',\n",
    "                      mp4name='circles'\n",
    "                     )"
   ]
  }
 ],
 "metadata": {
  "kernelspec": {
   "display_name": "Python 3",
   "language": "python",
   "name": "python3"
  },
  "language_info": {
   "codemirror_mode": {
    "name": "ipython",
    "version": 3
   },
   "file_extension": ".py",
   "mimetype": "text/x-python",
   "name": "python",
   "nbconvert_exporter": "python",
   "pygments_lexer": "ipython3",
   "version": "3.6.10"
  },
  "toc": {
   "base_numbering": 1,
   "nav_menu": {},
   "number_sections": true,
   "sideBar": true,
   "skip_h1_title": false,
   "title_cell": "Table of Contents",
   "title_sidebar": "Contents",
   "toc_cell": true,
   "toc_position": {},
   "toc_section_display": true,
   "toc_window_display": false
  },
  "varInspector": {
   "cols": {
    "lenName": 16,
    "lenType": 16,
    "lenVar": 40
   },
   "kernels_config": {
    "python": {
     "delete_cmd_postfix": "",
     "delete_cmd_prefix": "del ",
     "library": "var_list.py",
     "varRefreshCmd": "print(var_dic_list())"
    },
    "r": {
     "delete_cmd_postfix": ") ",
     "delete_cmd_prefix": "rm(",
     "library": "var_list.r",
     "varRefreshCmd": "cat(var_dic_list()) "
    }
   },
   "types_to_exclude": [
    "module",
    "function",
    "builtin_function_or_method",
    "instance",
    "_Feature"
   ],
   "window_display": false
  }
 },
 "nbformat": 4,
 "nbformat_minor": 4
}
