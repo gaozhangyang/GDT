{
 "cells": [
  {
   "cell_type": "markdown",
   "metadata": {},
   "source": [
    "- you can test each algorithm on each dataset by excuting the corresponding section"
   ]
  },
  {
   "cell_type": "code",
   "execution_count": 1,
   "metadata": {},
   "outputs": [],
   "source": [
    "import numpy as np\n",
    "import matplotlib.pyplot as plt\n",
    "import sys\n",
    "sys.path.append('../utils/')\n",
    "import imp\n",
    "import plot_tools\n",
    "imp.reload(plot_tools)\n",
    "import pandas as pd\n",
    "import networkx as nx\n",
    "from measures import measures_calculator,matchY\n",
    "from torchvision import datasets\n",
    "\n",
    "import api\n",
    "imp.reload(api)\n",
    "import time\n",
    "\n",
    "def set_seed(seed=1):\n",
    "    import random\n",
    "    random.seed(seed)\n",
    "    np.random.seed(seed)"
   ]
  },
  {
   "cell_type": "code",
   "execution_count": 2,
   "metadata": {},
   "outputs": [],
   "source": [
    "class DataLoader:\n",
    "    def __init__(self):\n",
    "        pass\n",
    "    \n",
    "    @classmethod\n",
    "    def load(self,name):\n",
    "        \n",
    "        if name=='face':\n",
    "            from sklearn.datasets import fetch_olivetti_faces\n",
    "            X, Y_true = fetch_olivetti_faces(return_X_y=True, shuffle=True, random_state=0)\n",
    "            return X, Y_true\n",
    "        \n",
    "        if name== 'pulsar':\n",
    "            df=pd.read_csv('./real_data/Pulsar.csv', header=None)\n",
    "            X=df.iloc[:,:-1].values.astype(np.float)\n",
    "            Y_true=df.iloc[:,-1].values.astype(np.float)\n",
    "            return X,Y_true\n",
    "        \n",
    "        if name== 'sloan':\n",
    "            df=pd.read_csv('./real_data/Sloan.csv', header=None)\n",
    "            X=df.iloc[:,:-1].values.astype(np.float)\n",
    "            Y_true = df.iloc[:,-1].values\n",
    "            Y_true[Y_true == 'STAR'] = 0.\n",
    "            Y_true[Y_true == 'GALAXY'] = 1.\n",
    "            Y_true[Y_true == 'QSO'] = 2.\n",
    "            return X,Y_true\n",
    "        \n",
    "        if name== 'bio':\n",
    "            df=pd.read_csv('./real_data/bio.csv', header=None)\n",
    "            X=df.iloc[:,:-1].values.astype(np.float)\n",
    "            Y_true=df.iloc[:,-1].values.astype(np.float)\n",
    "            return X,Y_true\n",
    "        \n",
    "        if name== 'phy':\n",
    "            df=pd.read_csv('./real_data/phy.csv', header=None,sep='\\t')\n",
    "            missing=[19,20,21,43,44,45,28,54]\n",
    "            df.iloc[:,missing]=df.iloc[:,missing].fillna(df.iloc[:,missing].mean())\n",
    "            X=df.iloc[:,:-1].values.astype(np.float)\n",
    "            Y_true=df.iloc[:,-1].values.astype(np.float)\n",
    "            return X,Y_true\n",
    "        \n",
    "        if name== 'rna':\n",
    "            df=pd.read_csv('./real_data/codrna.csv', header=None)\n",
    "            df=df.fillna(0)\n",
    "            X=df.iloc[:,:-1].values.astype(np.float)\n",
    "            Y_true=df.iloc[:,-1].values.astype(np.float)\n",
    "            Y_true[Y_true == -1] = 0.\n",
    "            return X,Y_true\n",
    "    \n",
    "        if name=='mnist_784':\n",
    "            dataset2 = datasets.MNIST('../data', train=True, download=True)\n",
    "            N=dataset2.test_data.shape[0]\n",
    "            X=dataset2.test_data.numpy().reshape(N,784)/255\n",
    "            Y_true=dataset2.test_labels.numpy()\n",
    "            return X,Y_true\n",
    "        \n",
    "        if name=='fmnist_784':\n",
    "            dataset2 = datasets.FashionMNIST('../data', train=True, download=True)\n",
    "            N=dataset2.test_data.shape[0]\n",
    "            X=dataset2.test_data.numpy().reshape(N,784)/255\n",
    "            Y_true=dataset2.test_labels.numpy()\n",
    "            return X,Y_true"
   ]
  },
  {
   "cell_type": "markdown",
   "metadata": {},
   "source": [
    "# GDT"
   ]
  },
  {
   "cell_type": "markdown",
   "metadata": {
    "heading_collapsed": true
   },
   "source": [
    "## phy"
   ]
  },
  {
   "cell_type": "code",
   "execution_count": 14,
   "metadata": {
    "hidden": true
   },
   "outputs": [
    {
     "name": "stdout",
     "output_type": "stream",
     "text": [
      "72.69545912742615\n"
     ]
    },
    {
     "data": {
      "text/html": [
       "<div>\n",
       "<style scoped>\n",
       "    .dataframe tbody tr th:only-of-type {\n",
       "        vertical-align: middle;\n",
       "    }\n",
       "\n",
       "    .dataframe tbody tr th {\n",
       "        vertical-align: top;\n",
       "    }\n",
       "\n",
       "    .dataframe thead th {\n",
       "        text-align: right;\n",
       "    }\n",
       "</style>\n",
       "<table border=\"1\" class=\"dataframe\">\n",
       "  <thead>\n",
       "    <tr style=\"text-align: right;\">\n",
       "      <th></th>\n",
       "      <th>f1</th>\n",
       "      <th>ARI</th>\n",
       "      <th>ACC</th>\n",
       "      <th>NMI</th>\n",
       "      <th>cover_rate</th>\n",
       "      <th>classes</th>\n",
       "    </tr>\n",
       "  </thead>\n",
       "  <tbody>\n",
       "    <tr>\n",
       "      <th>0</th>\n",
       "      <td>0.48278</td>\n",
       "      <td>0.005008</td>\n",
       "      <td>0.45186</td>\n",
       "      <td>0.007772</td>\n",
       "      <td>1.0</td>\n",
       "      <td>3.0</td>\n",
       "    </tr>\n",
       "  </tbody>\n",
       "</table>\n",
       "</div>"
      ],
      "text/plain": [
       "        f1       ARI      ACC       NMI  cover_rate  classes\n",
       "0  0.48278  0.005008  0.45186  0.007772         1.0      3.0"
      ]
     },
     "execution_count": 14,
     "metadata": {},
     "output_type": "execute_result"
    }
   ],
   "source": [
    "X,Y_true=DataLoader.load('phy')\n",
    "\n",
    "t1=time.time()\n",
    "Y_pred= api.DGSFC.fit( X,\n",
    "                      K_d=20,\n",
    "                      K_s=15,\n",
    "                      alpha=0.1,\n",
    "                      epsilon=0,\n",
    "                      plot=False,\n",
    "                      scale=True\n",
    "                     )\n",
    "t2=time.time()\n",
    "print(t2-t1)\n",
    "Y_pred,Y_true=matchY(Y_pred,Y_true)\n",
    "result=measures_calculator(Y_true,Y_pred)\n",
    "result"
   ]
  },
  {
   "cell_type": "markdown",
   "metadata": {
    "heading_collapsed": true
   },
   "source": [
    "## face"
   ]
  },
  {
   "cell_type": "code",
   "execution_count": 94,
   "metadata": {
    "hidden": true
   },
   "outputs": [
    {
     "data": {
      "text/html": [
       "<div>\n",
       "<style scoped>\n",
       "    .dataframe tbody tr th:only-of-type {\n",
       "        vertical-align: middle;\n",
       "    }\n",
       "\n",
       "    .dataframe tbody tr th {\n",
       "        vertical-align: top;\n",
       "    }\n",
       "\n",
       "    .dataframe thead th {\n",
       "        text-align: right;\n",
       "    }\n",
       "</style>\n",
       "<table border=\"1\" class=\"dataframe\">\n",
       "  <thead>\n",
       "    <tr style=\"text-align: right;\">\n",
       "      <th></th>\n",
       "      <th>f1</th>\n",
       "      <th>ARI</th>\n",
       "      <th>ACC</th>\n",
       "      <th>NMI</th>\n",
       "      <th>cover_rate</th>\n",
       "      <th>classes</th>\n",
       "    </tr>\n",
       "  </thead>\n",
       "  <tbody>\n",
       "    <tr>\n",
       "      <th>0</th>\n",
       "      <td>0.614231</td>\n",
       "      <td>0.416394</td>\n",
       "      <td>0.6175</td>\n",
       "      <td>0.765858</td>\n",
       "      <td>1.0</td>\n",
       "      <td>38.0</td>\n",
       "    </tr>\n",
       "  </tbody>\n",
       "</table>\n",
       "</div>"
      ],
      "text/plain": [
       "         f1       ARI     ACC       NMI  cover_rate  classes\n",
       "0  0.614231  0.416394  0.6175  0.765858         1.0     38.0"
      ]
     },
     "execution_count": 94,
     "metadata": {},
     "output_type": "execute_result"
    },
    {
     "data": {
      "image/png": "[encoded data removed]",
      "text/plain": [
       "<Figure size 288x288 with 1 Axes>"
      ]
     },
     "metadata": {},
     "output_type": "display_data"
    }
   ],
   "source": [
    "X,Y_true=DataLoader.load('face')\n",
    "\n",
    "Y_pred = api.DGSFC.fit( X,\n",
    "                      K_d=10,\n",
    "                      K_s=3,\n",
    "                      alpha=0.50,\n",
    "                      epsilon=0,\n",
    "                      plot=True,\n",
    "                      scale=True\n",
    "                     )\n",
    "\n",
    "Y_pred,Y_true=matchY(Y_pred,Y_true)\n",
    "result=measures_calculator(Y_true,Y_pred)\n",
    "result"
   ]
  },
  {
   "cell_type": "markdown",
   "metadata": {},
   "source": [
    "## mnist"
   ]
  },
  {
   "cell_type": "code",
   "execution_count": 5,
   "metadata": {},
   "outputs": [
    {
     "name": "stderr",
     "output_type": "stream",
     "text": [
      "/usr/data/software/anaconda3/envs/ML/lib/python3.6/site-packages/torchvision/datasets/mnist.py:63: UserWarning:\n",
      "\n",
      "test_data has been renamed data\n",
      "\n",
      "/usr/data/software/anaconda3/envs/ML/lib/python3.6/site-packages/torchvision/datasets/mnist.py:53: UserWarning:\n",
      "\n",
      "test_labels has been renamed targets\n",
      "\n"
     ]
    },
    {
     "name": "stdout",
     "output_type": "stream",
     "text": [
      "386.01415371894836\n"
     ]
    },
    {
     "data": {
      "text/html": [
       "<div>\n",
       "<style scoped>\n",
       "    .dataframe tbody tr th:only-of-type {\n",
       "        vertical-align: middle;\n",
       "    }\n",
       "\n",
       "    .dataframe tbody tr th {\n",
       "        vertical-align: top;\n",
       "    }\n",
       "\n",
       "    .dataframe thead th {\n",
       "        text-align: right;\n",
       "    }\n",
       "</style>\n",
       "<table border=\"1\" class=\"dataframe\">\n",
       "  <thead>\n",
       "    <tr style=\"text-align: right;\">\n",
       "      <th></th>\n",
       "      <th>f1</th>\n",
       "      <th>ARI</th>\n",
       "      <th>ACC</th>\n",
       "      <th>NMI</th>\n",
       "      <th>cover_rate</th>\n",
       "      <th>classes</th>\n",
       "    </tr>\n",
       "  </thead>\n",
       "  <tbody>\n",
       "    <tr>\n",
       "      <th>0</th>\n",
       "      <td>0.430052</td>\n",
       "      <td>0.389939</td>\n",
       "      <td>0.449017</td>\n",
       "      <td>0.505231</td>\n",
       "      <td>1.0</td>\n",
       "      <td>10.0</td>\n",
       "    </tr>\n",
       "  </tbody>\n",
       "</table>\n",
       "</div>"
      ],
      "text/plain": [
       "         f1       ARI       ACC       NMI  cover_rate  classes\n",
       "0  0.430052  0.389939  0.449017  0.505231         1.0     10.0"
      ]
     },
     "execution_count": 5,
     "metadata": {},
     "output_type": "execute_result"
    }
   ],
   "source": [
    "X,Y_true=DataLoader.load('mnist_784')\n",
    "\n",
    "t1=time.time()\n",
    "Y_pred = api.DGSFC.fit( X,\n",
    "                      K_d=50,\n",
    "                      K_s=50,\n",
    "                      Cluster=10,\n",
    "                      alpha=0,\n",
    "                      plot=False,\n",
    "                      scale=True\n",
    "                     )\n",
    "t2=time.time()\n",
    "print(t2-t1)\n",
    "\n",
    "Y_pred,Y_true=matchY(Y_pred,Y_true)\n",
    "result=measures_calculator(Y_true,Y_pred)\n",
    "result"
   ]
  },
  {
   "cell_type": "code",
   "execution_count": 15,
   "metadata": {},
   "outputs": [
    {
     "name": "stderr",
     "output_type": "stream",
     "text": [
      "/usr/data/software/anaconda3/envs/ML/lib/python3.6/site-packages/torchvision/datasets/mnist.py:63: UserWarning:\n",
      "\n",
      "test_data has been renamed data\n",
      "\n",
      "/usr/data/software/anaconda3/envs/ML/lib/python3.6/site-packages/torchvision/datasets/mnist.py:53: UserWarning:\n",
      "\n",
      "test_labels has been renamed targets\n",
      "\n"
     ]
    },
    {
     "name": "stdout",
     "output_type": "stream",
     "text": [
      "377.25592255592346\n"
     ]
    },
    {
     "data": {
      "text/html": [
       "<div>\n",
       "<style scoped>\n",
       "    .dataframe tbody tr th:only-of-type {\n",
       "        vertical-align: middle;\n",
       "    }\n",
       "\n",
       "    .dataframe tbody tr th {\n",
       "        vertical-align: top;\n",
       "    }\n",
       "\n",
       "    .dataframe thead th {\n",
       "        text-align: right;\n",
       "    }\n",
       "</style>\n",
       "<table border=\"1\" class=\"dataframe\">\n",
       "  <thead>\n",
       "    <tr style=\"text-align: right;\">\n",
       "      <th></th>\n",
       "      <th>f1</th>\n",
       "      <th>ARI</th>\n",
       "      <th>ACC</th>\n",
       "      <th>NMI</th>\n",
       "      <th>cover_rate</th>\n",
       "      <th>classes</th>\n",
       "    </tr>\n",
       "  </thead>\n",
       "  <tbody>\n",
       "    <tr>\n",
       "      <th>0</th>\n",
       "      <td>0.527846</td>\n",
       "      <td>0.421443</td>\n",
       "      <td>0.550983</td>\n",
       "      <td>0.555372</td>\n",
       "      <td>1.0</td>\n",
       "      <td>11.0</td>\n",
       "    </tr>\n",
       "  </tbody>\n",
       "</table>\n",
       "</div>"
      ],
      "text/plain": [
       "         f1       ARI       ACC       NMI  cover_rate  classes\n",
       "0  0.527846  0.421443  0.550983  0.555372         1.0     11.0"
      ]
     },
     "execution_count": 15,
     "metadata": {},
     "output_type": "execute_result"
    }
   ],
   "source": [
    "X,Y_true=DataLoader.load('mnist_784')\n",
    "\n",
    "t1=time.time()\n",
    "Y_pred = api.DGSFC.fit( X,\n",
    "                      K_d=50,\n",
    "                      K_s=20,\n",
    "                      alpha=0.20,\n",
    "                      epsilon=0,\n",
    "                      plot=False,\n",
    "                      scale=True\n",
    "                     )\n",
    "t2=time.time()\n",
    "print(t2-t1)\n",
    "\n",
    "Y_pred,Y_true=matchY(Y_pred,Y_true)\n",
    "result=measures_calculator(Y_true,Y_pred)\n",
    "result"
   ]
  },
  {
   "cell_type": "code",
   "execution_count": 19,
   "metadata": {},
   "outputs": [
    {
     "name": "stderr",
     "output_type": "stream",
     "text": [
      "/usr/data/software/anaconda3/envs/ML/lib/python3.6/site-packages/torchvision/datasets/mnist.py:63: UserWarning:\n",
      "\n",
      "test_data has been renamed data\n",
      "\n",
      "/usr/data/software/anaconda3/envs/ML/lib/python3.6/site-packages/torchvision/datasets/mnist.py:53: UserWarning:\n",
      "\n",
      "test_labels has been renamed targets\n",
      "\n"
     ]
    },
    {
     "name": "stdout",
     "output_type": "stream",
     "text": [
      "463.9547085762024\n"
     ]
    },
    {
     "data": {
      "text/html": [
       "<div>\n",
       "<style scoped>\n",
       "    .dataframe tbody tr th:only-of-type {\n",
       "        vertical-align: middle;\n",
       "    }\n",
       "\n",
       "    .dataframe tbody tr th {\n",
       "        vertical-align: top;\n",
       "    }\n",
       "\n",
       "    .dataframe thead th {\n",
       "        text-align: right;\n",
       "    }\n",
       "</style>\n",
       "<table border=\"1\" class=\"dataframe\">\n",
       "  <thead>\n",
       "    <tr style=\"text-align: right;\">\n",
       "      <th></th>\n",
       "      <th>f1</th>\n",
       "      <th>ARI</th>\n",
       "      <th>ACC</th>\n",
       "      <th>NMI</th>\n",
       "      <th>cover_rate</th>\n",
       "      <th>classes</th>\n",
       "    </tr>\n",
       "  </thead>\n",
       "  <tbody>\n",
       "    <tr>\n",
       "      <th>0</th>\n",
       "      <td>0.160962</td>\n",
       "      <td>0.152869</td>\n",
       "      <td>0.249033</td>\n",
       "      <td>0.374446</td>\n",
       "      <td>1.0</td>\n",
       "      <td>6.0</td>\n",
       "    </tr>\n",
       "  </tbody>\n",
       "</table>\n",
       "</div>"
      ],
      "text/plain": [
       "         f1       ARI       ACC       NMI  cover_rate  classes\n",
       "0  0.160962  0.152869  0.249033  0.374446         1.0      6.0"
      ]
     },
     "execution_count": 19,
     "metadata": {},
     "output_type": "execute_result"
    }
   ],
   "source": [
    "X,Y_true=DataLoader.load('fmnist_784')\n",
    "\n",
    "t1=time.time()\n",
    "Y_pred = api.DGSFC.fit( X,\n",
    "                      K_d=50,\n",
    "                      K_s=15,\n",
    "                      alpha=0.10,\n",
    "                      epsilon=0,\n",
    "                      plot=False,\n",
    "                      scale=True\n",
    "                     )\n",
    "t2=time.time()\n",
    "print(t2-t1)\n",
    "\n",
    "Y_pred,Y_true=matchY(Y_pred,Y_true)\n",
    "result=measures_calculator(Y_true,Y_pred)\n",
    "result"
   ]
  },
  {
   "cell_type": "code",
   "execution_count": 4,
   "metadata": {},
   "outputs": [
    {
     "name": "stderr",
     "output_type": "stream",
     "text": [
      "/usr/data/software/anaconda3/envs/ML/lib/python3.6/site-packages/torchvision/datasets/mnist.py:63: UserWarning:\n",
      "\n",
      "test_data has been renamed data\n",
      "\n",
      "/usr/data/software/anaconda3/envs/ML/lib/python3.6/site-packages/torchvision/datasets/mnist.py:53: UserWarning:\n",
      "\n",
      "test_labels has been renamed targets\n",
      "\n"
     ]
    },
    {
     "name": "stdout",
     "output_type": "stream",
     "text": [
      "508.6083252429962\n"
     ]
    },
    {
     "data": {
      "text/html": [
       "<div>\n",
       "<style scoped>\n",
       "    .dataframe tbody tr th:only-of-type {\n",
       "        vertical-align: middle;\n",
       "    }\n",
       "\n",
       "    .dataframe tbody tr th {\n",
       "        vertical-align: top;\n",
       "    }\n",
       "\n",
       "    .dataframe thead th {\n",
       "        text-align: right;\n",
       "    }\n",
       "</style>\n",
       "<table border=\"1\" class=\"dataframe\">\n",
       "  <thead>\n",
       "    <tr style=\"text-align: right;\">\n",
       "      <th></th>\n",
       "      <th>f1</th>\n",
       "      <th>ARI</th>\n",
       "      <th>ACC</th>\n",
       "      <th>NMI</th>\n",
       "      <th>cover_rate</th>\n",
       "      <th>classes</th>\n",
       "    </tr>\n",
       "  </thead>\n",
       "  <tbody>\n",
       "    <tr>\n",
       "      <th>0</th>\n",
       "      <td>0.349675</td>\n",
       "      <td>0.244713</td>\n",
       "      <td>0.3836</td>\n",
       "      <td>0.425367</td>\n",
       "      <td>1.0</td>\n",
       "      <td>11.0</td>\n",
       "    </tr>\n",
       "  </tbody>\n",
       "</table>\n",
       "</div>"
      ],
      "text/plain": [
       "         f1       ARI     ACC       NMI  cover_rate  classes\n",
       "0  0.349675  0.244713  0.3836  0.425367         1.0     11.0"
      ]
     },
     "execution_count": 4,
     "metadata": {},
     "output_type": "execute_result"
    }
   ],
   "source": [
    "X,Y_true=DataLoader.load('fmnist_784')\n",
    "\n",
    "t1=time.time()\n",
    "Y_pred = api.DGSFC.fit( X,\n",
    "                      K_d=50,\n",
    "                      K_s=10,\n",
    "                      alpha=0.20,\n",
    "                      epsilon=0,\n",
    "                      plot=False,\n",
    "                      scale=True\n",
    "                     )\n",
    "t2=time.time()\n",
    "print(t2-t1)\n",
    "\n",
    "Y_pred,Y_true=matchY(Y_pred,Y_true)\n",
    "result=measures_calculator(Y_true,Y_pred)\n",
    "result"
   ]
  },
  {
   "cell_type": "code",
   "execution_count": 18,
   "metadata": {},
   "outputs": [
    {
     "name": "stderr",
     "output_type": "stream",
     "text": [
      "/usr/data/software/anaconda3/envs/ML/lib/python3.6/site-packages/torchvision/datasets/mnist.py:63: UserWarning:\n",
      "\n",
      "test_data has been renamed data\n",
      "\n",
      "/usr/data/software/anaconda3/envs/ML/lib/python3.6/site-packages/torchvision/datasets/mnist.py:53: UserWarning:\n",
      "\n",
      "test_labels has been renamed targets\n",
      "\n"
     ]
    },
    {
     "name": "stdout",
     "output_type": "stream",
     "text": [
      "426.7949380874634\n"
     ]
    },
    {
     "data": {
      "text/html": [
       "<div>\n",
       "<style scoped>\n",
       "    .dataframe tbody tr th:only-of-type {\n",
       "        vertical-align: middle;\n",
       "    }\n",
       "\n",
       "    .dataframe tbody tr th {\n",
       "        vertical-align: top;\n",
       "    }\n",
       "\n",
       "    .dataframe thead th {\n",
       "        text-align: right;\n",
       "    }\n",
       "</style>\n",
       "<table border=\"1\" class=\"dataframe\">\n",
       "  <thead>\n",
       "    <tr style=\"text-align: right;\">\n",
       "      <th></th>\n",
       "      <th>f1</th>\n",
       "      <th>ARI</th>\n",
       "      <th>ACC</th>\n",
       "      <th>NMI</th>\n",
       "      <th>cover_rate</th>\n",
       "      <th>classes</th>\n",
       "    </tr>\n",
       "  </thead>\n",
       "  <tbody>\n",
       "    <tr>\n",
       "      <th>0</th>\n",
       "      <td>0.455516</td>\n",
       "      <td>0.258904</td>\n",
       "      <td>0.460967</td>\n",
       "      <td>0.427272</td>\n",
       "      <td>1.0</td>\n",
       "      <td>11.0</td>\n",
       "    </tr>\n",
       "  </tbody>\n",
       "</table>\n",
       "</div>"
      ],
      "text/plain": [
       "         f1       ARI       ACC       NMI  cover_rate  classes\n",
       "0  0.455516  0.258904  0.460967  0.427272         1.0     11.0"
      ]
     },
     "execution_count": 18,
     "metadata": {},
     "output_type": "execute_result"
    }
   ],
   "source": [
    "X,Y_true=DataLoader.load('fmnist_784')\n",
    "\n",
    "t1=time.time()\n",
    "Y_pred = api.DGSFC.fit( X,\n",
    "                      K_d=50,\n",
    "                      K_s=15,\n",
    "                      alpha=0.20,\n",
    "                      epsilon=0,\n",
    "                      plot=False,\n",
    "                      scale=True\n",
    "                     )\n",
    "t2=time.time()\n",
    "print(t2-t1)\n",
    "\n",
    "Y_pred,Y_true=matchY(Y_pred,Y_true)\n",
    "result=measures_calculator(Y_true,Y_pred)\n",
    "result"
   ]
  },
  {
   "cell_type": "code",
   "execution_count": 14,
   "metadata": {},
   "outputs": [
    {
     "name": "stderr",
     "output_type": "stream",
     "text": [
      "/usr/data/software/anaconda3/envs/ML/lib/python3.6/site-packages/torchvision/datasets/mnist.py:63: UserWarning:\n",
      "\n",
      "test_data has been renamed data\n",
      "\n",
      "/usr/data/software/anaconda3/envs/ML/lib/python3.6/site-packages/torchvision/datasets/mnist.py:53: UserWarning:\n",
      "\n",
      "test_labels has been renamed targets\n",
      "\n"
     ]
    },
    {
     "name": "stdout",
     "output_type": "stream",
     "text": [
      "430.2431261539459\n"
     ]
    },
    {
     "data": {
      "text/html": [
       "<div>\n",
       "<style scoped>\n",
       "    .dataframe tbody tr th:only-of-type {\n",
       "        vertical-align: middle;\n",
       "    }\n",
       "\n",
       "    .dataframe tbody tr th {\n",
       "        vertical-align: top;\n",
       "    }\n",
       "\n",
       "    .dataframe thead th {\n",
       "        text-align: right;\n",
       "    }\n",
       "</style>\n",
       "<table border=\"1\" class=\"dataframe\">\n",
       "  <thead>\n",
       "    <tr style=\"text-align: right;\">\n",
       "      <th></th>\n",
       "      <th>f1</th>\n",
       "      <th>ARI</th>\n",
       "      <th>ACC</th>\n",
       "      <th>NMI</th>\n",
       "      <th>cover_rate</th>\n",
       "      <th>classes</th>\n",
       "    </tr>\n",
       "  </thead>\n",
       "  <tbody>\n",
       "    <tr>\n",
       "      <th>0</th>\n",
       "      <td>0.414649</td>\n",
       "      <td>0.301442</td>\n",
       "      <td>0.427733</td>\n",
       "      <td>0.467637</td>\n",
       "      <td>1.0</td>\n",
       "      <td>11.0</td>\n",
       "    </tr>\n",
       "  </tbody>\n",
       "</table>\n",
       "</div>"
      ],
      "text/plain": [
       "         f1       ARI       ACC       NMI  cover_rate  classes\n",
       "0  0.414649  0.301442  0.427733  0.467637         1.0     11.0"
      ]
     },
     "execution_count": 14,
     "metadata": {},
     "output_type": "execute_result"
    }
   ],
   "source": [
    "X,Y_true=DataLoader.load('fmnist_784')\n",
    "\n",
    "t1=time.time()\n",
    "Y_pred = api.DGSFC.fit( X,\n",
    "                      K_d=50,\n",
    "                      K_s=20,\n",
    "                      alpha=0.20,\n",
    "                      epsilon=0,\n",
    "                      plot=False,\n",
    "                      scale=True\n",
    "                     )\n",
    "t2=time.time()\n",
    "print(t2-t1)\n",
    "\n",
    "Y_pred,Y_true=matchY(Y_pred,Y_true)\n",
    "result=measures_calculator(Y_true,Y_pred)\n",
    "result"
   ]
  },
  {
   "cell_type": "code",
   "execution_count": 6,
   "metadata": {},
   "outputs": [
    {
     "name": "stderr",
     "output_type": "stream",
     "text": [
      "/usr/data/software/anaconda3/envs/ML/lib/python3.6/site-packages/torchvision/datasets/mnist.py:63: UserWarning:\n",
      "\n",
      "test_data has been renamed data\n",
      "\n",
      "/usr/data/software/anaconda3/envs/ML/lib/python3.6/site-packages/torchvision/datasets/mnist.py:53: UserWarning:\n",
      "\n",
      "test_labels has been renamed targets\n",
      "\n"
     ]
    },
    {
     "name": "stdout",
     "output_type": "stream",
     "text": [
      "509.3201353549957\n"
     ]
    },
    {
     "data": {
      "text/html": [
       "<div>\n",
       "<style scoped>\n",
       "    .dataframe tbody tr th:only-of-type {\n",
       "        vertical-align: middle;\n",
       "    }\n",
       "\n",
       "    .dataframe tbody tr th {\n",
       "        vertical-align: top;\n",
       "    }\n",
       "\n",
       "    .dataframe thead th {\n",
       "        text-align: right;\n",
       "    }\n",
       "</style>\n",
       "<table border=\"1\" class=\"dataframe\">\n",
       "  <thead>\n",
       "    <tr style=\"text-align: right;\">\n",
       "      <th></th>\n",
       "      <th>f1</th>\n",
       "      <th>ARI</th>\n",
       "      <th>ACC</th>\n",
       "      <th>NMI</th>\n",
       "      <th>cover_rate</th>\n",
       "      <th>classes</th>\n",
       "    </tr>\n",
       "  </thead>\n",
       "  <tbody>\n",
       "    <tr>\n",
       "      <th>0</th>\n",
       "      <td>0.404024</td>\n",
       "      <td>0.300916</td>\n",
       "      <td>0.44165</td>\n",
       "      <td>0.456232</td>\n",
       "      <td>1.0</td>\n",
       "      <td>11.0</td>\n",
       "    </tr>\n",
       "  </tbody>\n",
       "</table>\n",
       "</div>"
      ],
      "text/plain": [
       "         f1       ARI      ACC       NMI  cover_rate  classes\n",
       "0  0.404024  0.300916  0.44165  0.456232         1.0     11.0"
      ]
     },
     "execution_count": 6,
     "metadata": {},
     "output_type": "execute_result"
    }
   ],
   "source": [
    "X,Y_true=DataLoader.load('fmnist_784')\n",
    "\n",
    "t1=time.time()\n",
    "Y_pred = api.DGSFC.fit( X,\n",
    "                      K_d=50,\n",
    "                      K_s=12,\n",
    "                      alpha=0.20,\n",
    "                      epsilon=0,\n",
    "                      plot=False,\n",
    "                      scale=True\n",
    "                     )\n",
    "t2=time.time()\n",
    "print(t2-t1)\n",
    "\n",
    "Y_pred,Y_true=matchY(Y_pred,Y_true)\n",
    "result=measures_calculator(Y_true,Y_pred)\n",
    "result"
   ]
  },
  {
   "cell_type": "code",
   "execution_count": 7,
   "metadata": {},
   "outputs": [
    {
     "name": "stderr",
     "output_type": "stream",
     "text": [
      "/usr/data/software/anaconda3/envs/ML/lib/python3.6/site-packages/torchvision/datasets/mnist.py:63: UserWarning:\n",
      "\n",
      "test_data has been renamed data\n",
      "\n",
      "/usr/data/software/anaconda3/envs/ML/lib/python3.6/site-packages/torchvision/datasets/mnist.py:53: UserWarning:\n",
      "\n",
      "test_labels has been renamed targets\n",
      "\n"
     ]
    },
    {
     "name": "stdout",
     "output_type": "stream",
     "text": [
      "513.6202688217163\n"
     ]
    },
    {
     "data": {
      "text/html": [
       "<div>\n",
       "<style scoped>\n",
       "    .dataframe tbody tr th:only-of-type {\n",
       "        vertical-align: middle;\n",
       "    }\n",
       "\n",
       "    .dataframe tbody tr th {\n",
       "        vertical-align: top;\n",
       "    }\n",
       "\n",
       "    .dataframe thead th {\n",
       "        text-align: right;\n",
       "    }\n",
       "</style>\n",
       "<table border=\"1\" class=\"dataframe\">\n",
       "  <thead>\n",
       "    <tr style=\"text-align: right;\">\n",
       "      <th></th>\n",
       "      <th>f1</th>\n",
       "      <th>ARI</th>\n",
       "      <th>ACC</th>\n",
       "      <th>NMI</th>\n",
       "      <th>cover_rate</th>\n",
       "      <th>classes</th>\n",
       "    </tr>\n",
       "  </thead>\n",
       "  <tbody>\n",
       "    <tr>\n",
       "      <th>0</th>\n",
       "      <td>0.455658</td>\n",
       "      <td>0.295748</td>\n",
       "      <td>0.461</td>\n",
       "      <td>0.461749</td>\n",
       "      <td>1.0</td>\n",
       "      <td>11.0</td>\n",
       "    </tr>\n",
       "  </tbody>\n",
       "</table>\n",
       "</div>"
      ],
      "text/plain": [
       "         f1       ARI    ACC       NMI  cover_rate  classes\n",
       "0  0.455658  0.295748  0.461  0.461749         1.0     11.0"
      ]
     },
     "execution_count": 7,
     "metadata": {},
     "output_type": "execute_result"
    }
   ],
   "source": [
    "X,Y_true=DataLoader.load('fmnist_784')\n",
    "\n",
    "t1=time.time()\n",
    "Y_pred = api.DGSFC.fit( X,\n",
    "                      K_d=50,\n",
    "                      K_s=14,\n",
    "                      alpha=0.20,\n",
    "                      epsilon=0,\n",
    "                      plot=False,\n",
    "                      scale=True\n",
    "                     )\n",
    "t2=time.time()\n",
    "print(t2-t1)\n",
    "\n",
    "Y_pred,Y_true=matchY(Y_pred,Y_true)\n",
    "result=measures_calculator(Y_true,Y_pred)\n",
    "result"
   ]
  },
  {
   "cell_type": "code",
   "execution_count": 8,
   "metadata": {},
   "outputs": [
    {
     "name": "stderr",
     "output_type": "stream",
     "text": [
      "/usr/data/software/anaconda3/envs/ML/lib/python3.6/site-packages/torchvision/datasets/mnist.py:63: UserWarning:\n",
      "\n",
      "test_data has been renamed data\n",
      "\n",
      "/usr/data/software/anaconda3/envs/ML/lib/python3.6/site-packages/torchvision/datasets/mnist.py:53: UserWarning:\n",
      "\n",
      "test_labels has been renamed targets\n",
      "\n"
     ]
    },
    {
     "name": "stdout",
     "output_type": "stream",
     "text": [
      "511.97872161865234\n"
     ]
    },
    {
     "data": {
      "text/html": [
       "<div>\n",
       "<style scoped>\n",
       "    .dataframe tbody tr th:only-of-type {\n",
       "        vertical-align: middle;\n",
       "    }\n",
       "\n",
       "    .dataframe tbody tr th {\n",
       "        vertical-align: top;\n",
       "    }\n",
       "\n",
       "    .dataframe thead th {\n",
       "        text-align: right;\n",
       "    }\n",
       "</style>\n",
       "<table border=\"1\" class=\"dataframe\">\n",
       "  <thead>\n",
       "    <tr style=\"text-align: right;\">\n",
       "      <th></th>\n",
       "      <th>f1</th>\n",
       "      <th>ARI</th>\n",
       "      <th>ACC</th>\n",
       "      <th>NMI</th>\n",
       "      <th>cover_rate</th>\n",
       "      <th>classes</th>\n",
       "    </tr>\n",
       "  </thead>\n",
       "  <tbody>\n",
       "    <tr>\n",
       "      <th>0</th>\n",
       "      <td>0.40272</td>\n",
       "      <td>0.300135</td>\n",
       "      <td>0.429833</td>\n",
       "      <td>0.457087</td>\n",
       "      <td>1.0</td>\n",
       "      <td>11.0</td>\n",
       "    </tr>\n",
       "  </tbody>\n",
       "</table>\n",
       "</div>"
      ],
      "text/plain": [
       "        f1       ARI       ACC       NMI  cover_rate  classes\n",
       "0  0.40272  0.300135  0.429833  0.457087         1.0     11.0"
      ]
     },
     "execution_count": 8,
     "metadata": {},
     "output_type": "execute_result"
    }
   ],
   "source": [
    "X,Y_true=DataLoader.load('fmnist_784')\n",
    "\n",
    "t1=time.time()\n",
    "Y_pred = api.DGSFC.fit( X,\n",
    "                      K_d=50,\n",
    "                      K_s=13,\n",
    "                      alpha=0.20,\n",
    "                      epsilon=0,\n",
    "                      plot=False,\n",
    "                      scale=True\n",
    "                     )\n",
    "t2=time.time()\n",
    "print(t2-t1)\n",
    "\n",
    "Y_pred,Y_true=matchY(Y_pred,Y_true)\n",
    "result=measures_calculator(Y_true,Y_pred)\n",
    "result"
   ]
  },
  {
   "cell_type": "markdown",
   "metadata": {
    "heading_collapsed": true
   },
   "source": [
    "# k-means"
   ]
  },
  {
   "cell_type": "code",
   "execution_count": 4,
   "metadata": {
    "hidden": true
   },
   "outputs": [],
   "source": [
    "from sklearn.cluster import KMeans"
   ]
  },
  {
   "cell_type": "markdown",
   "metadata": {
    "heading_collapsed": true,
    "hidden": true
   },
   "source": [
    "## phy"
   ]
  },
  {
   "cell_type": "code",
   "execution_count": 10,
   "metadata": {
    "hidden": true
   },
   "outputs": [
    {
     "data": {
      "text/html": [
       "<div>\n",
       "<style scoped>\n",
       "    .dataframe tbody tr th:only-of-type {\n",
       "        vertical-align: middle;\n",
       "    }\n",
       "\n",
       "    .dataframe tbody tr th {\n",
       "        vertical-align: top;\n",
       "    }\n",
       "\n",
       "    .dataframe thead th {\n",
       "        text-align: right;\n",
       "    }\n",
       "</style>\n",
       "<table border=\"1\" class=\"dataframe\">\n",
       "  <thead>\n",
       "    <tr style=\"text-align: right;\">\n",
       "      <th></th>\n",
       "      <th>f1</th>\n",
       "      <th>ARI</th>\n",
       "      <th>ACC</th>\n",
       "      <th>cover_rate</th>\n",
       "      <th>classes</th>\n",
       "    </tr>\n",
       "  </thead>\n",
       "  <tbody>\n",
       "    <tr>\n",
       "      <th>0</th>\n",
       "      <td>0.493712</td>\n",
       "      <td>-0.000016</td>\n",
       "      <td>0.4989</td>\n",
       "      <td>1.0</td>\n",
       "      <td>2.0</td>\n",
       "    </tr>\n",
       "  </tbody>\n",
       "</table>\n",
       "</div>"
      ],
      "text/plain": [
       "         f1       ARI     ACC  cover_rate  classes\n",
       "0  0.493712 -0.000016  0.4989         1.0      2.0"
      ]
     },
     "execution_count": 10,
     "metadata": {},
     "output_type": "execute_result"
    }
   ],
   "source": [
    "X,Y_true=DataLoader.load('phy')\n",
    "kmeans = KMeans(n_clusters=2, random_state=0).fit(X)\n",
    "Y_pred = kmeans.labels_\n",
    "\n",
    "Y_pred,Y_true=matchY(Y_pred,Y_true)\n",
    "result=measures_calculator(Y_true,Y_pred)\n",
    "result"
   ]
  },
  {
   "cell_type": "markdown",
   "metadata": {
    "heading_collapsed": true,
    "hidden": true
   },
   "source": [
    "## face"
   ]
  },
  {
   "cell_type": "code",
   "execution_count": 35,
   "metadata": {
    "hidden": true
   },
   "outputs": [
    {
     "data": {
      "text/html": [
       "<div>\n",
       "<style scoped>\n",
       "    .dataframe tbody tr th:only-of-type {\n",
       "        vertical-align: middle;\n",
       "    }\n",
       "\n",
       "    .dataframe tbody tr th {\n",
       "        vertical-align: top;\n",
       "    }\n",
       "\n",
       "    .dataframe thead th {\n",
       "        text-align: right;\n",
       "    }\n",
       "</style>\n",
       "<table border=\"1\" class=\"dataframe\">\n",
       "  <thead>\n",
       "    <tr style=\"text-align: right;\">\n",
       "      <th></th>\n",
       "      <th>f1</th>\n",
       "      <th>ARI</th>\n",
       "      <th>ACC</th>\n",
       "      <th>NMI</th>\n",
       "      <th>cover_rate</th>\n",
       "      <th>classes</th>\n",
       "    </tr>\n",
       "  </thead>\n",
       "  <tbody>\n",
       "    <tr>\n",
       "      <th>0</th>\n",
       "      <td>0.56905</td>\n",
       "      <td>0.427323</td>\n",
       "      <td>0.585</td>\n",
       "      <td>0.768459</td>\n",
       "      <td>1.0</td>\n",
       "      <td>36.0</td>\n",
       "    </tr>\n",
       "  </tbody>\n",
       "</table>\n",
       "</div>"
      ],
      "text/plain": [
       "        f1       ARI    ACC       NMI  cover_rate  classes\n",
       "0  0.56905  0.427323  0.585  0.768459         1.0     36.0"
      ]
     },
     "execution_count": 35,
     "metadata": {},
     "output_type": "execute_result"
    }
   ],
   "source": [
    "X,Y_true=DataLoader.load('face')\n",
    "kmeans = KMeans(n_clusters=40, random_state=0).fit(X)\n",
    "Y_pred = kmeans.labels_\n",
    "\n",
    "Y_pred,Y_true=matchY(Y_pred,Y_true)\n",
    "result=measures_calculator(Y_true,Y_pred)\n",
    "result"
   ]
  },
  {
   "cell_type": "markdown",
   "metadata": {
    "heading_collapsed": true,
    "hidden": true
   },
   "source": [
    "## mnist"
   ]
  },
  {
   "cell_type": "code",
   "execution_count": 12,
   "metadata": {
    "hidden": true
   },
   "outputs": [
    {
     "name": "stderr",
     "output_type": "stream",
     "text": [
      "/usr/data/software/anaconda3/envs/ML/lib/python3.6/site-packages/torchvision/datasets/mnist.py:63: UserWarning:\n",
      "\n",
      "test_data has been renamed data\n",
      "\n",
      "/usr/data/software/anaconda3/envs/ML/lib/python3.6/site-packages/torchvision/datasets/mnist.py:53: UserWarning:\n",
      "\n",
      "test_labels has been renamed targets\n",
      "\n"
     ]
    },
    {
     "data": {
      "text/html": [
       "<div>\n",
       "<style scoped>\n",
       "    .dataframe tbody tr th:only-of-type {\n",
       "        vertical-align: middle;\n",
       "    }\n",
       "\n",
       "    .dataframe tbody tr th {\n",
       "        vertical-align: top;\n",
       "    }\n",
       "\n",
       "    .dataframe thead th {\n",
       "        text-align: right;\n",
       "    }\n",
       "</style>\n",
       "<table border=\"1\" class=\"dataframe\">\n",
       "  <thead>\n",
       "    <tr style=\"text-align: right;\">\n",
       "      <th></th>\n",
       "      <th>f1</th>\n",
       "      <th>ARI</th>\n",
       "      <th>ACC</th>\n",
       "      <th>NMI</th>\n",
       "      <th>cover_rate</th>\n",
       "      <th>classes</th>\n",
       "    </tr>\n",
       "  </thead>\n",
       "  <tbody>\n",
       "    <tr>\n",
       "      <th>0</th>\n",
       "      <td>0.503267</td>\n",
       "      <td>0.360876</td>\n",
       "      <td>0.508517</td>\n",
       "      <td>0.490661</td>\n",
       "      <td>1.0</td>\n",
       "      <td>10.0</td>\n",
       "    </tr>\n",
       "  </tbody>\n",
       "</table>\n",
       "</div>"
      ],
      "text/plain": [
       "         f1       ARI       ACC       NMI  cover_rate  classes\n",
       "0  0.503267  0.360876  0.508517  0.490661         1.0     10.0"
      ]
     },
     "execution_count": 12,
     "metadata": {},
     "output_type": "execute_result"
    }
   ],
   "source": [
    "X,Y_true=DataLoader.load('mnist_784')\n",
    "kmeans = KMeans(n_clusters=10, random_state=0).fit(X)\n",
    "Y_pred = kmeans.labels_\n",
    "\n",
    "Y_pred,Y_true=matchY(Y_pred,Y_true)\n",
    "result=measures_calculator(Y_true,Y_pred)\n",
    "result"
   ]
  },
  {
   "cell_type": "markdown",
   "metadata": {
    "heading_collapsed": true,
    "hidden": true
   },
   "source": [
    "## fmnist"
   ]
  },
  {
   "cell_type": "code",
   "execution_count": 5,
   "metadata": {
    "hidden": true
   },
   "outputs": [
    {
     "data": {
      "text/html": [
       "<div>\n",
       "<style scoped>\n",
       "    .dataframe tbody tr th:only-of-type {\n",
       "        vertical-align: middle;\n",
       "    }\n",
       "\n",
       "    .dataframe tbody tr th {\n",
       "        vertical-align: top;\n",
       "    }\n",
       "\n",
       "    .dataframe thead th {\n",
       "        text-align: right;\n",
       "    }\n",
       "</style>\n",
       "<table border=\"1\" class=\"dataframe\">\n",
       "  <thead>\n",
       "    <tr style=\"text-align: right;\">\n",
       "      <th></th>\n",
       "      <th>f1</th>\n",
       "      <th>ARI</th>\n",
       "      <th>ACC</th>\n",
       "      <th>NMI</th>\n",
       "      <th>cover_rate</th>\n",
       "      <th>classes</th>\n",
       "    </tr>\n",
       "  </thead>\n",
       "  <tbody>\n",
       "    <tr>\n",
       "      <th>0</th>\n",
       "      <td>0.388156</td>\n",
       "      <td>0.34793</td>\n",
       "      <td>0.4332</td>\n",
       "      <td>0.511828</td>\n",
       "      <td>1.0</td>\n",
       "      <td>10.0</td>\n",
       "    </tr>\n",
       "  </tbody>\n",
       "</table>\n",
       "</div>"
      ],
      "text/plain": [
       "         f1      ARI     ACC       NMI  cover_rate  classes\n",
       "0  0.388156  0.34793  0.4332  0.511828         1.0     10.0"
      ]
     },
     "execution_count": 5,
     "metadata": {},
     "output_type": "execute_result"
    }
   ],
   "source": [
    "X,Y_true=DataLoader.load('fmnist_784')\n",
    "kmeans = KMeans(n_clusters=10, random_state=0).fit(X)\n",
    "Y_pred = kmeans.labels_\n",
    "\n",
    "Y_pred,Y_true=matchY(Y_pred,Y_true)\n",
    "result=measures_calculator(Y_true,Y_pred)\n",
    "result"
   ]
  },
  {
   "cell_type": "markdown",
   "metadata": {
    "heading_collapsed": true
   },
   "source": [
    "# QuickshiftPP"
   ]
  },
  {
   "cell_type": "code",
   "execution_count": 15,
   "metadata": {
    "hidden": true
   },
   "outputs": [
    {
     "name": "stderr",
     "output_type": "stream",
     "text": [
      "/usr/data/software/anaconda3/envs/ML/lib/python3.6/site-packages/sklearn/utils/deprecation.py:143: FutureWarning:\n",
      "\n",
      "The sklearn.neighbors.kde module is  deprecated in version 0.22 and will be removed in version 0.24. The corresponding classes / functions should instead be imported from sklearn.neighbors. Anything that cannot be imported from sklearn.neighbors is now part of the private API.\n",
      "\n"
     ]
    }
   ],
   "source": [
    "from QuickshiftPP import *"
   ]
  },
  {
   "cell_type": "markdown",
   "metadata": {
    "heading_collapsed": true,
    "hidden": true
   },
   "source": [
    "## phy"
   ]
  },
  {
   "cell_type": "code",
   "execution_count": 22,
   "metadata": {
    "hidden": true
   },
   "outputs": [
    {
     "data": {
      "text/html": [
       "<div>\n",
       "<style scoped>\n",
       "    .dataframe tbody tr th:only-of-type {\n",
       "        vertical-align: middle;\n",
       "    }\n",
       "\n",
       "    .dataframe tbody tr th {\n",
       "        vertical-align: top;\n",
       "    }\n",
       "\n",
       "    .dataframe thead th {\n",
       "        text-align: right;\n",
       "    }\n",
       "</style>\n",
       "<table border=\"1\" class=\"dataframe\">\n",
       "  <thead>\n",
       "    <tr style=\"text-align: right;\">\n",
       "      <th></th>\n",
       "      <th>f1</th>\n",
       "      <th>ARI</th>\n",
       "      <th>ACC</th>\n",
       "      <th>NMI</th>\n",
       "      <th>cover_rate</th>\n",
       "      <th>classes</th>\n",
       "    </tr>\n",
       "  </thead>\n",
       "  <tbody>\n",
       "    <tr>\n",
       "      <th>0</th>\n",
       "      <td>0.413733</td>\n",
       "      <td>0.00012</td>\n",
       "      <td>0.43454</td>\n",
       "      <td>0.000347</td>\n",
       "      <td>1.0</td>\n",
       "      <td>3.0</td>\n",
       "    </tr>\n",
       "  </tbody>\n",
       "</table>\n",
       "</div>"
      ],
      "text/plain": [
       "         f1      ARI      ACC       NMI  cover_rate  classes\n",
       "0  0.413733  0.00012  0.43454  0.000347         1.0      3.0"
      ]
     },
     "execution_count": 22,
     "metadata": {},
     "output_type": "execute_result"
    }
   ],
   "source": [
    "X,Y_true=DataLoader.load('phy')\n",
    "X=[X[i] for i in range(X.shape[0])]\n",
    "model = QuickshiftPP(k=1000,beta=0.9)\n",
    "model.fit(X)\n",
    "Y_pred = model.memberships\n",
    "Y_pred,Y_true=matchY(Y_pred,Y_true)\n",
    "result=measures_calculator(Y_true,Y_pred)\n",
    "result"
   ]
  },
  {
   "cell_type": "markdown",
   "metadata": {
    "hidden": true
   },
   "source": [
    "## face"
   ]
  },
  {
   "cell_type": "code",
   "execution_count": 98,
   "metadata": {
    "hidden": true
   },
   "outputs": [
    {
     "data": {
      "text/html": [
       "<div>\n",
       "<style scoped>\n",
       "    .dataframe tbody tr th:only-of-type {\n",
       "        vertical-align: middle;\n",
       "    }\n",
       "\n",
       "    .dataframe tbody tr th {\n",
       "        vertical-align: top;\n",
       "    }\n",
       "\n",
       "    .dataframe thead th {\n",
       "        text-align: right;\n",
       "    }\n",
       "</style>\n",
       "<table border=\"1\" class=\"dataframe\">\n",
       "  <thead>\n",
       "    <tr style=\"text-align: right;\">\n",
       "      <th></th>\n",
       "      <th>f1</th>\n",
       "      <th>ARI</th>\n",
       "      <th>ACC</th>\n",
       "      <th>NMI</th>\n",
       "      <th>cover_rate</th>\n",
       "      <th>classes</th>\n",
       "    </tr>\n",
       "  </thead>\n",
       "  <tbody>\n",
       "    <tr>\n",
       "      <th>0</th>\n",
       "      <td>0.595252</td>\n",
       "      <td>0.380508</td>\n",
       "      <td>0.6025</td>\n",
       "      <td>0.788482</td>\n",
       "      <td>1.0</td>\n",
       "      <td>36.0</td>\n",
       "    </tr>\n",
       "  </tbody>\n",
       "</table>\n",
       "</div>"
      ],
      "text/plain": [
       "         f1       ARI     ACC       NMI  cover_rate  classes\n",
       "0  0.595252  0.380508  0.6025  0.788482         1.0     36.0"
      ]
     },
     "execution_count": 98,
     "metadata": {},
     "output_type": "execute_result"
    }
   ],
   "source": [
    "X,Y_true=DataLoader.load('face')\n",
    "X=[X[i] for i in range(X.shape[0])]\n",
    "model = QuickshiftPP(k=8,beta=0.5)\n",
    "model.fit(X)\n",
    "Y_pred = model.memberships\n",
    "Y_pred,Y_true=matchY(Y_pred,Y_true)\n",
    "result=measures_calculator(Y_true,Y_pred)\n",
    "result"
   ]
  },
  {
   "cell_type": "markdown",
   "metadata": {
    "heading_collapsed": true,
    "hidden": true
   },
   "source": [
    "## mnist"
   ]
  },
  {
   "cell_type": "code",
   "execution_count": null,
   "metadata": {
    "hidden": true
   },
   "outputs": [
    {
     "name": "stderr",
     "output_type": "stream",
     "text": [
      "/usr/data/software/anaconda3/envs/ML/lib/python3.6/site-packages/torchvision/datasets/mnist.py:63: UserWarning:\n",
      "\n",
      "test_data has been renamed data\n",
      "\n",
      "/usr/data/software/anaconda3/envs/ML/lib/python3.6/site-packages/torchvision/datasets/mnist.py:53: UserWarning:\n",
      "\n",
      "test_labels has been renamed targets\n",
      "\n"
     ]
    }
   ],
   "source": [
    "X,Y_true=DataLoader.load('mnist_784')\n",
    "X=[X[i] for i in range(X.shape[0])]\n",
    "model = QuickshiftPP(k=100,beta=0.5)\n",
    "model.fit(X)\n",
    "Y_pred = model.memberships\n",
    "Y_pred,Y_true=matchY(Y_pred,Y_true)\n",
    "result=measures_calculator(Y_true,Y_pred)\n",
    "result"
   ]
  },
  {
   "cell_type": "markdown",
   "metadata": {},
   "source": [
    "# Spectacl"
   ]
  },
  {
   "cell_type": "code",
   "execution_count": 21,
   "metadata": {},
   "outputs": [],
   "source": [
    "from Spectacl import Spectacl"
   ]
  },
  {
   "cell_type": "markdown",
   "metadata": {},
   "source": [
    "## phy"
   ]
  },
  {
   "cell_type": "code",
   "execution_count": 28,
   "metadata": {},
   "outputs": [
    {
     "data": {
      "text/plain": [
       "14267.48553333789"
      ]
     },
     "execution_count": 28,
     "metadata": {},
     "output_type": "execute_result"
    }
   ],
   "source": [
    "np.linalg.norm(X[0]-X,axis=1).max()"
   ]
  },
  {
   "cell_type": "code",
   "execution_count": 31,
   "metadata": {},
   "outputs": [
    {
     "data": {
      "text/html": [
       "<div>\n",
       "<style scoped>\n",
       "    .dataframe tbody tr th:only-of-type {\n",
       "        vertical-align: middle;\n",
       "    }\n",
       "\n",
       "    .dataframe tbody tr th {\n",
       "        vertical-align: top;\n",
       "    }\n",
       "\n",
       "    .dataframe thead th {\n",
       "        text-align: right;\n",
       "    }\n",
       "</style>\n",
       "<table border=\"1\" class=\"dataframe\">\n",
       "  <thead>\n",
       "    <tr style=\"text-align: right;\">\n",
       "      <th></th>\n",
       "      <th>f1</th>\n",
       "      <th>ARI</th>\n",
       "      <th>ACC</th>\n",
       "      <th>NMI</th>\n",
       "      <th>cover_rate</th>\n",
       "      <th>classes</th>\n",
       "    </tr>\n",
       "  </thead>\n",
       "  <tbody>\n",
       "    <tr>\n",
       "      <th>0</th>\n",
       "      <td>0.442755</td>\n",
       "      <td>-0.000013</td>\n",
       "      <td>0.39582</td>\n",
       "      <td>0.00001</td>\n",
       "      <td>1.0</td>\n",
       "      <td>3.0</td>\n",
       "    </tr>\n",
       "  </tbody>\n",
       "</table>\n",
       "</div>"
      ],
      "text/plain": [
       "         f1       ARI      ACC      NMI  cover_rate  classes\n",
       "0  0.442755 -0.000013  0.39582  0.00001         1.0      3.0"
      ]
     },
     "execution_count": 31,
     "metadata": {},
     "output_type": "execute_result"
    }
   ],
   "source": [
    "X,Y_true=DataLoader.load('phy')\n",
    "s = Spectacl(affinity=\"radius_neighbors\", n_clusters=40, epsilon=1e4)\n",
    "Y_pred = s.fit_predict(X)\n",
    "# plot_tools.autoPlot(X,Y_pred)\n",
    "Y_pred,Y_true=matchY(Y_pred,Y_true)\n",
    "result=measures_calculator(Y_true, Y_pred)\n",
    "result"
   ]
  },
  {
   "cell_type": "code",
   "execution_count": 22,
   "metadata": {},
   "outputs": [
    {
     "data": {
      "text/html": [
       "<div>\n",
       "<style scoped>\n",
       "    .dataframe tbody tr th:only-of-type {\n",
       "        vertical-align: middle;\n",
       "    }\n",
       "\n",
       "    .dataframe tbody tr th {\n",
       "        vertical-align: top;\n",
       "    }\n",
       "\n",
       "    .dataframe thead th {\n",
       "        text-align: right;\n",
       "    }\n",
       "</style>\n",
       "<table border=\"1\" class=\"dataframe\">\n",
       "  <thead>\n",
       "    <tr style=\"text-align: right;\">\n",
       "      <th></th>\n",
       "      <th>f1</th>\n",
       "      <th>ARI</th>\n",
       "      <th>ACC</th>\n",
       "      <th>NMI</th>\n",
       "      <th>cover_rate</th>\n",
       "      <th>classes</th>\n",
       "    </tr>\n",
       "  </thead>\n",
       "  <tbody>\n",
       "    <tr>\n",
       "      <th>0</th>\n",
       "      <td>0.493712</td>\n",
       "      <td>-0.000016</td>\n",
       "      <td>0.4989</td>\n",
       "      <td>0.000008</td>\n",
       "      <td>1.0</td>\n",
       "      <td>2.0</td>\n",
       "    </tr>\n",
       "  </tbody>\n",
       "</table>\n",
       "</div>"
      ],
      "text/plain": [
       "         f1       ARI     ACC       NMI  cover_rate  classes\n",
       "0  0.493712 -0.000016  0.4989  0.000008         1.0      2.0"
      ]
     },
     "execution_count": 22,
     "metadata": {},
     "output_type": "execute_result"
    }
   ],
   "source": [
    "X,Y_true=DataLoader.load('phy')\n",
    "s = Spectacl(affinity=\"radius_neighbors\", n_clusters=2, epsilon=1e4)\n",
    "Y_pred = s.fit_predict(X)\n",
    "# plot_tools.autoPlot(X,Y_pred)\n",
    "Y_pred,Y_true=matchY(Y_pred,Y_true)\n",
    "result=measures_calculator(Y_true, Y_pred)\n",
    "result"
   ]
  },
  {
   "cell_type": "markdown",
   "metadata": {
    "heading_collapsed": true
   },
   "source": [
    "## face"
   ]
  },
  {
   "cell_type": "code",
   "execution_count": 102,
   "metadata": {
    "hidden": true
   },
   "outputs": [
    {
     "data": {
      "text/plain": [
       "240.05353"
      ]
     },
     "execution_count": 102,
     "metadata": {},
     "output_type": "execute_result"
    }
   ],
   "source": [
    "np.linalg.norm(X[0]-X).max()"
   ]
  },
  {
   "cell_type": "code",
   "execution_count": 121,
   "metadata": {
    "hidden": true
   },
   "outputs": [
    {
     "data": {
      "text/html": [
       "<div>\n",
       "<style scoped>\n",
       "    .dataframe tbody tr th:only-of-type {\n",
       "        vertical-align: middle;\n",
       "    }\n",
       "\n",
       "    .dataframe tbody tr th {\n",
       "        vertical-align: top;\n",
       "    }\n",
       "\n",
       "    .dataframe thead th {\n",
       "        text-align: right;\n",
       "    }\n",
       "</style>\n",
       "<table border=\"1\" class=\"dataframe\">\n",
       "  <thead>\n",
       "    <tr style=\"text-align: right;\">\n",
       "      <th></th>\n",
       "      <th>f1</th>\n",
       "      <th>ARI</th>\n",
       "      <th>ACC</th>\n",
       "      <th>NMI</th>\n",
       "      <th>cover_rate</th>\n",
       "      <th>classes</th>\n",
       "    </tr>\n",
       "  </thead>\n",
       "  <tbody>\n",
       "    <tr>\n",
       "      <th>0</th>\n",
       "      <td>0.3424</td>\n",
       "      <td>0.2058</td>\n",
       "      <td>0.37</td>\n",
       "      <td>0.605376</td>\n",
       "      <td>1.0</td>\n",
       "      <td>34.0</td>\n",
       "    </tr>\n",
       "  </tbody>\n",
       "</table>\n",
       "</div>"
      ],
      "text/plain": [
       "       f1     ARI   ACC       NMI  cover_rate  classes\n",
       "0  0.3424  0.2058  0.37  0.605376         1.0     34.0"
      ]
     },
     "execution_count": 121,
     "metadata": {},
     "output_type": "execute_result"
    }
   ],
   "source": [
    "set_seed(2021)\n",
    "X,Y_true=DataLoader.load('face')\n",
    "s = Spectacl(affinity=\"radius_neighbors\", n_clusters=40, epsilon=10)\n",
    "Y_pred = s.fit_predict(X)\n",
    "# plot_tools.autoPlot(X,Y_pred)\n",
    "Y_pred,Y_true=matchY(Y_pred,Y_true)\n",
    "result=measures_calculator(Y_true, Y_pred)\n",
    "result"
   ]
  },
  {
   "cell_type": "code",
   "execution_count": null,
   "metadata": {
    "hidden": true
   },
   "outputs": [],
   "source": [
    "set_seed(2021)\n",
    "X,Y_true=DataLoader.load('face')\n",
    "s = Spectacl(affinity=\"radius_neighbors\", n_clusters=40, epsilon=10)\n",
    "Y_pred = s.fit_predict(X)\n",
    "# plot_tools.autoPlot(X,Y_pred)\n",
    "Y_pred,Y_true=matchY(Y_pred,Y_true)\n",
    "result=measures_calculator(Y_true, Y_pred)\n",
    "result"
   ]
  },
  {
   "cell_type": "markdown",
   "metadata": {},
   "source": [
    "## mnist"
   ]
  },
  {
   "cell_type": "code",
   "execution_count": 6,
   "metadata": {},
   "outputs": [
    {
     "data": {
      "text/plain": [
       "2479.6223092766545"
      ]
     },
     "execution_count": 6,
     "metadata": {},
     "output_type": "execute_result"
    }
   ],
   "source": [
    "np.linalg.norm(X[0]-X).max()"
   ]
  },
  {
   "cell_type": "code",
   "execution_count": 23,
   "metadata": {},
   "outputs": [
    {
     "name": "stderr",
     "output_type": "stream",
     "text": [
      "/usr/data/software/anaconda3/envs/ML/lib/python3.6/site-packages/torchvision/datasets/mnist.py:63: UserWarning:\n",
      "\n",
      "test_data has been renamed data\n",
      "\n",
      "/usr/data/software/anaconda3/envs/ML/lib/python3.6/site-packages/torchvision/datasets/mnist.py:53: UserWarning:\n",
      "\n",
      "test_labels has been renamed targets\n",
      "\n"
     ]
    },
    {
     "data": {
      "text/html": [
       "<div>\n",
       "<style scoped>\n",
       "    .dataframe tbody tr th:only-of-type {\n",
       "        vertical-align: middle;\n",
       "    }\n",
       "\n",
       "    .dataframe tbody tr th {\n",
       "        vertical-align: top;\n",
       "    }\n",
       "\n",
       "    .dataframe thead th {\n",
       "        text-align: right;\n",
       "    }\n",
       "</style>\n",
       "<table border=\"1\" class=\"dataframe\">\n",
       "  <thead>\n",
       "    <tr style=\"text-align: right;\">\n",
       "      <th></th>\n",
       "      <th>f1</th>\n",
       "      <th>ARI</th>\n",
       "      <th>ACC</th>\n",
       "      <th>NMI</th>\n",
       "      <th>cover_rate</th>\n",
       "      <th>classes</th>\n",
       "    </tr>\n",
       "  </thead>\n",
       "  <tbody>\n",
       "    <tr>\n",
       "      <th>0</th>\n",
       "      <td>0.0919</td>\n",
       "      <td>-0.00005</td>\n",
       "      <td>0.104983</td>\n",
       "      <td>0.000295</td>\n",
       "      <td>1.0</td>\n",
       "      <td>10.0</td>\n",
       "    </tr>\n",
       "  </tbody>\n",
       "</table>\n",
       "</div>"
      ],
      "text/plain": [
       "       f1      ARI       ACC       NMI  cover_rate  classes\n",
       "0  0.0919 -0.00005  0.104983  0.000295         1.0     10.0"
      ]
     },
     "execution_count": 23,
     "metadata": {},
     "output_type": "execute_result"
    }
   ],
   "source": [
    "set_seed(2021)\n",
    "X,Y_true=DataLoader.load('mnist_784')\n",
    "s = Spectacl(affinity=\"radius_neighbors\", n_clusters=10, epsilon=100)\n",
    "Y_pred = s.fit_predict(X)\n",
    "# plot_tools.autoPlot(X,Y_pred)\n",
    "Y_pred,Y_true=matchY(Y_pred,Y_true)\n",
    "result=measures_calculator(Y_true, Y_pred)\n",
    "result"
   ]
  },
  {
   "cell_type": "code",
   "execution_count": 24,
   "metadata": {},
   "outputs": [
    {
     "name": "stderr",
     "output_type": "stream",
     "text": [
      "/usr/data/software/anaconda3/envs/ML/lib/python3.6/site-packages/torchvision/datasets/mnist.py:63: UserWarning:\n",
      "\n",
      "test_data has been renamed data\n",
      "\n",
      "/usr/data/software/anaconda3/envs/ML/lib/python3.6/site-packages/torchvision/datasets/mnist.py:53: UserWarning:\n",
      "\n",
      "test_labels has been renamed targets\n",
      "\n"
     ]
    },
    {
     "data": {
      "text/html": [
       "<div>\n",
       "<style scoped>\n",
       "    .dataframe tbody tr th:only-of-type {\n",
       "        vertical-align: middle;\n",
       "    }\n",
       "\n",
       "    .dataframe tbody tr th {\n",
       "        vertical-align: top;\n",
       "    }\n",
       "\n",
       "    .dataframe thead th {\n",
       "        text-align: right;\n",
       "    }\n",
       "</style>\n",
       "<table border=\"1\" class=\"dataframe\">\n",
       "  <thead>\n",
       "    <tr style=\"text-align: right;\">\n",
       "      <th></th>\n",
       "      <th>f1</th>\n",
       "      <th>ARI</th>\n",
       "      <th>ACC</th>\n",
       "      <th>NMI</th>\n",
       "      <th>cover_rate</th>\n",
       "      <th>classes</th>\n",
       "    </tr>\n",
       "  </thead>\n",
       "  <tbody>\n",
       "    <tr>\n",
       "      <th>0</th>\n",
       "      <td>0.095643</td>\n",
       "      <td>-0.000032</td>\n",
       "      <td>0.105767</td>\n",
       "      <td>0.000334</td>\n",
       "      <td>1.0</td>\n",
       "      <td>10.0</td>\n",
       "    </tr>\n",
       "  </tbody>\n",
       "</table>\n",
       "</div>"
      ],
      "text/plain": [
       "         f1       ARI       ACC       NMI  cover_rate  classes\n",
       "0  0.095643 -0.000032  0.105767  0.000334         1.0     10.0"
      ]
     },
     "execution_count": 24,
     "metadata": {},
     "output_type": "execute_result"
    }
   ],
   "source": [
    "set_seed(2021)\n",
    "X,Y_true=DataLoader.load('mnist_784')\n",
    "s = Spectacl(affinity=\"radius_neighbors\", n_clusters=10, epsilon=1000)\n",
    "Y_pred = s.fit_predict(X)\n",
    "# plot_tools.autoPlot(X,Y_pred)\n",
    "Y_pred,Y_true=matchY(Y_pred,Y_true)\n",
    "result=measures_calculator(Y_true, Y_pred)\n",
    "result"
   ]
  },
  {
   "cell_type": "code",
   "execution_count": 25,
   "metadata": {},
   "outputs": [
    {
     "name": "stderr",
     "output_type": "stream",
     "text": [
      "/usr/data/software/anaconda3/envs/ML/lib/python3.6/site-packages/torchvision/datasets/mnist.py:63: UserWarning:\n",
      "\n",
      "test_data has been renamed data\n",
      "\n",
      "/usr/data/software/anaconda3/envs/ML/lib/python3.6/site-packages/torchvision/datasets/mnist.py:53: UserWarning:\n",
      "\n",
      "test_labels has been renamed targets\n",
      "\n"
     ]
    },
    {
     "data": {
      "text/html": [
       "<div>\n",
       "<style scoped>\n",
       "    .dataframe tbody tr th:only-of-type {\n",
       "        vertical-align: middle;\n",
       "    }\n",
       "\n",
       "    .dataframe tbody tr th {\n",
       "        vertical-align: top;\n",
       "    }\n",
       "\n",
       "    .dataframe thead th {\n",
       "        text-align: right;\n",
       "    }\n",
       "</style>\n",
       "<table border=\"1\" class=\"dataframe\">\n",
       "  <thead>\n",
       "    <tr style=\"text-align: right;\">\n",
       "      <th></th>\n",
       "      <th>f1</th>\n",
       "      <th>ARI</th>\n",
       "      <th>ACC</th>\n",
       "      <th>NMI</th>\n",
       "      <th>cover_rate</th>\n",
       "      <th>classes</th>\n",
       "    </tr>\n",
       "  </thead>\n",
       "  <tbody>\n",
       "    <tr>\n",
       "      <th>0</th>\n",
       "      <td>0.08712</td>\n",
       "      <td>-0.000003</td>\n",
       "      <td>0.106683</td>\n",
       "      <td>0.000285</td>\n",
       "      <td>1.0</td>\n",
       "      <td>10.0</td>\n",
       "    </tr>\n",
       "  </tbody>\n",
       "</table>\n",
       "</div>"
      ],
      "text/plain": [
       "        f1       ARI       ACC       NMI  cover_rate  classes\n",
       "0  0.08712 -0.000003  0.106683  0.000285         1.0     10.0"
      ]
     },
     "execution_count": 25,
     "metadata": {},
     "output_type": "execute_result"
    }
   ],
   "source": [
    "set_seed(2021)\n",
    "X,Y_true=DataLoader.load('mnist_784')\n",
    "s = Spectacl(affinity=\"radius_neighbors\", n_clusters=10, epsilon=100)\n",
    "Y_pred = s.fit_predict(X)\n",
    "# plot_tools.autoPlot(X,Y_pred)\n",
    "Y_pred,Y_true=matchY(Y_pred,Y_true)\n",
    "result=measures_calculator(Y_true, Y_pred)\n",
    "result"
   ]
  },
  {
   "cell_type": "code",
   "execution_count": 26,
   "metadata": {},
   "outputs": [
    {
     "name": "stderr",
     "output_type": "stream",
     "text": [
      "/usr/data/software/anaconda3/envs/ML/lib/python3.6/site-packages/torchvision/datasets/mnist.py:63: UserWarning:\n",
      "\n",
      "test_data has been renamed data\n",
      "\n",
      "/usr/data/software/anaconda3/envs/ML/lib/python3.6/site-packages/torchvision/datasets/mnist.py:53: UserWarning:\n",
      "\n",
      "test_labels has been renamed targets\n",
      "\n"
     ]
    },
    {
     "data": {
      "text/html": [
       "<div>\n",
       "<style scoped>\n",
       "    .dataframe tbody tr th:only-of-type {\n",
       "        vertical-align: middle;\n",
       "    }\n",
       "\n",
       "    .dataframe tbody tr th {\n",
       "        vertical-align: top;\n",
       "    }\n",
       "\n",
       "    .dataframe thead th {\n",
       "        text-align: right;\n",
       "    }\n",
       "</style>\n",
       "<table border=\"1\" class=\"dataframe\">\n",
       "  <thead>\n",
       "    <tr style=\"text-align: right;\">\n",
       "      <th></th>\n",
       "      <th>f1</th>\n",
       "      <th>ARI</th>\n",
       "      <th>ACC</th>\n",
       "      <th>NMI</th>\n",
       "      <th>cover_rate</th>\n",
       "      <th>classes</th>\n",
       "    </tr>\n",
       "  </thead>\n",
       "  <tbody>\n",
       "    <tr>\n",
       "      <th>0</th>\n",
       "      <td>0.20988</td>\n",
       "      <td>0.11814</td>\n",
       "      <td>0.21345</td>\n",
       "      <td>0.205892</td>\n",
       "      <td>1.0</td>\n",
       "      <td>10.0</td>\n",
       "    </tr>\n",
       "  </tbody>\n",
       "</table>\n",
       "</div>"
      ],
      "text/plain": [
       "        f1      ARI      ACC       NMI  cover_rate  classes\n",
       "0  0.20988  0.11814  0.21345  0.205892         1.0     10.0"
      ]
     },
     "execution_count": 26,
     "metadata": {},
     "output_type": "execute_result"
    }
   ],
   "source": [
    "set_seed(2021)\n",
    "X,Y_true=DataLoader.load('mnist_784')\n",
    "s = Spectacl(affinity=\"radius_neighbors\", n_clusters=10, epsilon=10)\n",
    "Y_pred = s.fit_predict(X)\n",
    "# plot_tools.autoPlot(X,Y_pred)\n",
    "Y_pred,Y_true=matchY(Y_pred,Y_true)\n",
    "result=measures_calculator(Y_true, Y_pred)\n",
    "result"
   ]
  },
  {
   "cell_type": "code",
   "execution_count": 28,
   "metadata": {},
   "outputs": [
    {
     "name": "stderr",
     "output_type": "stream",
     "text": [
      "/usr/data/software/anaconda3/envs/ML/lib/python3.6/site-packages/torchvision/datasets/mnist.py:63: UserWarning:\n",
      "\n",
      "test_data has been renamed data\n",
      "\n",
      "/usr/data/software/anaconda3/envs/ML/lib/python3.6/site-packages/torchvision/datasets/mnist.py:53: UserWarning:\n",
      "\n",
      "test_labels has been renamed targets\n",
      "\n"
     ]
    },
    {
     "data": {
      "text/html": [
       "<div>\n",
       "<style scoped>\n",
       "    .dataframe tbody tr th:only-of-type {\n",
       "        vertical-align: middle;\n",
       "    }\n",
       "\n",
       "    .dataframe tbody tr th {\n",
       "        vertical-align: top;\n",
       "    }\n",
       "\n",
       "    .dataframe thead th {\n",
       "        text-align: right;\n",
       "    }\n",
       "</style>\n",
       "<table border=\"1\" class=\"dataframe\">\n",
       "  <thead>\n",
       "    <tr style=\"text-align: right;\">\n",
       "      <th></th>\n",
       "      <th>f1</th>\n",
       "      <th>ARI</th>\n",
       "      <th>ACC</th>\n",
       "      <th>NMI</th>\n",
       "      <th>cover_rate</th>\n",
       "      <th>classes</th>\n",
       "    </tr>\n",
       "  </thead>\n",
       "  <tbody>\n",
       "    <tr>\n",
       "      <th>0</th>\n",
       "      <td>0.399094</td>\n",
       "      <td>0.169543</td>\n",
       "      <td>0.3892</td>\n",
       "      <td>0.326937</td>\n",
       "      <td>1.0</td>\n",
       "      <td>10.0</td>\n",
       "    </tr>\n",
       "  </tbody>\n",
       "</table>\n",
       "</div>"
      ],
      "text/plain": [
       "         f1       ARI     ACC       NMI  cover_rate  classes\n",
       "0  0.399094  0.169543  0.3892  0.326937         1.0     10.0"
      ]
     },
     "execution_count": 28,
     "metadata": {},
     "output_type": "execute_result"
    }
   ],
   "source": [
    "set_seed(2021)\n",
    "X,Y_true=DataLoader.load('mnist_784')\n",
    "s = Spectacl(affinity=\"radius_neighbors\", n_clusters=10, epsilon=8)\n",
    "Y_pred = s.fit_predict(X)\n",
    "# plot_tools.autoPlot(X,Y_pred)\n",
    "Y_pred,Y_true=matchY(Y_pred,Y_true)\n",
    "result=measures_calculator(Y_true, Y_pred)\n",
    "result"
   ]
  },
  {
   "cell_type": "code",
   "execution_count": 27,
   "metadata": {},
   "outputs": [
    {
     "name": "stderr",
     "output_type": "stream",
     "text": [
      "/usr/data/software/anaconda3/envs/ML/lib/python3.6/site-packages/torchvision/datasets/mnist.py:63: UserWarning:\n",
      "\n",
      "test_data has been renamed data\n",
      "\n",
      "/usr/data/software/anaconda3/envs/ML/lib/python3.6/site-packages/torchvision/datasets/mnist.py:53: UserWarning:\n",
      "\n",
      "test_labels has been renamed targets\n",
      "\n"
     ]
    },
    {
     "data": {
      "text/html": [
       "<div>\n",
       "<style scoped>\n",
       "    .dataframe tbody tr th:only-of-type {\n",
       "        vertical-align: middle;\n",
       "    }\n",
       "\n",
       "    .dataframe tbody tr th {\n",
       "        vertical-align: top;\n",
       "    }\n",
       "\n",
       "    .dataframe thead th {\n",
       "        text-align: right;\n",
       "    }\n",
       "</style>\n",
       "<table border=\"1\" class=\"dataframe\">\n",
       "  <thead>\n",
       "    <tr style=\"text-align: right;\">\n",
       "      <th></th>\n",
       "      <th>f1</th>\n",
       "      <th>ARI</th>\n",
       "      <th>ACC</th>\n",
       "      <th>NMI</th>\n",
       "      <th>cover_rate</th>\n",
       "      <th>classes</th>\n",
       "    </tr>\n",
       "  </thead>\n",
       "  <tbody>\n",
       "    <tr>\n",
       "      <th>0</th>\n",
       "      <td>0.14661</td>\n",
       "      <td>0.033967</td>\n",
       "      <td>0.1859</td>\n",
       "      <td>0.271162</td>\n",
       "      <td>1.0</td>\n",
       "      <td>8.0</td>\n",
       "    </tr>\n",
       "  </tbody>\n",
       "</table>\n",
       "</div>"
      ],
      "text/plain": [
       "        f1       ARI     ACC       NMI  cover_rate  classes\n",
       "0  0.14661  0.033967  0.1859  0.271162         1.0      8.0"
      ]
     },
     "execution_count": 27,
     "metadata": {},
     "output_type": "execute_result"
    }
   ],
   "source": [
    "set_seed(2021)\n",
    "X,Y_true=DataLoader.load('mnist_784')\n",
    "s = Spectacl(affinity=\"radius_neighbors\", n_clusters=10, epsilon=5)\n",
    "Y_pred = s.fit_predict(X)\n",
    "# plot_tools.autoPlot(X,Y_pred)\n",
    "Y_pred,Y_true=matchY(Y_pred,Y_true)\n",
    "result=measures_calculator(Y_true, Y_pred)\n",
    "result"
   ]
  },
  {
   "cell_type": "code",
   "execution_count": 30,
   "metadata": {},
   "outputs": [
    {
     "name": "stderr",
     "output_type": "stream",
     "text": [
      "/usr/data/software/anaconda3/envs/ML/lib/python3.6/site-packages/torchvision/datasets/mnist.py:63: UserWarning:\n",
      "\n",
      "test_data has been renamed data\n",
      "\n",
      "/usr/data/software/anaconda3/envs/ML/lib/python3.6/site-packages/torchvision/datasets/mnist.py:53: UserWarning:\n",
      "\n",
      "test_labels has been renamed targets\n",
      "\n"
     ]
    },
    {
     "data": {
      "text/html": [
       "<div>\n",
       "<style scoped>\n",
       "    .dataframe tbody tr th:only-of-type {\n",
       "        vertical-align: middle;\n",
       "    }\n",
       "\n",
       "    .dataframe tbody tr th {\n",
       "        vertical-align: top;\n",
       "    }\n",
       "\n",
       "    .dataframe thead th {\n",
       "        text-align: right;\n",
       "    }\n",
       "</style>\n",
       "<table border=\"1\" class=\"dataframe\">\n",
       "  <thead>\n",
       "    <tr style=\"text-align: right;\">\n",
       "      <th></th>\n",
       "      <th>f1</th>\n",
       "      <th>ARI</th>\n",
       "      <th>ACC</th>\n",
       "      <th>NMI</th>\n",
       "      <th>cover_rate</th>\n",
       "      <th>classes</th>\n",
       "    </tr>\n",
       "  </thead>\n",
       "  <tbody>\n",
       "    <tr>\n",
       "      <th>0</th>\n",
       "      <td>0.473351</td>\n",
       "      <td>0.288627</td>\n",
       "      <td>0.483883</td>\n",
       "      <td>0.449897</td>\n",
       "      <td>1.0</td>\n",
       "      <td>10.0</td>\n",
       "    </tr>\n",
       "  </tbody>\n",
       "</table>\n",
       "</div>"
      ],
      "text/plain": [
       "         f1       ARI       ACC       NMI  cover_rate  classes\n",
       "0  0.473351  0.288627  0.483883  0.449897         1.0     10.0"
      ]
     },
     "execution_count": 30,
     "metadata": {},
     "output_type": "execute_result"
    }
   ],
   "source": [
    "set_seed(2021)\n",
    "X,Y_true=DataLoader.load('fmnist_784')\n",
    "s = Spectacl(affinity=\"radius_neighbors\", n_clusters=10, epsilon=8)\n",
    "Y_pred = s.fit_predict(X)\n",
    "# plot_tools.autoPlot(X,Y_pred)\n",
    "Y_pred,Y_true=matchY(Y_pred,Y_true)\n",
    "result=measures_calculator(Y_true, Y_pred)\n",
    "result"
   ]
  },
  {
   "cell_type": "code",
   "execution_count": null,
   "metadata": {},
   "outputs": [
    {
     "name": "stderr",
     "output_type": "stream",
     "text": [
      "/usr/data/software/anaconda3/envs/ML/lib/python3.6/site-packages/torchvision/datasets/mnist.py:63: UserWarning:\n",
      "\n",
      "test_data has been renamed data\n",
      "\n",
      "/usr/data/software/anaconda3/envs/ML/lib/python3.6/site-packages/torchvision/datasets/mnist.py:53: UserWarning:\n",
      "\n",
      "test_labels has been renamed targets\n",
      "\n"
     ]
    }
   ],
   "source": [
    "set_seed(2021)\n",
    "X,Y_true=DataLoader.load('fmnist_784')\n",
    "s = Spectacl(affinity=\"radius_neighbors\", n_clusters=10, epsilon=10)\n",
    "Y_pred = s.fit_predict(X)\n",
    "# plot_tools.autoPlot(X,Y_pred)\n",
    "Y_pred,Y_true=matchY(Y_pred,Y_true)\n",
    "result=measures_calculator(Y_true, Y_pred)\n",
    "result"
   ]
  },
  {
   "cell_type": "code",
   "execution_count": null,
   "metadata": {},
   "outputs": [],
   "source": [
    "set_seed(2021)\n",
    "X,Y_true=DataLoader.load('fmnist_784')\n",
    "s = Spectacl(affinity=\"radius_neighbors\", n_clusters=100, epsilon=10)\n",
    "Y_pred = s.fit_predict(X)\n",
    "# plot_tools.autoPlot(X,Y_pred)\n",
    "Y_pred,Y_true=matchY(Y_pred,Y_true)\n",
    "result=measures_calculator(Y_true, Y_pred)\n",
    "result"
   ]
  }
 ],
 "metadata": {
  "kernelspec": {
   "display_name": "Python 3",
   "language": "python",
   "name": "python3"
  },
  "language_info": {
   "codemirror_mode": {
    "name": "ipython",
    "version": 3
   },
   "file_extension": ".py",
   "mimetype": "text/x-python",
   "name": "python",
   "nbconvert_exporter": "python",
   "pygments_lexer": "ipython3",
   "version": "3.6.10"
  },
  "latex_envs": {
   "LaTeX_envs_menu_present": true,
   "autoclose": false,
   "autocomplete": true,
   "bibliofile": "biblio.bib",
   "cite_by": "apalike",
   "current_citInitial": 1,
   "eqLabelWithNumbers": true,
   "eqNumInitial": 1,
   "hotkeys": {
    "equation": "Ctrl-E",
    "itemize": "Ctrl-I"
   },
   "labels_anchors": false,
   "latex_user_defs": false,
   "report_style_numbering": false,
   "user_envs_cfg": false
  },
  "toc": {
   "base_numbering": 1,
   "nav_menu": {},
   "number_sections": true,
   "sideBar": true,
   "skip_h1_title": false,
   "title_cell": "Table of Contents",
   "title_sidebar": "Contents",
   "toc_cell": false,
   "toc_position": {},
   "toc_section_display": true,
   "toc_window_display": false
  }
 },
 "nbformat": 4,
 "nbformat_minor": 4
}
