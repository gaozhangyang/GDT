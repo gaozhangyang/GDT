{
 "cells": [
  {
   "cell_type": "code",
   "execution_count": 1,
   "metadata": {},
   "outputs": [],
   "source": [
    "from torchvision import datasets\n",
    "import numpy as np\n",
    "\n",
    "class DataLoader:\n",
    "    def __init__(self):\n",
    "        pass\n",
    "    \n",
    "    @classmethod\n",
    "    def load(self,name):\n",
    "        if name=='mnist_5':\n",
    "            data=np.load('./mnist_5.npy')\n",
    "            X=data[:,:-1]\n",
    "            Y_true=data[:,-1]\n",
    "            return X,Y_true\n",
    "        \n",
    "        if name=='mnist_10':\n",
    "            data=np.load('./mnist_10.npy')\n",
    "            X=data[:,:-1]\n",
    "            Y_true=data[:,-1]\n",
    "            return X,Y_true\n",
    "        \n",
    "        if name=='mnist_20':\n",
    "            data=np.load('./mnist_20.npy')\n",
    "            X=data[:,:-1]\n",
    "            Y_true=data[:,-1]\n",
    "            return X,Y_true\n",
    "        \n",
    "        if name=='mnist_30':\n",
    "            data=np.load('./mnist_30.npy')\n",
    "            X=data[:,:-1]\n",
    "            Y_true=data[:,-1]\n",
    "            return X,Y_true\n",
    "        \n",
    "        if name=='mnist_784':\n",
    "            dataset2 = datasets.MNIST('../data', train=False, download=True)\n",
    "            N=dataset2.test_data.shape[0]\n",
    "            X=dataset2.test_data.numpy().reshape(N,784)/255\n",
    "            Y_true=dataset2.test_labels.numpy()\n",
    "            return X,Y_true\n",
    "        \n",
    "        if name=='fmnist_5':\n",
    "            data=np.load('./fmnist_5.npy')\n",
    "            X=data[:,:-1]\n",
    "            Y_true=data[:,-1]\n",
    "            return X,Y_true\n",
    "        \n",
    "        if name=='fmnist_10':\n",
    "            data=np.load('./fmnist_10.npy')\n",
    "            X=data[:,:-1]\n",
    "            Y_true=data[:,-1]\n",
    "            return X,Y_true\n",
    "        \n",
    "        if name=='fmnist_20':\n",
    "            data=np.load('./fmnist_20.npy')\n",
    "            X=data[:,:-1]\n",
    "            Y_true=data[:,-1]\n",
    "            return X,Y_true\n",
    "        \n",
    "        if name=='fmnist_30':\n",
    "            data=np.load('./fmnist_30.npy')\n",
    "            X=data[:,:-1]\n",
    "            Y_true=data[:,-1]\n",
    "            return X,Y_true\n",
    "        \n",
    "        if name=='fmnist_784':\n",
    "            dataset2 = datasets.FashionMNIST('../data', train=False, download=True)\n",
    "            N=dataset2.test_data.shape[0]\n",
    "            X=dataset2.test_data.numpy().reshape(N,784)/255\n",
    "            Y_true=dataset2.test_labels.numpy()\n",
    "            return X,Y_true"
   ]
  },
  {
   "cell_type": "code",
   "execution_count": null,
   "metadata": {},
   "outputs": [],
   "source": [
    "import umap\n",
    "import matplotlib.pyplot as plt\n",
    "reducer = umap.UMAP(random_state=42)\n",
    "X,Y_true=DataLoader.load('mnist_5')\n",
    "embedding = reducer.fit_transform(X)\n",
    "plt.scatter(embedding[:, 0], embedding[:, 1], c=Y_true, cmap='Spectral', s=5)\n",
    "plt.gca().set_aspect('equal', 'datalim')\n",
    "plt.colorbar(boundaries=np.arange(11)-0.5).set_ticks(np.arange(10))\n",
    "plt.title('UMAP projection of the Digits dataset')\n",
    "plt.show()"
   ]
  },
  {
   "cell_type": "markdown",
   "metadata": {},
   "source": [
    "# GDT"
   ]
  },
  {
   "cell_type": "code",
   "execution_count": 2,
   "metadata": {},
   "outputs": [],
   "source": [
    "import numpy as np\n",
    "import matplotlib.pyplot as plt\n",
    "import sys;sys.path.append('../utils/')\n",
    "import imp\n",
    "import plot_tools,api\n",
    "import pandas as pd\n",
    "import networkx as nx\n",
    "from measures import matchY,measures_calculator,matchY\n",
    "import time"
   ]
  },
  {
   "cell_type": "code",
   "execution_count": 15,
   "metadata": {},
   "outputs": [
    {
     "name": "stdout",
     "output_type": "stream",
     "text": [
      "1.9066526889801025\n"
     ]
    },
    {
     "data": {
      "text/html": [
       "<div>\n",
       "<style scoped>\n",
       "    .dataframe tbody tr th:only-of-type {\n",
       "        vertical-align: middle;\n",
       "    }\n",
       "\n",
       "    .dataframe tbody tr th {\n",
       "        vertical-align: top;\n",
       "    }\n",
       "\n",
       "    .dataframe thead th {\n",
       "        text-align: right;\n",
       "    }\n",
       "</style>\n",
       "<table border=\"1\" class=\"dataframe\">\n",
       "  <thead>\n",
       "    <tr style=\"text-align: right;\">\n",
       "      <th></th>\n",
       "      <th>f1</th>\n",
       "      <th>ARI</th>\n",
       "      <th>ACC</th>\n",
       "      <th>cover_rate</th>\n",
       "      <th>classes</th>\n",
       "    </tr>\n",
       "  </thead>\n",
       "  <tbody>\n",
       "    <tr>\n",
       "      <th>0</th>\n",
       "      <td>0.898749</td>\n",
       "      <td>0.797621</td>\n",
       "      <td>0.896</td>\n",
       "      <td>1.0</td>\n",
       "      <td>11.0</td>\n",
       "    </tr>\n",
       "  </tbody>\n",
       "</table>\n",
       "</div>"
      ],
      "text/plain": [
       "         f1       ARI    ACC  cover_rate  classes\n",
       "0  0.898749  0.797621  0.896         1.0     11.0"
      ]
     },
     "execution_count": 15,
     "metadata": {},
     "output_type": "execute_result"
    },
    {
     "data": {
      "image/png": "[encoded data removed]",
      "text/plain": [
       "<Figure size 288x288 with 1 Axes>"
      ]
     },
     "metadata": {},
     "output_type": "display_data"
    }
   ],
   "source": [
    "X,Y_true=DataLoader.load('mnist_5')\n",
    "\n",
    "t1=time.time()\n",
    "Y_pred=api.DGSFC.fit(  X,\n",
    "                  K_d=50,\n",
    "                  K_s=25,\n",
    "                  alpha=0.9,\n",
    "                  epsilon=0,\n",
    "                  plot=True,\n",
    "                  scale=True\n",
    "                 )\n",
    "\n",
    "t2=time.time()\n",
    "print(t2-t1)\n",
    "measures_calculator(Y_true,Y_pred)"
   ]
  },
  {
   "cell_type": "code",
   "execution_count": 34,
   "metadata": {},
   "outputs": [
    {
     "name": "stdout",
     "output_type": "stream",
     "text": [
      "8.625924348831177\n"
     ]
    },
    {
     "data": {
      "text/html": [
       "<div>\n",
       "<style scoped>\n",
       "    .dataframe tbody tr th:only-of-type {\n",
       "        vertical-align: middle;\n",
       "    }\n",
       "\n",
       "    .dataframe tbody tr th {\n",
       "        vertical-align: top;\n",
       "    }\n",
       "\n",
       "    .dataframe thead th {\n",
       "        text-align: right;\n",
       "    }\n",
       "</style>\n",
       "<table border=\"1\" class=\"dataframe\">\n",
       "  <thead>\n",
       "    <tr style=\"text-align: right;\">\n",
       "      <th></th>\n",
       "      <th>f1</th>\n",
       "      <th>ARI</th>\n",
       "      <th>ACC</th>\n",
       "      <th>cover_rate</th>\n",
       "      <th>classes</th>\n",
       "    </tr>\n",
       "  </thead>\n",
       "  <tbody>\n",
       "    <tr>\n",
       "      <th>0</th>\n",
       "      <td>0.878644</td>\n",
       "      <td>0.752968</td>\n",
       "      <td>0.8781</td>\n",
       "      <td>1.0</td>\n",
       "      <td>10.0</td>\n",
       "    </tr>\n",
       "  </tbody>\n",
       "</table>\n",
       "</div>"
      ],
      "text/plain": [
       "         f1       ARI     ACC  cover_rate  classes\n",
       "0  0.878644  0.752968  0.8781         1.0     10.0"
      ]
     },
     "execution_count": 34,
     "metadata": {},
     "output_type": "execute_result"
    }
   ],
   "source": [
    "X,Y_true=DataLoader.load('mnist_10')\n",
    "\n",
    "t1=time.time()\n",
    "Y_pred=api.DGSFC.fit(  X,\n",
    "                  K_d=45,\n",
    "                  K_s=40,\n",
    "                  alpha=0.925,\n",
    "                  epsilon=0,\n",
    "                  plot=False,\n",
    "                  scale=True\n",
    "                 )\n",
    "t2=time.time()\n",
    "print(t2-t1)\n",
    "measures_calculator(Y_true,Y_pred) ###### High"
   ]
  },
  {
   "cell_type": "code",
   "execution_count": 44,
   "metadata": {},
   "outputs": [
    {
     "name": "stdout",
     "output_type": "stream",
     "text": [
      "15.847910404205322\n"
     ]
    },
    {
     "data": {
      "text/html": [
       "<div>\n",
       "<style scoped>\n",
       "    .dataframe tbody tr th:only-of-type {\n",
       "        vertical-align: middle;\n",
       "    }\n",
       "\n",
       "    .dataframe tbody tr th {\n",
       "        vertical-align: top;\n",
       "    }\n",
       "\n",
       "    .dataframe thead th {\n",
       "        text-align: right;\n",
       "    }\n",
       "</style>\n",
       "<table border=\"1\" class=\"dataframe\">\n",
       "  <thead>\n",
       "    <tr style=\"text-align: right;\">\n",
       "      <th></th>\n",
       "      <th>f1</th>\n",
       "      <th>ARI</th>\n",
       "      <th>ACC</th>\n",
       "      <th>cover_rate</th>\n",
       "      <th>classes</th>\n",
       "    </tr>\n",
       "  </thead>\n",
       "  <tbody>\n",
       "    <tr>\n",
       "      <th>0</th>\n",
       "      <td>0.783848</td>\n",
       "      <td>0.545274</td>\n",
       "      <td>0.7151</td>\n",
       "      <td>1.0</td>\n",
       "      <td>18.0</td>\n",
       "    </tr>\n",
       "  </tbody>\n",
       "</table>\n",
       "</div>"
      ],
      "text/plain": [
       "         f1       ARI     ACC  cover_rate  classes\n",
       "0  0.783848  0.545274  0.7151         1.0     18.0"
      ]
     },
     "execution_count": 44,
     "metadata": {},
     "output_type": "execute_result"
    }
   ],
   "source": [
    "X,Y_true=DataLoader.load('mnist_20')\n",
    "\n",
    "t1=time.time()\n",
    "Y_pred=api.DGSFC.fit(  X,\n",
    "                  K_d=20,\n",
    "                  K_s=15,\n",
    "                  alpha=0.925,\n",
    "                  epsilon=0,\n",
    "                  plot=False,\n",
    "                  scale=True\n",
    "                 )\n",
    "t2=time.time()\n",
    "print(t2-t1)\n",
    "measures_calculator(Y_true,Y_pred)#### low"
   ]
  },
  {
   "cell_type": "code",
   "execution_count": 53,
   "metadata": {},
   "outputs": [
    {
     "name": "stdout",
     "output_type": "stream",
     "text": [
      "36.782424211502075\n"
     ]
    },
    {
     "data": {
      "text/html": [
       "<div>\n",
       "<style scoped>\n",
       "    .dataframe tbody tr th:only-of-type {\n",
       "        vertical-align: middle;\n",
       "    }\n",
       "\n",
       "    .dataframe tbody tr th {\n",
       "        vertical-align: top;\n",
       "    }\n",
       "\n",
       "    .dataframe thead th {\n",
       "        text-align: right;\n",
       "    }\n",
       "</style>\n",
       "<table border=\"1\" class=\"dataframe\">\n",
       "  <thead>\n",
       "    <tr style=\"text-align: right;\">\n",
       "      <th></th>\n",
       "      <th>f1</th>\n",
       "      <th>ARI</th>\n",
       "      <th>ACC</th>\n",
       "      <th>cover_rate</th>\n",
       "      <th>classes</th>\n",
       "    </tr>\n",
       "  </thead>\n",
       "  <tbody>\n",
       "    <tr>\n",
       "      <th>0</th>\n",
       "      <td>0.750067</td>\n",
       "      <td>0.653824</td>\n",
       "      <td>0.782</td>\n",
       "      <td>1.0</td>\n",
       "      <td>9.0</td>\n",
       "    </tr>\n",
       "  </tbody>\n",
       "</table>\n",
       "</div>"
      ],
      "text/plain": [
       "         f1       ARI    ACC  cover_rate  classes\n",
       "0  0.750067  0.653824  0.782         1.0      9.0"
      ]
     },
     "execution_count": 53,
     "metadata": {},
     "output_type": "execute_result"
    }
   ],
   "source": [
    "X,Y_true=DataLoader.load('mnist_30')\n",
    "\n",
    "t1=time.time()\n",
    "Y_pred=api.DGSFC.fit(  X,\n",
    "                  K_d=45,\n",
    "                  K_s=22,\n",
    "                  alpha=0.88,\n",
    "                  epsilon=0,\n",
    "                  plot=False,\n",
    "                  scale=True\n",
    "                 )\n",
    "t2=time.time()\n",
    "print(t2-t1)\n",
    "measures_calculator(Y_true,Y_pred)"
   ]
  },
  {
   "cell_type": "code",
   "execution_count": 20,
   "metadata": {},
   "outputs": [
    {
     "name": "stdout",
     "output_type": "stream",
     "text": [
      "1.9250550270080566\n"
     ]
    },
    {
     "data": {
      "text/html": [
       "<div>\n",
       "<style scoped>\n",
       "    .dataframe tbody tr th:only-of-type {\n",
       "        vertical-align: middle;\n",
       "    }\n",
       "\n",
       "    .dataframe tbody tr th {\n",
       "        vertical-align: top;\n",
       "    }\n",
       "\n",
       "    .dataframe thead th {\n",
       "        text-align: right;\n",
       "    }\n",
       "</style>\n",
       "<table border=\"1\" class=\"dataframe\">\n",
       "  <thead>\n",
       "    <tr style=\"text-align: right;\">\n",
       "      <th></th>\n",
       "      <th>f1</th>\n",
       "      <th>ARI</th>\n",
       "      <th>ACC</th>\n",
       "      <th>cover_rate</th>\n",
       "      <th>classes</th>\n",
       "    </tr>\n",
       "  </thead>\n",
       "  <tbody>\n",
       "    <tr>\n",
       "      <th>0</th>\n",
       "      <td>0.558433</td>\n",
       "      <td>0.375369</td>\n",
       "      <td>0.5332</td>\n",
       "      <td>1.0</td>\n",
       "      <td>16.0</td>\n",
       "    </tr>\n",
       "  </tbody>\n",
       "</table>\n",
       "</div>"
      ],
      "text/plain": [
       "         f1       ARI     ACC  cover_rate  classes\n",
       "0  0.558433  0.375369  0.5332         1.0     16.0"
      ]
     },
     "execution_count": 20,
     "metadata": {},
     "output_type": "execute_result"
    }
   ],
   "source": [
    "X,Y_true=DataLoader.load('fmnist_5')\n",
    "\n",
    "t1=time.time()\n",
    "Y_pred=api.DGSFC.fit(  X,\n",
    "                  K_d=50,\n",
    "                  K_s=30,\n",
    "                  alpha=0.9,\n",
    "                  epsilon=0,\n",
    "                  plot=False,\n",
    "                  scale=True\n",
    "                 )\n",
    "\n",
    "t2=time.time()\n",
    "print(t2-t1)\n",
    "measures_calculator(Y_true,Y_pred)"
   ]
  },
  {
   "cell_type": "code",
   "execution_count": 21,
   "metadata": {},
   "outputs": [
    {
     "name": "stdout",
     "output_type": "stream",
     "text": [
      "2.526010751724243\n"
     ]
    },
    {
     "data": {
      "text/html": [
       "<div>\n",
       "<style scoped>\n",
       "    .dataframe tbody tr th:only-of-type {\n",
       "        vertical-align: middle;\n",
       "    }\n",
       "\n",
       "    .dataframe tbody tr th {\n",
       "        vertical-align: top;\n",
       "    }\n",
       "\n",
       "    .dataframe thead th {\n",
       "        text-align: right;\n",
       "    }\n",
       "</style>\n",
       "<table border=\"1\" class=\"dataframe\">\n",
       "  <thead>\n",
       "    <tr style=\"text-align: right;\">\n",
       "      <th></th>\n",
       "      <th>f1</th>\n",
       "      <th>ARI</th>\n",
       "      <th>ACC</th>\n",
       "      <th>cover_rate</th>\n",
       "      <th>classes</th>\n",
       "    </tr>\n",
       "  </thead>\n",
       "  <tbody>\n",
       "    <tr>\n",
       "      <th>0</th>\n",
       "      <td>0.439372</td>\n",
       "      <td>0.101062</td>\n",
       "      <td>0.3391</td>\n",
       "      <td>1.0</td>\n",
       "      <td>37.0</td>\n",
       "    </tr>\n",
       "  </tbody>\n",
       "</table>\n",
       "</div>"
      ],
      "text/plain": [
       "         f1       ARI     ACC  cover_rate  classes\n",
       "0  0.439372  0.101062  0.3391         1.0     37.0"
      ]
     },
     "execution_count": 21,
     "metadata": {},
     "output_type": "execute_result"
    }
   ],
   "source": [
    "X,Y_true=DataLoader.load('fmnist_10')\n",
    "\n",
    "t1=time.time()\n",
    "Y_pred=api.DGSFC.fit(  X,\n",
    "                  K_d=25,\n",
    "                  K_s=12,\n",
    "                  alpha=0.9,\n",
    "                  epsilon=0,\n",
    "                  plot=False,\n",
    "                  scale=True\n",
    "                 )\n",
    "\n",
    "t2=time.time()\n",
    "print(t2-t1)\n",
    "measures_calculator(Y_true,Y_pred)"
   ]
  },
  {
   "cell_type": "code",
   "execution_count": 22,
   "metadata": {},
   "outputs": [
    {
     "name": "stdout",
     "output_type": "stream",
     "text": [
      "29.432225465774536\n"
     ]
    },
    {
     "data": {
      "text/html": [
       "<div>\n",
       "<style scoped>\n",
       "    .dataframe tbody tr th:only-of-type {\n",
       "        vertical-align: middle;\n",
       "    }\n",
       "\n",
       "    .dataframe tbody tr th {\n",
       "        vertical-align: top;\n",
       "    }\n",
       "\n",
       "    .dataframe thead th {\n",
       "        text-align: right;\n",
       "    }\n",
       "</style>\n",
       "<table border=\"1\" class=\"dataframe\">\n",
       "  <thead>\n",
       "    <tr style=\"text-align: right;\">\n",
       "      <th></th>\n",
       "      <th>f1</th>\n",
       "      <th>ARI</th>\n",
       "      <th>ACC</th>\n",
       "      <th>cover_rate</th>\n",
       "      <th>classes</th>\n",
       "    </tr>\n",
       "  </thead>\n",
       "  <tbody>\n",
       "    <tr>\n",
       "      <th>0</th>\n",
       "      <td>0.561744</td>\n",
       "      <td>0.407018</td>\n",
       "      <td>0.5423</td>\n",
       "      <td>1.0</td>\n",
       "      <td>13.0</td>\n",
       "    </tr>\n",
       "  </tbody>\n",
       "</table>\n",
       "</div>"
      ],
      "text/plain": [
       "         f1       ARI     ACC  cover_rate  classes\n",
       "0  0.561744  0.407018  0.5423         1.0     13.0"
      ]
     },
     "execution_count": 22,
     "metadata": {},
     "output_type": "execute_result"
    }
   ],
   "source": [
    "X,Y_true=DataLoader.load('fmnist_20')\n",
    "\n",
    "t1=time.time()\n",
    "Y_pred=api.DGSFC.fit(  X,\n",
    "                  K_d=60,\n",
    "                  K_s=40,\n",
    "                  alpha=0.9,\n",
    "                  epsilon=0,\n",
    "                  plot=False,\n",
    "                  scale=True\n",
    "                 )\n",
    "\n",
    "t2=time.time()\n",
    "print(t2-t1)\n",
    "measures_calculator(Y_true,Y_pred)"
   ]
  },
  {
   "cell_type": "code",
   "execution_count": 23,
   "metadata": {},
   "outputs": [
    {
     "name": "stdout",
     "output_type": "stream",
     "text": [
      "55.62020206451416\n"
     ]
    },
    {
     "data": {
      "text/html": [
       "<div>\n",
       "<style scoped>\n",
       "    .dataframe tbody tr th:only-of-type {\n",
       "        vertical-align: middle;\n",
       "    }\n",
       "\n",
       "    .dataframe tbody tr th {\n",
       "        vertical-align: top;\n",
       "    }\n",
       "\n",
       "    .dataframe thead th {\n",
       "        text-align: right;\n",
       "    }\n",
       "</style>\n",
       "<table border=\"1\" class=\"dataframe\">\n",
       "  <thead>\n",
       "    <tr style=\"text-align: right;\">\n",
       "      <th></th>\n",
       "      <th>f1</th>\n",
       "      <th>ARI</th>\n",
       "      <th>ACC</th>\n",
       "      <th>cover_rate</th>\n",
       "      <th>classes</th>\n",
       "    </tr>\n",
       "  </thead>\n",
       "  <tbody>\n",
       "    <tr>\n",
       "      <th>0</th>\n",
       "      <td>0.533767</td>\n",
       "      <td>0.38635</td>\n",
       "      <td>0.5395</td>\n",
       "      <td>1.0</td>\n",
       "      <td>12.0</td>\n",
       "    </tr>\n",
       "  </tbody>\n",
       "</table>\n",
       "</div>"
      ],
      "text/plain": [
       "         f1      ARI     ACC  cover_rate  classes\n",
       "0  0.533767  0.38635  0.5395         1.0     12.0"
      ]
     },
     "execution_count": 23,
     "metadata": {},
     "output_type": "execute_result"
    }
   ],
   "source": [
    "X,Y_true=DataLoader.load('fmnist_30')\n",
    "\n",
    "t1=time.time()\n",
    "Y_pred=api.DGSFC.fit(  X,\n",
    "                  K_d=75,\n",
    "                  K_s=50,\n",
    "                  alpha=0.9,\n",
    "                  epsilon=0,\n",
    "                  plot=False,\n",
    "                  scale=True\n",
    "                 )\n",
    "\n",
    "t2=time.time()\n",
    "print(t2-t1)\n",
    "measures_calculator(Y_true,Y_pred)"
   ]
  },
  {
   "cell_type": "markdown",
   "metadata": {},
   "source": [
    "# HDBSCAN"
   ]
  },
  {
   "cell_type": "code",
   "execution_count": 54,
   "metadata": {},
   "outputs": [],
   "source": [
    "import hdbscan"
   ]
  },
  {
   "cell_type": "code",
   "execution_count": 55,
   "metadata": {},
   "outputs": [
    {
     "name": "stdout",
     "output_type": "stream",
     "text": [
      "0.7955358028411865\n"
     ]
    },
    {
     "data": {
      "text/html": [
       "<div>\n",
       "<style scoped>\n",
       "    .dataframe tbody tr th:only-of-type {\n",
       "        vertical-align: middle;\n",
       "    }\n",
       "\n",
       "    .dataframe tbody tr th {\n",
       "        vertical-align: top;\n",
       "    }\n",
       "\n",
       "    .dataframe thead th {\n",
       "        text-align: right;\n",
       "    }\n",
       "</style>\n",
       "<table border=\"1\" class=\"dataframe\">\n",
       "  <thead>\n",
       "    <tr style=\"text-align: right;\">\n",
       "      <th></th>\n",
       "      <th>f1</th>\n",
       "      <th>ARI</th>\n",
       "      <th>ACC</th>\n",
       "      <th>cover_rate</th>\n",
       "      <th>classes</th>\n",
       "    </tr>\n",
       "  </thead>\n",
       "  <tbody>\n",
       "    <tr>\n",
       "      <th>0</th>\n",
       "      <td>0.889706</td>\n",
       "      <td>0.900981</td>\n",
       "      <td>0.917821</td>\n",
       "      <td>0.4186</td>\n",
       "      <td>9.0</td>\n",
       "    </tr>\n",
       "  </tbody>\n",
       "</table>\n",
       "</div>"
      ],
      "text/plain": [
       "         f1       ARI       ACC  cover_rate  classes\n",
       "0  0.889706  0.900981  0.917821      0.4186      9.0"
      ]
     },
     "execution_count": 55,
     "metadata": {},
     "output_type": "execute_result"
    }
   ],
   "source": [
    "X,Y_true=DataLoader.load('mnist_5')\n",
    "t1=time.time()\n",
    "clusterer = hdbscan.HDBSCAN(min_cluster_size=20, min_samples=10,cluster_selection_epsilon=0.5)\n",
    "clusterer.fit(X)\n",
    "t2=time.time()\n",
    "print(t2-t1)\n",
    "Y_pred=clusterer.labels_\n",
    "\n",
    "measures_calculator(Y_true, Y_pred)"
   ]
  },
  {
   "cell_type": "code",
   "execution_count": 56,
   "metadata": {},
   "outputs": [
    {
     "name": "stdout",
     "output_type": "stream",
     "text": [
      "3.5379796028137207\n"
     ]
    },
    {
     "data": {
      "text/html": [
       "<div>\n",
       "<style scoped>\n",
       "    .dataframe tbody tr th:only-of-type {\n",
       "        vertical-align: middle;\n",
       "    }\n",
       "\n",
       "    .dataframe tbody tr th {\n",
       "        vertical-align: top;\n",
       "    }\n",
       "\n",
       "    .dataframe thead th {\n",
       "        text-align: right;\n",
       "    }\n",
       "</style>\n",
       "<table border=\"1\" class=\"dataframe\">\n",
       "  <thead>\n",
       "    <tr style=\"text-align: right;\">\n",
       "      <th></th>\n",
       "      <th>f1</th>\n",
       "      <th>ARI</th>\n",
       "      <th>ACC</th>\n",
       "      <th>cover_rate</th>\n",
       "      <th>classes</th>\n",
       "    </tr>\n",
       "  </thead>\n",
       "  <tbody>\n",
       "    <tr>\n",
       "      <th>0</th>\n",
       "      <td>0.849681</td>\n",
       "      <td>0.874101</td>\n",
       "      <td>0.860465</td>\n",
       "      <td>0.5418</td>\n",
       "      <td>15.0</td>\n",
       "    </tr>\n",
       "  </tbody>\n",
       "</table>\n",
       "</div>"
      ],
      "text/plain": [
       "         f1       ARI       ACC  cover_rate  classes\n",
       "0  0.849681  0.874101  0.860465      0.5418     15.0"
      ]
     },
     "execution_count": 56,
     "metadata": {},
     "output_type": "execute_result"
    }
   ],
   "source": [
    "X,Y_true=DataLoader.load('mnist_10')\n",
    "t1=time.time()\n",
    "clusterer = hdbscan.HDBSCAN(min_cluster_size=20, min_samples=1,cluster_selection_epsilon=0.1)\n",
    "clusterer.fit(X)\n",
    "t2=time.time()\n",
    "print(t2-t1)\n",
    "Y_pred=clusterer.labels_\n",
    "\n",
    "measures_calculator(Y_true, Y_pred)"
   ]
  },
  {
   "cell_type": "code",
   "execution_count": 57,
   "metadata": {},
   "outputs": [
    {
     "name": "stdout",
     "output_type": "stream",
     "text": [
      "9.112184762954712\n"
     ]
    },
    {
     "data": {
      "text/html": [
       "<div>\n",
       "<style scoped>\n",
       "    .dataframe tbody tr th:only-of-type {\n",
       "        vertical-align: middle;\n",
       "    }\n",
       "\n",
       "    .dataframe tbody tr th {\n",
       "        vertical-align: top;\n",
       "    }\n",
       "\n",
       "    .dataframe thead th {\n",
       "        text-align: right;\n",
       "    }\n",
       "</style>\n",
       "<table border=\"1\" class=\"dataframe\">\n",
       "  <thead>\n",
       "    <tr style=\"text-align: right;\">\n",
       "      <th></th>\n",
       "      <th>f1</th>\n",
       "      <th>ARI</th>\n",
       "      <th>ACC</th>\n",
       "      <th>cover_rate</th>\n",
       "      <th>classes</th>\n",
       "    </tr>\n",
       "  </thead>\n",
       "  <tbody>\n",
       "    <tr>\n",
       "      <th>0</th>\n",
       "      <td>0.495667</td>\n",
       "      <td>0.356484</td>\n",
       "      <td>0.563065</td>\n",
       "      <td>0.4646</td>\n",
       "      <td>31.0</td>\n",
       "    </tr>\n",
       "  </tbody>\n",
       "</table>\n",
       "</div>"
      ],
      "text/plain": [
       "         f1       ARI       ACC  cover_rate  classes\n",
       "0  0.495667  0.356484  0.563065      0.4646     31.0"
      ]
     },
     "execution_count": 57,
     "metadata": {},
     "output_type": "execute_result"
    }
   ],
   "source": [
    "X,Y_true=DataLoader.load('mnist_20')\n",
    "t1=time.time()\n",
    "clusterer = hdbscan.HDBSCAN(min_cluster_size=10, min_samples=2,cluster_selection_epsilon=2)\n",
    "clusterer.fit(X)\n",
    "t2=time.time()\n",
    "print(t2-t1)\n",
    "Y_pred=clusterer.labels_\n",
    "\n",
    "measures_calculator(Y_true, Y_pred)"
   ]
  },
  {
   "cell_type": "code",
   "execution_count": 58,
   "metadata": {},
   "outputs": [
    {
     "name": "stdout",
     "output_type": "stream",
     "text": [
      "17.403576374053955\n"
     ]
    },
    {
     "data": {
      "text/html": [
       "<div>\n",
       "<style scoped>\n",
       "    .dataframe tbody tr th:only-of-type {\n",
       "        vertical-align: middle;\n",
       "    }\n",
       "\n",
       "    .dataframe tbody tr th {\n",
       "        vertical-align: top;\n",
       "    }\n",
       "\n",
       "    .dataframe thead th {\n",
       "        text-align: right;\n",
       "    }\n",
       "</style>\n",
       "<table border=\"1\" class=\"dataframe\">\n",
       "  <thead>\n",
       "    <tr style=\"text-align: right;\">\n",
       "      <th></th>\n",
       "      <th>f1</th>\n",
       "      <th>ARI</th>\n",
       "      <th>ACC</th>\n",
       "      <th>cover_rate</th>\n",
       "      <th>classes</th>\n",
       "    </tr>\n",
       "  </thead>\n",
       "  <tbody>\n",
       "    <tr>\n",
       "      <th>0</th>\n",
       "      <td>0.938794</td>\n",
       "      <td>0.936519</td>\n",
       "      <td>0.904397</td>\n",
       "      <td>0.4822</td>\n",
       "      <td>29.0</td>\n",
       "    </tr>\n",
       "  </tbody>\n",
       "</table>\n",
       "</div>"
      ],
      "text/plain": [
       "         f1       ARI       ACC  cover_rate  classes\n",
       "0  0.938794  0.936519  0.904397      0.4822     29.0"
      ]
     },
     "execution_count": 58,
     "metadata": {},
     "output_type": "execute_result"
    }
   ],
   "source": [
    "X,Y_true=DataLoader.load('mnist_30')\n",
    "t1=time.time()\n",
    "clusterer = hdbscan.HDBSCAN(min_cluster_size=15, min_samples=1,cluster_selection_epsilon=2)\n",
    "clusterer.fit(X)\n",
    "t2=time.time()\n",
    "print(t2-t1)\n",
    "Y_pred=clusterer.labels_\n",
    "\n",
    "measures_calculator(Y_true, Y_pred)"
   ]
  },
  {
   "cell_type": "code",
   "execution_count": 59,
   "metadata": {},
   "outputs": [
    {
     "name": "stdout",
     "output_type": "stream",
     "text": [
      "2.729320526123047\n"
     ]
    },
    {
     "data": {
      "text/html": [
       "<div>\n",
       "<style scoped>\n",
       "    .dataframe tbody tr th:only-of-type {\n",
       "        vertical-align: middle;\n",
       "    }\n",
       "\n",
       "    .dataframe tbody tr th {\n",
       "        vertical-align: top;\n",
       "    }\n",
       "\n",
       "    .dataframe thead th {\n",
       "        text-align: right;\n",
       "    }\n",
       "</style>\n",
       "<table border=\"1\" class=\"dataframe\">\n",
       "  <thead>\n",
       "    <tr style=\"text-align: right;\">\n",
       "      <th></th>\n",
       "      <th>f1</th>\n",
       "      <th>ARI</th>\n",
       "      <th>ACC</th>\n",
       "      <th>cover_rate</th>\n",
       "      <th>classes</th>\n",
       "    </tr>\n",
       "  </thead>\n",
       "  <tbody>\n",
       "    <tr>\n",
       "      <th>0</th>\n",
       "      <td>0.396973</td>\n",
       "      <td>0.313112</td>\n",
       "      <td>0.473973</td>\n",
       "      <td>0.365</td>\n",
       "      <td>13.0</td>\n",
       "    </tr>\n",
       "  </tbody>\n",
       "</table>\n",
       "</div>"
      ],
      "text/plain": [
       "         f1       ARI       ACC  cover_rate  classes\n",
       "0  0.396973  0.313112  0.473973       0.365     13.0"
      ]
     },
     "execution_count": 59,
     "metadata": {},
     "output_type": "execute_result"
    }
   ],
   "source": [
    "X,Y_true=DataLoader.load('fmnist_5')\n",
    "t1=time.time()\n",
    "clusterer = hdbscan.HDBSCAN(min_cluster_size=20, min_samples=5,cluster_selection_epsilon=0.1)\n",
    "clusterer.fit(X)\n",
    "t2=time.time()\n",
    "print(t2-t1)\n",
    "Y_pred=clusterer.labels_\n",
    "\n",
    "measures_calculator(Y_true, Y_pred)"
   ]
  },
  {
   "cell_type": "code",
   "execution_count": 60,
   "metadata": {},
   "outputs": [
    {
     "name": "stdout",
     "output_type": "stream",
     "text": [
      "1.8744029998779297\n"
     ]
    },
    {
     "data": {
      "text/html": [
       "<div>\n",
       "<style scoped>\n",
       "    .dataframe tbody tr th:only-of-type {\n",
       "        vertical-align: middle;\n",
       "    }\n",
       "\n",
       "    .dataframe tbody tr th {\n",
       "        vertical-align: top;\n",
       "    }\n",
       "\n",
       "    .dataframe thead th {\n",
       "        text-align: right;\n",
       "    }\n",
       "</style>\n",
       "<table border=\"1\" class=\"dataframe\">\n",
       "  <thead>\n",
       "    <tr style=\"text-align: right;\">\n",
       "      <th></th>\n",
       "      <th>f1</th>\n",
       "      <th>ARI</th>\n",
       "      <th>ACC</th>\n",
       "      <th>cover_rate</th>\n",
       "      <th>classes</th>\n",
       "    </tr>\n",
       "  </thead>\n",
       "  <tbody>\n",
       "    <tr>\n",
       "      <th>0</th>\n",
       "      <td>0.147462</td>\n",
       "      <td>0.183848</td>\n",
       "      <td>0.27736</td>\n",
       "      <td>0.6789</td>\n",
       "      <td>7.0</td>\n",
       "    </tr>\n",
       "  </tbody>\n",
       "</table>\n",
       "</div>"
      ],
      "text/plain": [
       "         f1       ARI      ACC  cover_rate  classes\n",
       "0  0.147462  0.183848  0.27736      0.6789      7.0"
      ]
     },
     "execution_count": 60,
     "metadata": {},
     "output_type": "execute_result"
    }
   ],
   "source": [
    "X,Y_true=DataLoader.load('fmnist_10')\n",
    "t1=time.time()\n",
    "clusterer = hdbscan.HDBSCAN(min_cluster_size=20, min_samples=1,cluster_selection_epsilon=0.1)\n",
    "clusterer.fit(X)\n",
    "t2=time.time()\n",
    "print(t2-t1)\n",
    "Y_pred=clusterer.labels_\n",
    "\n",
    "measures_calculator(Y_true, Y_pred)"
   ]
  },
  {
   "cell_type": "code",
   "execution_count": 61,
   "metadata": {},
   "outputs": [
    {
     "name": "stdout",
     "output_type": "stream",
     "text": [
      "4.533776521682739\n"
     ]
    },
    {
     "data": {
      "text/html": [
       "<div>\n",
       "<style scoped>\n",
       "    .dataframe tbody tr th:only-of-type {\n",
       "        vertical-align: middle;\n",
       "    }\n",
       "\n",
       "    .dataframe tbody tr th {\n",
       "        vertical-align: top;\n",
       "    }\n",
       "\n",
       "    .dataframe thead th {\n",
       "        text-align: right;\n",
       "    }\n",
       "</style>\n",
       "<table border=\"1\" class=\"dataframe\">\n",
       "  <thead>\n",
       "    <tr style=\"text-align: right;\">\n",
       "      <th></th>\n",
       "      <th>f1</th>\n",
       "      <th>ARI</th>\n",
       "      <th>ACC</th>\n",
       "      <th>cover_rate</th>\n",
       "      <th>classes</th>\n",
       "    </tr>\n",
       "  </thead>\n",
       "  <tbody>\n",
       "    <tr>\n",
       "      <th>0</th>\n",
       "      <td>0.289571</td>\n",
       "      <td>0.255783</td>\n",
       "      <td>0.423558</td>\n",
       "      <td>0.4559</td>\n",
       "      <td>5.0</td>\n",
       "    </tr>\n",
       "  </tbody>\n",
       "</table>\n",
       "</div>"
      ],
      "text/plain": [
       "         f1       ARI       ACC  cover_rate  classes\n",
       "0  0.289571  0.255783  0.423558      0.4559      5.0"
      ]
     },
     "execution_count": 61,
     "metadata": {},
     "output_type": "execute_result"
    }
   ],
   "source": [
    "X,Y_true=DataLoader.load('fmnist_20')\n",
    "t1=time.time()\n",
    "clusterer = hdbscan.HDBSCAN(min_cluster_size=45, min_samples=1,cluster_selection_epsilon=0.1)\n",
    "clusterer.fit(X)\n",
    "t2=time.time()\n",
    "print(t2-t1)\n",
    "Y_pred=clusterer.labels_\n",
    "\n",
    "measures_calculator(Y_true, Y_pred)"
   ]
  },
  {
   "cell_type": "code",
   "execution_count": 62,
   "metadata": {},
   "outputs": [
    {
     "name": "stdout",
     "output_type": "stream",
     "text": [
      "10.310719013214111\n"
     ]
    },
    {
     "data": {
      "text/html": [
       "<div>\n",
       "<style scoped>\n",
       "    .dataframe tbody tr th:only-of-type {\n",
       "        vertical-align: middle;\n",
       "    }\n",
       "\n",
       "    .dataframe tbody tr th {\n",
       "        vertical-align: top;\n",
       "    }\n",
       "\n",
       "    .dataframe thead th {\n",
       "        text-align: right;\n",
       "    }\n",
       "</style>\n",
       "<table border=\"1\" class=\"dataframe\">\n",
       "  <thead>\n",
       "    <tr style=\"text-align: right;\">\n",
       "      <th></th>\n",
       "      <th>f1</th>\n",
       "      <th>ARI</th>\n",
       "      <th>ACC</th>\n",
       "      <th>cover_rate</th>\n",
       "      <th>classes</th>\n",
       "    </tr>\n",
       "  </thead>\n",
       "  <tbody>\n",
       "    <tr>\n",
       "      <th>0</th>\n",
       "      <td>0.181833</td>\n",
       "      <td>0.153549</td>\n",
       "      <td>0.298925</td>\n",
       "      <td>0.6791</td>\n",
       "      <td>4.0</td>\n",
       "    </tr>\n",
       "  </tbody>\n",
       "</table>\n",
       "</div>"
      ],
      "text/plain": [
       "         f1       ARI       ACC  cover_rate  classes\n",
       "0  0.181833  0.153549  0.298925      0.6791      4.0"
      ]
     },
     "execution_count": 62,
     "metadata": {},
     "output_type": "execute_result"
    }
   ],
   "source": [
    "X,Y_true=DataLoader.load('fmnist_30')\n",
    "t1=time.time()\n",
    "clusterer = hdbscan.HDBSCAN(min_cluster_size=50, min_samples=1,cluster_selection_epsilon=0.1)\n",
    "clusterer.fit(X)\n",
    "t2=time.time()\n",
    "print(t2-t1)\n",
    "Y_pred=clusterer.labels_\n",
    "\n",
    "measures_calculator(Y_true, Y_pred)"
   ]
  },
  {
   "cell_type": "markdown",
   "metadata": {},
   "source": [
    "# mean-shift"
   ]
  },
  {
   "cell_type": "code",
   "execution_count": 63,
   "metadata": {},
   "outputs": [],
   "source": [
    "from sklearn.cluster import MeanShift, estimate_bandwidth"
   ]
  },
  {
   "cell_type": "code",
   "execution_count": 64,
   "metadata": {},
   "outputs": [
    {
     "name": "stdout",
     "output_type": "stream",
     "text": [
      "29.261340856552124\n"
     ]
    },
    {
     "data": {
      "text/html": [
       "<div>\n",
       "<style scoped>\n",
       "    .dataframe tbody tr th:only-of-type {\n",
       "        vertical-align: middle;\n",
       "    }\n",
       "\n",
       "    .dataframe tbody tr th {\n",
       "        vertical-align: top;\n",
       "    }\n",
       "\n",
       "    .dataframe thead th {\n",
       "        text-align: right;\n",
       "    }\n",
       "</style>\n",
       "<table border=\"1\" class=\"dataframe\">\n",
       "  <thead>\n",
       "    <tr style=\"text-align: right;\">\n",
       "      <th></th>\n",
       "      <th>f1</th>\n",
       "      <th>ARI</th>\n",
       "      <th>ACC</th>\n",
       "      <th>cover_rate</th>\n",
       "      <th>classes</th>\n",
       "    </tr>\n",
       "  </thead>\n",
       "  <tbody>\n",
       "    <tr>\n",
       "      <th>0</th>\n",
       "      <td>0.790632</td>\n",
       "      <td>0.544347</td>\n",
       "      <td>0.7223</td>\n",
       "      <td>1.0</td>\n",
       "      <td>90.0</td>\n",
       "    </tr>\n",
       "  </tbody>\n",
       "</table>\n",
       "</div>"
      ],
      "text/plain": [
       "         f1       ARI     ACC  cover_rate  classes\n",
       "0  0.790632  0.544347  0.7223         1.0     90.0"
      ]
     },
     "execution_count": 64,
     "metadata": {},
     "output_type": "execute_result"
    }
   ],
   "source": [
    "X,Y_true=DataLoader.load('mnist_5')\n",
    "bandwidth = estimate_bandwidth(X, quantile=0.01, n_samples=1000)\n",
    "t1=time.time()\n",
    "ms = MeanShift(bandwidth=bandwidth, bin_seeding=True, cluster_all=True)\n",
    "ms.fit(X)\n",
    "t2=time.time()\n",
    "print(t2-t1)\n",
    "Y_pred=ms.labels_\n",
    "measures_calculator(Y_true, Y_pred)"
   ]
  },
  {
   "cell_type": "code",
   "execution_count": 65,
   "metadata": {},
   "outputs": [
    {
     "name": "stdout",
     "output_type": "stream",
     "text": [
      "64.3515465259552\n"
     ]
    },
    {
     "data": {
      "text/html": [
       "<div>\n",
       "<style scoped>\n",
       "    .dataframe tbody tr th:only-of-type {\n",
       "        vertical-align: middle;\n",
       "    }\n",
       "\n",
       "    .dataframe tbody tr th {\n",
       "        vertical-align: top;\n",
       "    }\n",
       "\n",
       "    .dataframe thead th {\n",
       "        text-align: right;\n",
       "    }\n",
       "</style>\n",
       "<table border=\"1\" class=\"dataframe\">\n",
       "  <thead>\n",
       "    <tr style=\"text-align: right;\">\n",
       "      <th></th>\n",
       "      <th>f1</th>\n",
       "      <th>ARI</th>\n",
       "      <th>ACC</th>\n",
       "      <th>cover_rate</th>\n",
       "      <th>classes</th>\n",
       "    </tr>\n",
       "  </thead>\n",
       "  <tbody>\n",
       "    <tr>\n",
       "      <th>0</th>\n",
       "      <td>0.707042</td>\n",
       "      <td>0.561116</td>\n",
       "      <td>0.6707</td>\n",
       "      <td>1.0</td>\n",
       "      <td>40.0</td>\n",
       "    </tr>\n",
       "  </tbody>\n",
       "</table>\n",
       "</div>"
      ],
      "text/plain": [
       "         f1       ARI     ACC  cover_rate  classes\n",
       "0  0.707042  0.561116  0.6707         1.0     40.0"
      ]
     },
     "execution_count": 65,
     "metadata": {},
     "output_type": "execute_result"
    }
   ],
   "source": [
    "X,Y_true=DataLoader.load('mnist_10')\n",
    "bandwidth = estimate_bandwidth(X, quantile=0.01, n_samples=1000)\n",
    "t1=time.time()\n",
    "ms = MeanShift(bandwidth=bandwidth, bin_seeding=True, cluster_all=True)\n",
    "ms.fit(X)\n",
    "t2=time.time()\n",
    "print(t2-t1)\n",
    "Y_pred=ms.labels_\n",
    "measures_calculator(Y_true, Y_pred)"
   ]
  },
  {
   "cell_type": "code",
   "execution_count": 66,
   "metadata": {},
   "outputs": [
    {
     "name": "stdout",
     "output_type": "stream",
     "text": [
      "243.92345237731934\n"
     ]
    },
    {
     "data": {
      "text/html": [
       "<div>\n",
       "<style scoped>\n",
       "    .dataframe tbody tr th:only-of-type {\n",
       "        vertical-align: middle;\n",
       "    }\n",
       "\n",
       "    .dataframe tbody tr th {\n",
       "        vertical-align: top;\n",
       "    }\n",
       "\n",
       "    .dataframe thead th {\n",
       "        text-align: right;\n",
       "    }\n",
       "</style>\n",
       "<table border=\"1\" class=\"dataframe\">\n",
       "  <thead>\n",
       "    <tr style=\"text-align: right;\">\n",
       "      <th></th>\n",
       "      <th>f1</th>\n",
       "      <th>ARI</th>\n",
       "      <th>ACC</th>\n",
       "      <th>cover_rate</th>\n",
       "      <th>classes</th>\n",
       "    </tr>\n",
       "  </thead>\n",
       "  <tbody>\n",
       "    <tr>\n",
       "      <th>0</th>\n",
       "      <td>0.46293</td>\n",
       "      <td>0.331297</td>\n",
       "      <td>0.463</td>\n",
       "      <td>1.0</td>\n",
       "      <td>77.0</td>\n",
       "    </tr>\n",
       "  </tbody>\n",
       "</table>\n",
       "</div>"
      ],
      "text/plain": [
       "        f1       ARI    ACC  cover_rate  classes\n",
       "0  0.46293  0.331297  0.463         1.0     77.0"
      ]
     },
     "execution_count": 66,
     "metadata": {},
     "output_type": "execute_result"
    }
   ],
   "source": [
    "X,Y_true=DataLoader.load('mnist_20')\n",
    "bandwidth = estimate_bandwidth(X, quantile=0.01, n_samples=1000)\n",
    "t1=time.time()\n",
    "ms = MeanShift(bandwidth=bandwidth, bin_seeding=False, cluster_all=True)\n",
    "ms.fit(X)\n",
    "t2=time.time()\n",
    "print(t2-t1)\n",
    "Y_pred=ms.labels_\n",
    "measures_calculator(Y_true, Y_pred)"
   ]
  },
  {
   "cell_type": "code",
   "execution_count": 67,
   "metadata": {},
   "outputs": [
    {
     "name": "stdout",
     "output_type": "stream",
     "text": [
      "25.9941086769104\n"
     ]
    },
    {
     "data": {
      "text/html": [
       "<div>\n",
       "<style scoped>\n",
       "    .dataframe tbody tr th:only-of-type {\n",
       "        vertical-align: middle;\n",
       "    }\n",
       "\n",
       "    .dataframe tbody tr th {\n",
       "        vertical-align: top;\n",
       "    }\n",
       "\n",
       "    .dataframe thead th {\n",
       "        text-align: right;\n",
       "    }\n",
       "</style>\n",
       "<table border=\"1\" class=\"dataframe\">\n",
       "  <thead>\n",
       "    <tr style=\"text-align: right;\">\n",
       "      <th></th>\n",
       "      <th>f1</th>\n",
       "      <th>ARI</th>\n",
       "      <th>ACC</th>\n",
       "      <th>cover_rate</th>\n",
       "      <th>classes</th>\n",
       "    </tr>\n",
       "  </thead>\n",
       "  <tbody>\n",
       "    <tr>\n",
       "      <th>0</th>\n",
       "      <td>0.465823</td>\n",
       "      <td>0.296305</td>\n",
       "      <td>0.4371</td>\n",
       "      <td>1.0</td>\n",
       "      <td>62.0</td>\n",
       "    </tr>\n",
       "  </tbody>\n",
       "</table>\n",
       "</div>"
      ],
      "text/plain": [
       "         f1       ARI     ACC  cover_rate  classes\n",
       "0  0.465823  0.296305  0.4371         1.0     62.0"
      ]
     },
     "execution_count": 67,
     "metadata": {},
     "output_type": "execute_result"
    }
   ],
   "source": [
    "X,Y_true=DataLoader.load('fmnist_5')\n",
    "bandwidth = estimate_bandwidth(X, quantile=0.01, n_samples=1000)\n",
    "t1=time.time()\n",
    "ms = MeanShift(bandwidth=bandwidth, bin_seeding=True, cluster_all=True)\n",
    "ms.fit(X)\n",
    "t2=time.time()\n",
    "print(t2-t1)\n",
    "Y_pred=ms.labels_\n",
    "measures_calculator(Y_true, Y_pred)"
   ]
  },
  {
   "cell_type": "code",
   "execution_count": 68,
   "metadata": {},
   "outputs": [
    {
     "name": "stdout",
     "output_type": "stream",
     "text": [
      "58.553510904312134\n"
     ]
    },
    {
     "data": {
      "text/html": [
       "<div>\n",
       "<style scoped>\n",
       "    .dataframe tbody tr th:only-of-type {\n",
       "        vertical-align: middle;\n",
       "    }\n",
       "\n",
       "    .dataframe tbody tr th {\n",
       "        vertical-align: top;\n",
       "    }\n",
       "\n",
       "    .dataframe thead th {\n",
       "        text-align: right;\n",
       "    }\n",
       "</style>\n",
       "<table border=\"1\" class=\"dataframe\">\n",
       "  <thead>\n",
       "    <tr style=\"text-align: right;\">\n",
       "      <th></th>\n",
       "      <th>f1</th>\n",
       "      <th>ARI</th>\n",
       "      <th>ACC</th>\n",
       "      <th>cover_rate</th>\n",
       "      <th>classes</th>\n",
       "    </tr>\n",
       "  </thead>\n",
       "  <tbody>\n",
       "    <tr>\n",
       "      <th>0</th>\n",
       "      <td>0.313768</td>\n",
       "      <td>0.242606</td>\n",
       "      <td>0.3291</td>\n",
       "      <td>1.0</td>\n",
       "      <td>80.0</td>\n",
       "    </tr>\n",
       "  </tbody>\n",
       "</table>\n",
       "</div>"
      ],
      "text/plain": [
       "         f1       ARI     ACC  cover_rate  classes\n",
       "0  0.313768  0.242606  0.3291         1.0     80.0"
      ]
     },
     "execution_count": 68,
     "metadata": {},
     "output_type": "execute_result"
    }
   ],
   "source": [
    "X,Y_true=DataLoader.load('fmnist_10')\n",
    "bandwidth = estimate_bandwidth(X, quantile=0.01, n_samples=1000)\n",
    "t1=time.time()\n",
    "ms = MeanShift(bandwidth=bandwidth, bin_seeding=True, cluster_all=True)\n",
    "ms.fit(X)\n",
    "t2=time.time()\n",
    "print(t2-t1)\n",
    "Y_pred=ms.labels_\n",
    "measures_calculator(Y_true, Y_pred)"
   ]
  },
  {
   "cell_type": "code",
   "execution_count": 69,
   "metadata": {},
   "outputs": [
    {
     "name": "stdout",
     "output_type": "stream",
     "text": [
      "7.591746091842651\n"
     ]
    },
    {
     "data": {
      "text/html": [
       "<div>\n",
       "<style scoped>\n",
       "    .dataframe tbody tr th:only-of-type {\n",
       "        vertical-align: middle;\n",
       "    }\n",
       "\n",
       "    .dataframe tbody tr th {\n",
       "        vertical-align: top;\n",
       "    }\n",
       "\n",
       "    .dataframe thead th {\n",
       "        text-align: right;\n",
       "    }\n",
       "</style>\n",
       "<table border=\"1\" class=\"dataframe\">\n",
       "  <thead>\n",
       "    <tr style=\"text-align: right;\">\n",
       "      <th></th>\n",
       "      <th>f1</th>\n",
       "      <th>ARI</th>\n",
       "      <th>ACC</th>\n",
       "      <th>cover_rate</th>\n",
       "      <th>classes</th>\n",
       "    </tr>\n",
       "  </thead>\n",
       "  <tbody>\n",
       "    <tr>\n",
       "      <th>0</th>\n",
       "      <td>0.316771</td>\n",
       "      <td>0.272929</td>\n",
       "      <td>0.3889</td>\n",
       "      <td>1.0</td>\n",
       "      <td>12.0</td>\n",
       "    </tr>\n",
       "  </tbody>\n",
       "</table>\n",
       "</div>"
      ],
      "text/plain": [
       "         f1       ARI     ACC  cover_rate  classes\n",
       "0  0.316771  0.272929  0.3889         1.0     12.0"
      ]
     },
     "execution_count": 69,
     "metadata": {},
     "output_type": "execute_result"
    }
   ],
   "source": [
    "X,Y_true=DataLoader.load('fmnist_20')\n",
    "bandwidth = estimate_bandwidth(X, quantile=0.01, n_samples=1000)\n",
    "t1=time.time()\n",
    "ms = MeanShift(bandwidth=bandwidth, bin_seeding=True, cluster_all=True)\n",
    "ms.fit(X)\n",
    "t2=time.time()\n",
    "print(t2-t1)\n",
    "Y_pred=ms.labels_\n",
    "measures_calculator(Y_true, Y_pred)"
   ]
  },
  {
   "cell_type": "code",
   "execution_count": 71,
   "metadata": {},
   "outputs": [
    {
     "name": "stdout",
     "output_type": "stream",
     "text": [
      "342.247309923172\n"
     ]
    },
    {
     "data": {
      "text/html": [
       "<div>\n",
       "<style scoped>\n",
       "    .dataframe tbody tr th:only-of-type {\n",
       "        vertical-align: middle;\n",
       "    }\n",
       "\n",
       "    .dataframe tbody tr th {\n",
       "        vertical-align: top;\n",
       "    }\n",
       "\n",
       "    .dataframe thead th {\n",
       "        text-align: right;\n",
       "    }\n",
       "</style>\n",
       "<table border=\"1\" class=\"dataframe\">\n",
       "  <thead>\n",
       "    <tr style=\"text-align: right;\">\n",
       "      <th></th>\n",
       "      <th>f1</th>\n",
       "      <th>ARI</th>\n",
       "      <th>ACC</th>\n",
       "      <th>cover_rate</th>\n",
       "      <th>classes</th>\n",
       "    </tr>\n",
       "  </thead>\n",
       "  <tbody>\n",
       "    <tr>\n",
       "      <th>0</th>\n",
       "      <td>0.320346</td>\n",
       "      <td>0.221635</td>\n",
       "      <td>0.3261</td>\n",
       "      <td>1.0</td>\n",
       "      <td>171.0</td>\n",
       "    </tr>\n",
       "  </tbody>\n",
       "</table>\n",
       "</div>"
      ],
      "text/plain": [
       "         f1       ARI     ACC  cover_rate  classes\n",
       "0  0.320346  0.221635  0.3261         1.0    171.0"
      ]
     },
     "execution_count": 71,
     "metadata": {},
     "output_type": "execute_result"
    }
   ],
   "source": [
    "X,Y_true=DataLoader.load('fmnist_30')\n",
    "bandwidth = estimate_bandwidth(X, quantile=0.01, n_samples=1000)\n",
    "t1=time.time()\n",
    "ms = MeanShift(bandwidth=bandwidth, bin_seeding=False, cluster_all=True)\n",
    "ms.fit(X)\n",
    "t2=time.time()\n",
    "print(t2-t1)\n",
    "Y_pred=ms.labels_\n",
    "measures_calculator(Y_true, Y_pred)"
   ]
  },
  {
   "cell_type": "markdown",
   "metadata": {},
   "source": [
    "# K-means"
   ]
  },
  {
   "cell_type": "code",
   "execution_count": 72,
   "metadata": {},
   "outputs": [],
   "source": [
    "from sklearn.cluster import KMeans"
   ]
  },
  {
   "cell_type": "code",
   "execution_count": 73,
   "metadata": {},
   "outputs": [
    {
     "name": "stdout",
     "output_type": "stream",
     "text": [
      "45.5436155796051\n"
     ]
    },
    {
     "data": {
      "text/html": [
       "<div>\n",
       "<style scoped>\n",
       "    .dataframe tbody tr th:only-of-type {\n",
       "        vertical-align: middle;\n",
       "    }\n",
       "\n",
       "    .dataframe tbody tr th {\n",
       "        vertical-align: top;\n",
       "    }\n",
       "\n",
       "    .dataframe thead th {\n",
       "        text-align: right;\n",
       "    }\n",
       "</style>\n",
       "<table border=\"1\" class=\"dataframe\">\n",
       "  <thead>\n",
       "    <tr style=\"text-align: right;\">\n",
       "      <th></th>\n",
       "      <th>f1</th>\n",
       "      <th>ARI</th>\n",
       "      <th>ACC</th>\n",
       "      <th>cover_rate</th>\n",
       "      <th>classes</th>\n",
       "    </tr>\n",
       "  </thead>\n",
       "  <tbody>\n",
       "    <tr>\n",
       "      <th>0</th>\n",
       "      <td>0.81237</td>\n",
       "      <td>0.673489</td>\n",
       "      <td>0.818</td>\n",
       "      <td>1.0</td>\n",
       "      <td>10.0</td>\n",
       "    </tr>\n",
       "  </tbody>\n",
       "</table>\n",
       "</div>"
      ],
      "text/plain": [
       "        f1       ARI    ACC  cover_rate  classes\n",
       "0  0.81237  0.673489  0.818         1.0     10.0"
      ]
     },
     "execution_count": 73,
     "metadata": {},
     "output_type": "execute_result"
    }
   ],
   "source": [
    "X,Y_true=DataLoader.load('mnist_5')\n",
    "t1=time.time()\n",
    "kmeans = KMeans(n_clusters=10, random_state=5).fit(X)\n",
    "Y_pred=kmeans.predict(X)\n",
    "t2=time.time()\n",
    "print(t2-t1)\n",
    "measures_calculator(Y_true,Y_pred)"
   ]
  },
  {
   "cell_type": "code",
   "execution_count": 74,
   "metadata": {},
   "outputs": [
    {
     "name": "stdout",
     "output_type": "stream",
     "text": [
      "62.46997928619385\n"
     ]
    },
    {
     "data": {
      "text/html": [
       "<div>\n",
       "<style scoped>\n",
       "    .dataframe tbody tr th:only-of-type {\n",
       "        vertical-align: middle;\n",
       "    }\n",
       "\n",
       "    .dataframe tbody tr th {\n",
       "        vertical-align: top;\n",
       "    }\n",
       "\n",
       "    .dataframe thead th {\n",
       "        text-align: right;\n",
       "    }\n",
       "</style>\n",
       "<table border=\"1\" class=\"dataframe\">\n",
       "  <thead>\n",
       "    <tr style=\"text-align: right;\">\n",
       "      <th></th>\n",
       "      <th>f1</th>\n",
       "      <th>ARI</th>\n",
       "      <th>ACC</th>\n",
       "      <th>cover_rate</th>\n",
       "      <th>classes</th>\n",
       "    </tr>\n",
       "  </thead>\n",
       "  <tbody>\n",
       "    <tr>\n",
       "      <th>0</th>\n",
       "      <td>0.655667</td>\n",
       "      <td>0.569116</td>\n",
       "      <td>0.6622</td>\n",
       "      <td>1.0</td>\n",
       "      <td>10.0</td>\n",
       "    </tr>\n",
       "  </tbody>\n",
       "</table>\n",
       "</div>"
      ],
      "text/plain": [
       "         f1       ARI     ACC  cover_rate  classes\n",
       "0  0.655667  0.569116  0.6622         1.0     10.0"
      ]
     },
     "execution_count": 74,
     "metadata": {},
     "output_type": "execute_result"
    }
   ],
   "source": [
    "X,Y_true=DataLoader.load('mnist_10')\n",
    "t1=time.time()\n",
    "kmeans = KMeans(n_clusters=10, random_state=5).fit(X)\n",
    "Y_pred=kmeans.predict(X)\n",
    "t2=time.time()\n",
    "print(t2-t1)\n",
    "measures_calculator(Y_true,Y_pred)"
   ]
  },
  {
   "cell_type": "code",
   "execution_count": 75,
   "metadata": {},
   "outputs": [
    {
     "name": "stdout",
     "output_type": "stream",
     "text": [
      "60.075573444366455\n"
     ]
    },
    {
     "data": {
      "text/html": [
       "<div>\n",
       "<style scoped>\n",
       "    .dataframe tbody tr th:only-of-type {\n",
       "        vertical-align: middle;\n",
       "    }\n",
       "\n",
       "    .dataframe tbody tr th {\n",
       "        vertical-align: top;\n",
       "    }\n",
       "\n",
       "    .dataframe thead th {\n",
       "        text-align: right;\n",
       "    }\n",
       "</style>\n",
       "<table border=\"1\" class=\"dataframe\">\n",
       "  <thead>\n",
       "    <tr style=\"text-align: right;\">\n",
       "      <th></th>\n",
       "      <th>f1</th>\n",
       "      <th>ARI</th>\n",
       "      <th>ACC</th>\n",
       "      <th>cover_rate</th>\n",
       "      <th>classes</th>\n",
       "    </tr>\n",
       "  </thead>\n",
       "  <tbody>\n",
       "    <tr>\n",
       "      <th>0</th>\n",
       "      <td>0.529803</td>\n",
       "      <td>0.383411</td>\n",
       "      <td>0.5312</td>\n",
       "      <td>1.0</td>\n",
       "      <td>10.0</td>\n",
       "    </tr>\n",
       "  </tbody>\n",
       "</table>\n",
       "</div>"
      ],
      "text/plain": [
       "         f1       ARI     ACC  cover_rate  classes\n",
       "0  0.529803  0.383411  0.5312         1.0     10.0"
      ]
     },
     "execution_count": 75,
     "metadata": {},
     "output_type": "execute_result"
    }
   ],
   "source": [
    "X,Y_true=DataLoader.load('mnist_20')\n",
    "t1=time.time()\n",
    "kmeans = KMeans(n_clusters=10, random_state=5).fit(X)\n",
    "Y_pred=kmeans.predict(X)\n",
    "t2=time.time()\n",
    "print(t2-t1)\n",
    "measures_calculator(Y_true,Y_pred)"
   ]
  },
  {
   "cell_type": "code",
   "execution_count": 76,
   "metadata": {},
   "outputs": [
    {
     "name": "stdout",
     "output_type": "stream",
     "text": [
      "97.47259616851807\n"
     ]
    },
    {
     "data": {
      "text/html": [
       "<div>\n",
       "<style scoped>\n",
       "    .dataframe tbody tr th:only-of-type {\n",
       "        vertical-align: middle;\n",
       "    }\n",
       "\n",
       "    .dataframe tbody tr th {\n",
       "        vertical-align: top;\n",
       "    }\n",
       "\n",
       "    .dataframe thead th {\n",
       "        text-align: right;\n",
       "    }\n",
       "</style>\n",
       "<table border=\"1\" class=\"dataframe\">\n",
       "  <thead>\n",
       "    <tr style=\"text-align: right;\">\n",
       "      <th></th>\n",
       "      <th>f1</th>\n",
       "      <th>ARI</th>\n",
       "      <th>ACC</th>\n",
       "      <th>cover_rate</th>\n",
       "      <th>classes</th>\n",
       "    </tr>\n",
       "  </thead>\n",
       "  <tbody>\n",
       "    <tr>\n",
       "      <th>0</th>\n",
       "      <td>0.489717</td>\n",
       "      <td>0.346769</td>\n",
       "      <td>0.4874</td>\n",
       "      <td>1.0</td>\n",
       "      <td>10.0</td>\n",
       "    </tr>\n",
       "  </tbody>\n",
       "</table>\n",
       "</div>"
      ],
      "text/plain": [
       "         f1       ARI     ACC  cover_rate  classes\n",
       "0  0.489717  0.346769  0.4874         1.0     10.0"
      ]
     },
     "execution_count": 76,
     "metadata": {},
     "output_type": "execute_result"
    }
   ],
   "source": [
    "X,Y_true=DataLoader.load('mnist_30')\n",
    "t1=time.time()\n",
    "kmeans = KMeans(n_clusters=10, random_state=5).fit(X)\n",
    "Y_pred=kmeans.predict(X)\n",
    "t2=time.time()\n",
    "print(t2-t1)\n",
    "measures_calculator(Y_true,Y_pred)"
   ]
  },
  {
   "cell_type": "code",
   "execution_count": 77,
   "metadata": {},
   "outputs": [
    {
     "name": "stdout",
     "output_type": "stream",
     "text": [
      "40.324262380599976\n"
     ]
    },
    {
     "data": {
      "text/html": [
       "<div>\n",
       "<style scoped>\n",
       "    .dataframe tbody tr th:only-of-type {\n",
       "        vertical-align: middle;\n",
       "    }\n",
       "\n",
       "    .dataframe tbody tr th {\n",
       "        vertical-align: top;\n",
       "    }\n",
       "\n",
       "    .dataframe thead th {\n",
       "        text-align: right;\n",
       "    }\n",
       "</style>\n",
       "<table border=\"1\" class=\"dataframe\">\n",
       "  <thead>\n",
       "    <tr style=\"text-align: right;\">\n",
       "      <th></th>\n",
       "      <th>f1</th>\n",
       "      <th>ARI</th>\n",
       "      <th>ACC</th>\n",
       "      <th>cover_rate</th>\n",
       "      <th>classes</th>\n",
       "    </tr>\n",
       "  </thead>\n",
       "  <tbody>\n",
       "    <tr>\n",
       "      <th>0</th>\n",
       "      <td>0.559114</td>\n",
       "      <td>0.4369</td>\n",
       "      <td>0.5691</td>\n",
       "      <td>1.0</td>\n",
       "      <td>10.0</td>\n",
       "    </tr>\n",
       "  </tbody>\n",
       "</table>\n",
       "</div>"
      ],
      "text/plain": [
       "         f1     ARI     ACC  cover_rate  classes\n",
       "0  0.559114  0.4369  0.5691         1.0     10.0"
      ]
     },
     "execution_count": 77,
     "metadata": {},
     "output_type": "execute_result"
    }
   ],
   "source": [
    "X,Y_true=DataLoader.load('fmnist_5')\n",
    "t1=time.time()\n",
    "kmeans = KMeans(n_clusters=10, random_state=5).fit(X)\n",
    "Y_pred=kmeans.predict(X)\n",
    "t2=time.time()\n",
    "print(t2-t1)\n",
    "measures_calculator(Y_true,Y_pred)"
   ]
  },
  {
   "cell_type": "code",
   "execution_count": 78,
   "metadata": {},
   "outputs": [
    {
     "name": "stdout",
     "output_type": "stream",
     "text": [
      "42.48155498504639\n"
     ]
    },
    {
     "data": {
      "text/html": [
       "<div>\n",
       "<style scoped>\n",
       "    .dataframe tbody tr th:only-of-type {\n",
       "        vertical-align: middle;\n",
       "    }\n",
       "\n",
       "    .dataframe tbody tr th {\n",
       "        vertical-align: top;\n",
       "    }\n",
       "\n",
       "    .dataframe thead th {\n",
       "        text-align: right;\n",
       "    }\n",
       "</style>\n",
       "<table border=\"1\" class=\"dataframe\">\n",
       "  <thead>\n",
       "    <tr style=\"text-align: right;\">\n",
       "      <th></th>\n",
       "      <th>f1</th>\n",
       "      <th>ARI</th>\n",
       "      <th>ACC</th>\n",
       "      <th>cover_rate</th>\n",
       "      <th>classes</th>\n",
       "    </tr>\n",
       "  </thead>\n",
       "  <tbody>\n",
       "    <tr>\n",
       "      <th>0</th>\n",
       "      <td>0.47962</td>\n",
       "      <td>0.386205</td>\n",
       "      <td>0.498</td>\n",
       "      <td>1.0</td>\n",
       "      <td>10.0</td>\n",
       "    </tr>\n",
       "  </tbody>\n",
       "</table>\n",
       "</div>"
      ],
      "text/plain": [
       "        f1       ARI    ACC  cover_rate  classes\n",
       "0  0.47962  0.386205  0.498         1.0     10.0"
      ]
     },
     "execution_count": 78,
     "metadata": {},
     "output_type": "execute_result"
    }
   ],
   "source": [
    "X,Y_true=DataLoader.load('fmnist_10')\n",
    "t1=time.time()\n",
    "kmeans = KMeans(n_clusters=10, random_state=5).fit(X)\n",
    "Y_pred=kmeans.predict(X)\n",
    "t2=time.time()\n",
    "print(t2-t1)\n",
    "measures_calculator(Y_true,Y_pred)"
   ]
  },
  {
   "cell_type": "code",
   "execution_count": 79,
   "metadata": {},
   "outputs": [
    {
     "name": "stdout",
     "output_type": "stream",
     "text": [
      "41.97805380821228\n"
     ]
    },
    {
     "data": {
      "text/html": [
       "<div>\n",
       "<style scoped>\n",
       "    .dataframe tbody tr th:only-of-type {\n",
       "        vertical-align: middle;\n",
       "    }\n",
       "\n",
       "    .dataframe tbody tr th {\n",
       "        vertical-align: top;\n",
       "    }\n",
       "\n",
       "    .dataframe thead th {\n",
       "        text-align: right;\n",
       "    }\n",
       "</style>\n",
       "<table border=\"1\" class=\"dataframe\">\n",
       "  <thead>\n",
       "    <tr style=\"text-align: right;\">\n",
       "      <th></th>\n",
       "      <th>f1</th>\n",
       "      <th>ARI</th>\n",
       "      <th>ACC</th>\n",
       "      <th>cover_rate</th>\n",
       "      <th>classes</th>\n",
       "    </tr>\n",
       "  </thead>\n",
       "  <tbody>\n",
       "    <tr>\n",
       "      <th>0</th>\n",
       "      <td>0.479078</td>\n",
       "      <td>0.370895</td>\n",
       "      <td>0.5012</td>\n",
       "      <td>1.0</td>\n",
       "      <td>10.0</td>\n",
       "    </tr>\n",
       "  </tbody>\n",
       "</table>\n",
       "</div>"
      ],
      "text/plain": [
       "         f1       ARI     ACC  cover_rate  classes\n",
       "0  0.479078  0.370895  0.5012         1.0     10.0"
      ]
     },
     "execution_count": 79,
     "metadata": {},
     "output_type": "execute_result"
    }
   ],
   "source": [
    "X,Y_true=DataLoader.load('fmnist_20')\n",
    "t1=time.time()\n",
    "kmeans = KMeans(n_clusters=10, random_state=5).fit(X)\n",
    "Y_pred=kmeans.predict(X)\n",
    "t2=time.time()\n",
    "print(t2-t1)\n",
    "measures_calculator(Y_true,Y_pred)"
   ]
  },
  {
   "cell_type": "code",
   "execution_count": 80,
   "metadata": {},
   "outputs": [
    {
     "name": "stdout",
     "output_type": "stream",
     "text": [
      "45.001872062683105\n"
     ]
    },
    {
     "data": {
      "text/html": [
       "<div>\n",
       "<style scoped>\n",
       "    .dataframe tbody tr th:only-of-type {\n",
       "        vertical-align: middle;\n",
       "    }\n",
       "\n",
       "    .dataframe tbody tr th {\n",
       "        vertical-align: top;\n",
       "    }\n",
       "\n",
       "    .dataframe thead th {\n",
       "        text-align: right;\n",
       "    }\n",
       "</style>\n",
       "<table border=\"1\" class=\"dataframe\">\n",
       "  <thead>\n",
       "    <tr style=\"text-align: right;\">\n",
       "      <th></th>\n",
       "      <th>f1</th>\n",
       "      <th>ARI</th>\n",
       "      <th>ACC</th>\n",
       "      <th>cover_rate</th>\n",
       "      <th>classes</th>\n",
       "    </tr>\n",
       "  </thead>\n",
       "  <tbody>\n",
       "    <tr>\n",
       "      <th>0</th>\n",
       "      <td>0.481848</td>\n",
       "      <td>0.360864</td>\n",
       "      <td>0.4976</td>\n",
       "      <td>1.0</td>\n",
       "      <td>10.0</td>\n",
       "    </tr>\n",
       "  </tbody>\n",
       "</table>\n",
       "</div>"
      ],
      "text/plain": [
       "         f1       ARI     ACC  cover_rate  classes\n",
       "0  0.481848  0.360864  0.4976         1.0     10.0"
      ]
     },
     "execution_count": 80,
     "metadata": {},
     "output_type": "execute_result"
    }
   ],
   "source": [
    "X,Y_true=DataLoader.load('fmnist_30')\n",
    "t1=time.time()\n",
    "kmeans = KMeans(n_clusters=10, random_state=5).fit(X)\n",
    "Y_pred=kmeans.predict(X)\n",
    "t2=time.time()\n",
    "print(t2-t1)\n",
    "measures_calculator(Y_true,Y_pred)"
   ]
  },
  {
   "cell_type": "markdown",
   "metadata": {},
   "source": [
    "# QuicshiftPP"
   ]
  },
  {
   "cell_type": "code",
   "execution_count": 81,
   "metadata": {},
   "outputs": [
    {
     "name": "stderr",
     "output_type": "stream",
     "text": [
      "/opt/anaconda3/envs/DGC/lib/python3.7/site-packages/sklearn/utils/deprecation.py:143: FutureWarning: The sklearn.neighbors.kde module is  deprecated in version 0.22 and will be removed in version 0.24. The corresponding classes / functions should instead be imported from sklearn.neighbors. Anything that cannot be imported from sklearn.neighbors is now part of the private API.\n",
      "  warnings.warn(message, FutureWarning)\n"
     ]
    }
   ],
   "source": [
    "from QuickshiftPP import *"
   ]
  },
  {
   "cell_type": "code",
   "execution_count": 82,
   "metadata": {},
   "outputs": [
    {
     "name": "stdout",
     "output_type": "stream",
     "text": [
      "2.1339261531829834\n"
     ]
    },
    {
     "data": {
      "text/html": [
       "<div>\n",
       "<style scoped>\n",
       "    .dataframe tbody tr th:only-of-type {\n",
       "        vertical-align: middle;\n",
       "    }\n",
       "\n",
       "    .dataframe tbody tr th {\n",
       "        vertical-align: top;\n",
       "    }\n",
       "\n",
       "    .dataframe thead th {\n",
       "        text-align: right;\n",
       "    }\n",
       "</style>\n",
       "<table border=\"1\" class=\"dataframe\">\n",
       "  <thead>\n",
       "    <tr style=\"text-align: right;\">\n",
       "      <th></th>\n",
       "      <th>f1</th>\n",
       "      <th>ARI</th>\n",
       "      <th>ACC</th>\n",
       "      <th>cover_rate</th>\n",
       "      <th>classes</th>\n",
       "    </tr>\n",
       "  </thead>\n",
       "  <tbody>\n",
       "    <tr>\n",
       "      <th>0</th>\n",
       "      <td>0.788353</td>\n",
       "      <td>0.73518</td>\n",
       "      <td>0.8061</td>\n",
       "      <td>1.0</td>\n",
       "      <td>14.0</td>\n",
       "    </tr>\n",
       "  </tbody>\n",
       "</table>\n",
       "</div>"
      ],
      "text/plain": [
       "         f1      ARI     ACC  cover_rate  classes\n",
       "0  0.788353  0.73518  0.8061         1.0     14.0"
      ]
     },
     "execution_count": 82,
     "metadata": {},
     "output_type": "execute_result"
    }
   ],
   "source": [
    "X,Y_true=DataLoader.load('mnist_5')\n",
    "t1=time.time()\n",
    "model = QuickshiftPP(k=60,beta=0.4)\n",
    "model.fit([X[i] for i in range(X.shape[0])])\n",
    "Y_pred = model.memberships\n",
    "t2=time.time()\n",
    "print(t2-t1)\n",
    "measures_calculator(Y_true,Y_pred)"
   ]
  },
  {
   "cell_type": "code",
   "execution_count": 83,
   "metadata": {},
   "outputs": [
    {
     "name": "stdout",
     "output_type": "stream",
     "text": [
      "5.240055561065674\n"
     ]
    },
    {
     "data": {
      "text/html": [
       "<div>\n",
       "<style scoped>\n",
       "    .dataframe tbody tr th:only-of-type {\n",
       "        vertical-align: middle;\n",
       "    }\n",
       "\n",
       "    .dataframe tbody tr th {\n",
       "        vertical-align: top;\n",
       "    }\n",
       "\n",
       "    .dataframe thead th {\n",
       "        text-align: right;\n",
       "    }\n",
       "</style>\n",
       "<table border=\"1\" class=\"dataframe\">\n",
       "  <thead>\n",
       "    <tr style=\"text-align: right;\">\n",
       "      <th></th>\n",
       "      <th>f1</th>\n",
       "      <th>ARI</th>\n",
       "      <th>ACC</th>\n",
       "      <th>cover_rate</th>\n",
       "      <th>classes</th>\n",
       "    </tr>\n",
       "  </thead>\n",
       "  <tbody>\n",
       "    <tr>\n",
       "      <th>0</th>\n",
       "      <td>0.661989</td>\n",
       "      <td>0.621624</td>\n",
       "      <td>0.7162</td>\n",
       "      <td>1.0</td>\n",
       "      <td>14.0</td>\n",
       "    </tr>\n",
       "  </tbody>\n",
       "</table>\n",
       "</div>"
      ],
      "text/plain": [
       "         f1       ARI     ACC  cover_rate  classes\n",
       "0  0.661989  0.621624  0.7162         1.0     14.0"
      ]
     },
     "execution_count": 83,
     "metadata": {},
     "output_type": "execute_result"
    }
   ],
   "source": [
    "X,Y_true=DataLoader.load('mnist_10')\n",
    "t1=time.time()\n",
    "model = QuickshiftPP(k=50,beta=0.5)\n",
    "model.fit([X[i] for i in range(X.shape[0])])\n",
    "Y_pred = model.memberships\n",
    "t2=time.time()\n",
    "print(t2-t1)\n",
    "measures_calculator(Y_true,Y_pred)"
   ]
  },
  {
   "cell_type": "code",
   "execution_count": 84,
   "metadata": {},
   "outputs": [
    {
     "name": "stdout",
     "output_type": "stream",
     "text": [
      "11.509057521820068\n"
     ]
    },
    {
     "data": {
      "text/html": [
       "<div>\n",
       "<style scoped>\n",
       "    .dataframe tbody tr th:only-of-type {\n",
       "        vertical-align: middle;\n",
       "    }\n",
       "\n",
       "    .dataframe tbody tr th {\n",
       "        vertical-align: top;\n",
       "    }\n",
       "\n",
       "    .dataframe thead th {\n",
       "        text-align: right;\n",
       "    }\n",
       "</style>\n",
       "<table border=\"1\" class=\"dataframe\">\n",
       "  <thead>\n",
       "    <tr style=\"text-align: right;\">\n",
       "      <th></th>\n",
       "      <th>f1</th>\n",
       "      <th>ARI</th>\n",
       "      <th>ACC</th>\n",
       "      <th>cover_rate</th>\n",
       "      <th>classes</th>\n",
       "    </tr>\n",
       "  </thead>\n",
       "  <tbody>\n",
       "    <tr>\n",
       "      <th>0</th>\n",
       "      <td>0.655562</td>\n",
       "      <td>0.637322</td>\n",
       "      <td>0.6858</td>\n",
       "      <td>1.0</td>\n",
       "      <td>20.0</td>\n",
       "    </tr>\n",
       "  </tbody>\n",
       "</table>\n",
       "</div>"
      ],
      "text/plain": [
       "         f1       ARI     ACC  cover_rate  classes\n",
       "0  0.655562  0.637322  0.6858         1.0     20.0"
      ]
     },
     "execution_count": 84,
     "metadata": {},
     "output_type": "execute_result"
    }
   ],
   "source": [
    "X,Y_true=DataLoader.load('mnist_20')\n",
    "t1=time.time()\n",
    "model = QuickshiftPP(k=50,beta=0.5)\n",
    "model.fit([X[i] for i in range(X.shape[0])])\n",
    "Y_pred = model.memberships\n",
    "t2=time.time()\n",
    "print(t2-t1)\n",
    "measures_calculator(Y_true,Y_pred)"
   ]
  },
  {
   "cell_type": "code",
   "execution_count": 85,
   "metadata": {},
   "outputs": [
    {
     "name": "stdout",
     "output_type": "stream",
     "text": [
      "19.5713791847229\n"
     ]
    },
    {
     "data": {
      "text/html": [
       "<div>\n",
       "<style scoped>\n",
       "    .dataframe tbody tr th:only-of-type {\n",
       "        vertical-align: middle;\n",
       "    }\n",
       "\n",
       "    .dataframe tbody tr th {\n",
       "        vertical-align: top;\n",
       "    }\n",
       "\n",
       "    .dataframe thead th {\n",
       "        text-align: right;\n",
       "    }\n",
       "</style>\n",
       "<table border=\"1\" class=\"dataframe\">\n",
       "  <thead>\n",
       "    <tr style=\"text-align: right;\">\n",
       "      <th></th>\n",
       "      <th>f1</th>\n",
       "      <th>ARI</th>\n",
       "      <th>ACC</th>\n",
       "      <th>cover_rate</th>\n",
       "      <th>classes</th>\n",
       "    </tr>\n",
       "  </thead>\n",
       "  <tbody>\n",
       "    <tr>\n",
       "      <th>0</th>\n",
       "      <td>0.644419</td>\n",
       "      <td>0.588566</td>\n",
       "      <td>0.6582</td>\n",
       "      <td>1.0</td>\n",
       "      <td>27.0</td>\n",
       "    </tr>\n",
       "  </tbody>\n",
       "</table>\n",
       "</div>"
      ],
      "text/plain": [
       "         f1       ARI     ACC  cover_rate  classes\n",
       "0  0.644419  0.588566  0.6582         1.0     27.0"
      ]
     },
     "execution_count": 85,
     "metadata": {},
     "output_type": "execute_result"
    }
   ],
   "source": [
    "X,Y_true=DataLoader.load('mnist_30')\n",
    "t1=time.time()\n",
    "model = QuickshiftPP(k=50,beta=0.5)\n",
    "model.fit([X[i] for i in range(X.shape[0])])\n",
    "Y_pred = model.memberships\n",
    "t2=time.time()\n",
    "print(t2-t1)\n",
    "measures_calculator(Y_true,Y_pred)"
   ]
  },
  {
   "cell_type": "code",
   "execution_count": 86,
   "metadata": {},
   "outputs": [
    {
     "name": "stdout",
     "output_type": "stream",
     "text": [
      "2.7266952991485596\n"
     ]
    },
    {
     "data": {
      "text/html": [
       "<div>\n",
       "<style scoped>\n",
       "    .dataframe tbody tr th:only-of-type {\n",
       "        vertical-align: middle;\n",
       "    }\n",
       "\n",
       "    .dataframe tbody tr th {\n",
       "        vertical-align: top;\n",
       "    }\n",
       "\n",
       "    .dataframe thead th {\n",
       "        text-align: right;\n",
       "    }\n",
       "</style>\n",
       "<table border=\"1\" class=\"dataframe\">\n",
       "  <thead>\n",
       "    <tr style=\"text-align: right;\">\n",
       "      <th></th>\n",
       "      <th>f1</th>\n",
       "      <th>ARI</th>\n",
       "      <th>ACC</th>\n",
       "      <th>cover_rate</th>\n",
       "      <th>classes</th>\n",
       "    </tr>\n",
       "  </thead>\n",
       "  <tbody>\n",
       "    <tr>\n",
       "      <th>0</th>\n",
       "      <td>0.558703</td>\n",
       "      <td>0.434594</td>\n",
       "      <td>0.5695</td>\n",
       "      <td>1.0</td>\n",
       "      <td>11.0</td>\n",
       "    </tr>\n",
       "  </tbody>\n",
       "</table>\n",
       "</div>"
      ],
      "text/plain": [
       "         f1       ARI     ACC  cover_rate  classes\n",
       "0  0.558703  0.434594  0.5695         1.0     11.0"
      ]
     },
     "execution_count": 86,
     "metadata": {},
     "output_type": "execute_result"
    }
   ],
   "source": [
    "X,Y_true=DataLoader.load('fmnist_5')\n",
    "t1=time.time()\n",
    "model = QuickshiftPP(k=60,beta=0.05)\n",
    "model.fit([X[i] for i in range(X.shape[0])])\n",
    "Y_pred = model.memberships\n",
    "t2=time.time()\n",
    "print(t2-t1)\n",
    "measures_calculator(Y_true,Y_pred)"
   ]
  },
  {
   "cell_type": "code",
   "execution_count": 87,
   "metadata": {},
   "outputs": [
    {
     "name": "stdout",
     "output_type": "stream",
     "text": [
      "4.129794359207153\n"
     ]
    },
    {
     "data": {
      "text/html": [
       "<div>\n",
       "<style scoped>\n",
       "    .dataframe tbody tr th:only-of-type {\n",
       "        vertical-align: middle;\n",
       "    }\n",
       "\n",
       "    .dataframe tbody tr th {\n",
       "        vertical-align: top;\n",
       "    }\n",
       "\n",
       "    .dataframe thead th {\n",
       "        text-align: right;\n",
       "    }\n",
       "</style>\n",
       "<table border=\"1\" class=\"dataframe\">\n",
       "  <thead>\n",
       "    <tr style=\"text-align: right;\">\n",
       "      <th></th>\n",
       "      <th>f1</th>\n",
       "      <th>ARI</th>\n",
       "      <th>ACC</th>\n",
       "      <th>cover_rate</th>\n",
       "      <th>classes</th>\n",
       "    </tr>\n",
       "  </thead>\n",
       "  <tbody>\n",
       "    <tr>\n",
       "      <th>0</th>\n",
       "      <td>0.511025</td>\n",
       "      <td>0.393695</td>\n",
       "      <td>0.5382</td>\n",
       "      <td>1.0</td>\n",
       "      <td>28.0</td>\n",
       "    </tr>\n",
       "  </tbody>\n",
       "</table>\n",
       "</div>"
      ],
      "text/plain": [
       "         f1       ARI     ACC  cover_rate  classes\n",
       "0  0.511025  0.393695  0.5382         1.0     28.0"
      ]
     },
     "execution_count": 87,
     "metadata": {},
     "output_type": "execute_result"
    }
   ],
   "source": [
    "X,Y_true=DataLoader.load('fmnist_10')\n",
    "t1=time.time()\n",
    "model = QuickshiftPP(k=50,beta=0.1)\n",
    "model.fit([X[i] for i in range(X.shape[0])])\n",
    "Y_pred = model.memberships\n",
    "t2=time.time()\n",
    "print(t2-t1)\n",
    "measures_calculator(Y_true,Y_pred)"
   ]
  },
  {
   "cell_type": "code",
   "execution_count": 88,
   "metadata": {},
   "outputs": [
    {
     "name": "stdout",
     "output_type": "stream",
     "text": [
      "5.476281404495239\n"
     ]
    },
    {
     "data": {
      "text/html": [
       "<div>\n",
       "<style scoped>\n",
       "    .dataframe tbody tr th:only-of-type {\n",
       "        vertical-align: middle;\n",
       "    }\n",
       "\n",
       "    .dataframe tbody tr th {\n",
       "        vertical-align: top;\n",
       "    }\n",
       "\n",
       "    .dataframe thead th {\n",
       "        text-align: right;\n",
       "    }\n",
       "</style>\n",
       "<table border=\"1\" class=\"dataframe\">\n",
       "  <thead>\n",
       "    <tr style=\"text-align: right;\">\n",
       "      <th></th>\n",
       "      <th>f1</th>\n",
       "      <th>ARI</th>\n",
       "      <th>ACC</th>\n",
       "      <th>cover_rate</th>\n",
       "      <th>classes</th>\n",
       "    </tr>\n",
       "  </thead>\n",
       "  <tbody>\n",
       "    <tr>\n",
       "      <th>0</th>\n",
       "      <td>0.485258</td>\n",
       "      <td>0.226145</td>\n",
       "      <td>0.4291</td>\n",
       "      <td>1.0</td>\n",
       "      <td>293.0</td>\n",
       "    </tr>\n",
       "  </tbody>\n",
       "</table>\n",
       "</div>"
      ],
      "text/plain": [
       "         f1       ARI     ACC  cover_rate  classes\n",
       "0  0.485258  0.226145  0.4291         1.0    293.0"
      ]
     },
     "execution_count": 88,
     "metadata": {},
     "output_type": "execute_result"
    }
   ],
   "source": [
    "X,Y_true=DataLoader.load('fmnist_20')\n",
    "t1=time.time()\n",
    "model = QuickshiftPP(k=15,beta=0.7)\n",
    "model.fit([X[i] for i in range(X.shape[0])])\n",
    "Y_pred = model.memberships\n",
    "t2=time.time()\n",
    "print(t2-t1)\n",
    "measures_calculator(Y_true,Y_pred)"
   ]
  },
  {
   "cell_type": "code",
   "execution_count": 89,
   "metadata": {},
   "outputs": [
    {
     "name": "stdout",
     "output_type": "stream",
     "text": [
      "11.05944275856018\n"
     ]
    },
    {
     "data": {
      "text/html": [
       "<div>\n",
       "<style scoped>\n",
       "    .dataframe tbody tr th:only-of-type {\n",
       "        vertical-align: middle;\n",
       "    }\n",
       "\n",
       "    .dataframe tbody tr th {\n",
       "        vertical-align: top;\n",
       "    }\n",
       "\n",
       "    .dataframe thead th {\n",
       "        text-align: right;\n",
       "    }\n",
       "</style>\n",
       "<table border=\"1\" class=\"dataframe\">\n",
       "  <thead>\n",
       "    <tr style=\"text-align: right;\">\n",
       "      <th></th>\n",
       "      <th>f1</th>\n",
       "      <th>ARI</th>\n",
       "      <th>ACC</th>\n",
       "      <th>cover_rate</th>\n",
       "      <th>classes</th>\n",
       "    </tr>\n",
       "  </thead>\n",
       "  <tbody>\n",
       "    <tr>\n",
       "      <th>0</th>\n",
       "      <td>0.391266</td>\n",
       "      <td>0.247372</td>\n",
       "      <td>0.4427</td>\n",
       "      <td>1.0</td>\n",
       "      <td>59.0</td>\n",
       "    </tr>\n",
       "  </tbody>\n",
       "</table>\n",
       "</div>"
      ],
      "text/plain": [
       "         f1       ARI     ACC  cover_rate  classes\n",
       "0  0.391266  0.247372  0.4427         1.0     59.0"
      ]
     },
     "execution_count": 89,
     "metadata": {},
     "output_type": "execute_result"
    }
   ],
   "source": [
    "X,Y_true=DataLoader.load('fmnist_30')\n",
    "t1=time.time()\n",
    "model = QuickshiftPP(k=50,beta=0.6)\n",
    "model.fit([X[i] for i in range(X.shape[0])])\n",
    "Y_pred = model.memberships\n",
    "t2=time.time()\n",
    "print(t2-t1)\n",
    "measures_calculator(Y_true,Y_pred)"
   ]
  },
  {
   "cell_type": "markdown",
   "metadata": {},
   "source": [
    "# DBSCAN"
   ]
  },
  {
   "cell_type": "code",
   "execution_count": 90,
   "metadata": {},
   "outputs": [],
   "source": [
    "from sklearn.cluster import DBSCAN"
   ]
  },
  {
   "cell_type": "code",
   "execution_count": 213,
   "metadata": {},
   "outputs": [
    {
     "name": "stdout",
     "output_type": "stream",
     "text": [
      "0.40909433364868164\n"
     ]
    },
    {
     "data": {
      "text/html": [
       "<div>\n",
       "<style scoped>\n",
       "    .dataframe tbody tr th:only-of-type {\n",
       "        vertical-align: middle;\n",
       "    }\n",
       "\n",
       "    .dataframe tbody tr th {\n",
       "        vertical-align: top;\n",
       "    }\n",
       "\n",
       "    .dataframe thead th {\n",
       "        text-align: right;\n",
       "    }\n",
       "</style>\n",
       "<table border=\"1\" class=\"dataframe\">\n",
       "  <thead>\n",
       "    <tr style=\"text-align: right;\">\n",
       "      <th></th>\n",
       "      <th>f1</th>\n",
       "      <th>ARI</th>\n",
       "      <th>ACC</th>\n",
       "      <th>cover_rate</th>\n",
       "      <th>classes</th>\n",
       "    </tr>\n",
       "  </thead>\n",
       "  <tbody>\n",
       "    <tr>\n",
       "      <th>0</th>\n",
       "      <td>0.838003</td>\n",
       "      <td>0.799491</td>\n",
       "      <td>0.818202</td>\n",
       "      <td>0.445</td>\n",
       "      <td>81.0</td>\n",
       "    </tr>\n",
       "  </tbody>\n",
       "</table>\n",
       "</div>"
      ],
      "text/plain": [
       "         f1       ARI       ACC  cover_rate  classes\n",
       "0  0.838003  0.799491  0.818202       0.445     81.0"
      ]
     },
     "execution_count": 213,
     "metadata": {},
     "output_type": "execute_result"
    }
   ],
   "source": [
    "X,Y_true=DataLoader.load('mnist_5')\n",
    "t1=time.time()\n",
    "dbscan = DBSCAN(eps=0.5).fit(X)\n",
    "Y_pred = dbscan.labels_\n",
    "t2=time.time()\n",
    "print(t2-t1)\n",
    "measures_calculator(Y_true,Y_pred)"
   ]
  },
  {
   "cell_type": "code",
   "execution_count": 218,
   "metadata": {},
   "outputs": [
    {
     "name": "stdout",
     "output_type": "stream",
     "text": [
      "0.6379086971282959\n"
     ]
    },
    {
     "data": {
      "text/html": [
       "<div>\n",
       "<style scoped>\n",
       "    .dataframe tbody tr th:only-of-type {\n",
       "        vertical-align: middle;\n",
       "    }\n",
       "\n",
       "    .dataframe tbody tr th {\n",
       "        vertical-align: top;\n",
       "    }\n",
       "\n",
       "    .dataframe thead th {\n",
       "        text-align: right;\n",
       "    }\n",
       "</style>\n",
       "<table border=\"1\" class=\"dataframe\">\n",
       "  <thead>\n",
       "    <tr style=\"text-align: right;\">\n",
       "      <th></th>\n",
       "      <th>f1</th>\n",
       "      <th>ARI</th>\n",
       "      <th>ACC</th>\n",
       "      <th>cover_rate</th>\n",
       "      <th>classes</th>\n",
       "    </tr>\n",
       "  </thead>\n",
       "  <tbody>\n",
       "    <tr>\n",
       "      <th>0</th>\n",
       "      <td>0.429318</td>\n",
       "      <td>0.322431</td>\n",
       "      <td>0.510239</td>\n",
       "      <td>0.4737</td>\n",
       "      <td>64.0</td>\n",
       "    </tr>\n",
       "  </tbody>\n",
       "</table>\n",
       "</div>"
      ],
      "text/plain": [
       "         f1       ARI       ACC  cover_rate  classes\n",
       "0  0.429318  0.322431  0.510239      0.4737     64.0"
      ]
     },
     "execution_count": 218,
     "metadata": {},
     "output_type": "execute_result"
    }
   ],
   "source": [
    "X,Y_true=DataLoader.load('mnist_10')\n",
    "t1=time.time()\n",
    "dbscan = DBSCAN(eps=1.2).fit(X)\n",
    "Y_pred = dbscan.labels_\n",
    "t2=time.time()\n",
    "print(t2-t1)\n",
    "measures_calculator(Y_true,Y_pred)"
   ]
  },
  {
   "cell_type": "code",
   "execution_count": 220,
   "metadata": {},
   "outputs": [
    {
     "name": "stdout",
     "output_type": "stream",
     "text": [
      "3.848390579223633\n"
     ]
    },
    {
     "data": {
      "text/html": [
       "<div>\n",
       "<style scoped>\n",
       "    .dataframe tbody tr th:only-of-type {\n",
       "        vertical-align: middle;\n",
       "    }\n",
       "\n",
       "    .dataframe tbody tr th {\n",
       "        vertical-align: top;\n",
       "    }\n",
       "\n",
       "    .dataframe thead th {\n",
       "        text-align: right;\n",
       "    }\n",
       "</style>\n",
       "<table border=\"1\" class=\"dataframe\">\n",
       "  <thead>\n",
       "    <tr style=\"text-align: right;\">\n",
       "      <th></th>\n",
       "      <th>f1</th>\n",
       "      <th>ARI</th>\n",
       "      <th>ACC</th>\n",
       "      <th>cover_rate</th>\n",
       "      <th>classes</th>\n",
       "    </tr>\n",
       "  </thead>\n",
       "  <tbody>\n",
       "    <tr>\n",
       "      <th>0</th>\n",
       "      <td>0.366047</td>\n",
       "      <td>0.240276</td>\n",
       "      <td>0.468188</td>\n",
       "      <td>0.3725</td>\n",
       "      <td>50.0</td>\n",
       "    </tr>\n",
       "  </tbody>\n",
       "</table>\n",
       "</div>"
      ],
      "text/plain": [
       "         f1       ARI       ACC  cover_rate  classes\n",
       "0  0.366047  0.240276  0.468188      0.3725     50.0"
      ]
     },
     "execution_count": 220,
     "metadata": {},
     "output_type": "execute_result"
    }
   ],
   "source": [
    "X,Y_true=DataLoader.load('mnist_20')\n",
    "t1=time.time()\n",
    "dbscan = DBSCAN(eps=2.).fit(X)\n",
    "Y_pred = dbscan.labels_\n",
    "t2=time.time()\n",
    "print(t2-t1)\n",
    "measures_calculator(Y_true,Y_pred)"
   ]
  },
  {
   "cell_type": "code",
   "execution_count": 224,
   "metadata": {},
   "outputs": [
    {
     "name": "stdout",
     "output_type": "stream",
     "text": [
      "6.219048023223877\n"
     ]
    },
    {
     "data": {
      "text/html": [
       "<div>\n",
       "<style scoped>\n",
       "    .dataframe tbody tr th:only-of-type {\n",
       "        vertical-align: middle;\n",
       "    }\n",
       "\n",
       "    .dataframe tbody tr th {\n",
       "        vertical-align: top;\n",
       "    }\n",
       "\n",
       "    .dataframe thead th {\n",
       "        text-align: right;\n",
       "    }\n",
       "</style>\n",
       "<table border=\"1\" class=\"dataframe\">\n",
       "  <thead>\n",
       "    <tr style=\"text-align: right;\">\n",
       "      <th></th>\n",
       "      <th>f1</th>\n",
       "      <th>ARI</th>\n",
       "      <th>ACC</th>\n",
       "      <th>cover_rate</th>\n",
       "      <th>classes</th>\n",
       "    </tr>\n",
       "  </thead>\n",
       "  <tbody>\n",
       "    <tr>\n",
       "      <th>0</th>\n",
       "      <td>0.442625</td>\n",
       "      <td>0.324856</td>\n",
       "      <td>0.532826</td>\n",
       "      <td>0.4859</td>\n",
       "      <td>47.0</td>\n",
       "    </tr>\n",
       "  </tbody>\n",
       "</table>\n",
       "</div>"
      ],
      "text/plain": [
       "         f1       ARI       ACC  cover_rate  classes\n",
       "0  0.442625  0.324856  0.532826      0.4859     47.0"
      ]
     },
     "execution_count": 224,
     "metadata": {},
     "output_type": "execute_result"
    }
   ],
   "source": [
    "X,Y_true=DataLoader.load('mnist_30')\n",
    "t1=time.time()\n",
    "dbscan = DBSCAN(eps=3.).fit(X)\n",
    "Y_pred = dbscan.labels_\n",
    "t2=time.time()\n",
    "print(t2-t1)\n",
    "measures_calculator(Y_true,Y_pred)"
   ]
  },
  {
   "cell_type": "code",
   "execution_count": 232,
   "metadata": {},
   "outputs": [
    {
     "name": "stdout",
     "output_type": "stream",
     "text": [
      "0.3890419006347656\n"
     ]
    },
    {
     "data": {
      "text/html": [
       "<div>\n",
       "<style scoped>\n",
       "    .dataframe tbody tr th:only-of-type {\n",
       "        vertical-align: middle;\n",
       "    }\n",
       "\n",
       "    .dataframe tbody tr th {\n",
       "        vertical-align: top;\n",
       "    }\n",
       "\n",
       "    .dataframe thead th {\n",
       "        text-align: right;\n",
       "    }\n",
       "</style>\n",
       "<table border=\"1\" class=\"dataframe\">\n",
       "  <thead>\n",
       "    <tr style=\"text-align: right;\">\n",
       "      <th></th>\n",
       "      <th>f1</th>\n",
       "      <th>ARI</th>\n",
       "      <th>ACC</th>\n",
       "      <th>cover_rate</th>\n",
       "      <th>classes</th>\n",
       "    </tr>\n",
       "  </thead>\n",
       "  <tbody>\n",
       "    <tr>\n",
       "      <th>0</th>\n",
       "      <td>0.353891</td>\n",
       "      <td>0.298991</td>\n",
       "      <td>0.411071</td>\n",
       "      <td>0.3902</td>\n",
       "      <td>91.0</td>\n",
       "    </tr>\n",
       "  </tbody>\n",
       "</table>\n",
       "</div>"
      ],
      "text/plain": [
       "         f1       ARI       ACC  cover_rate  classes\n",
       "0  0.353891  0.298991  0.411071      0.3902     91.0"
      ]
     },
     "execution_count": 232,
     "metadata": {},
     "output_type": "execute_result"
    }
   ],
   "source": [
    "X,Y_true=DataLoader.load('fmnist_5')\n",
    "t1=time.time()\n",
    "dbscan = DBSCAN(eps=0.5).fit(X)\n",
    "Y_pred = dbscan.labels_\n",
    "t2=time.time()\n",
    "print(t2-t1)\n",
    "measures_calculator(Y_true,Y_pred)"
   ]
  },
  {
   "cell_type": "code",
   "execution_count": 237,
   "metadata": {},
   "outputs": [
    {
     "name": "stdout",
     "output_type": "stream",
     "text": [
      "0.560300350189209\n"
     ]
    },
    {
     "data": {
      "text/html": [
       "<div>\n",
       "<style scoped>\n",
       "    .dataframe tbody tr th:only-of-type {\n",
       "        vertical-align: middle;\n",
       "    }\n",
       "\n",
       "    .dataframe tbody tr th {\n",
       "        vertical-align: top;\n",
       "    }\n",
       "\n",
       "    .dataframe thead th {\n",
       "        text-align: right;\n",
       "    }\n",
       "</style>\n",
       "<table border=\"1\" class=\"dataframe\">\n",
       "  <thead>\n",
       "    <tr style=\"text-align: right;\">\n",
       "      <th></th>\n",
       "      <th>f1</th>\n",
       "      <th>ARI</th>\n",
       "      <th>ACC</th>\n",
       "      <th>cover_rate</th>\n",
       "      <th>classes</th>\n",
       "    </tr>\n",
       "  </thead>\n",
       "  <tbody>\n",
       "    <tr>\n",
       "      <th>0</th>\n",
       "      <td>0.25444</td>\n",
       "      <td>0.258738</td>\n",
       "      <td>0.368629</td>\n",
       "      <td>0.3551</td>\n",
       "      <td>51.0</td>\n",
       "    </tr>\n",
       "  </tbody>\n",
       "</table>\n",
       "</div>"
      ],
      "text/plain": [
       "        f1       ARI       ACC  cover_rate  classes\n",
       "0  0.25444  0.258738  0.368629      0.3551     51.0"
      ]
     },
     "execution_count": 237,
     "metadata": {},
     "output_type": "execute_result"
    }
   ],
   "source": [
    "X,Y_true=DataLoader.load('fmnist_10')\n",
    "t1=time.time()\n",
    "dbscan = DBSCAN(eps=1.).fit(X)\n",
    "Y_pred = dbscan.labels_\n",
    "t2=time.time()\n",
    "print(t2-t1)\n",
    "measures_calculator(Y_true,Y_pred)"
   ]
  },
  {
   "cell_type": "code",
   "execution_count": 244,
   "metadata": {},
   "outputs": [
    {
     "name": "stdout",
     "output_type": "stream",
     "text": [
      "1.7239317893981934\n"
     ]
    },
    {
     "data": {
      "text/html": [
       "<div>\n",
       "<style scoped>\n",
       "    .dataframe tbody tr th:only-of-type {\n",
       "        vertical-align: middle;\n",
       "    }\n",
       "\n",
       "    .dataframe tbody tr th {\n",
       "        vertical-align: top;\n",
       "    }\n",
       "\n",
       "    .dataframe thead th {\n",
       "        text-align: right;\n",
       "    }\n",
       "</style>\n",
       "<table border=\"1\" class=\"dataframe\">\n",
       "  <thead>\n",
       "    <tr style=\"text-align: right;\">\n",
       "      <th></th>\n",
       "      <th>f1</th>\n",
       "      <th>ARI</th>\n",
       "      <th>ACC</th>\n",
       "      <th>cover_rate</th>\n",
       "      <th>classes</th>\n",
       "    </tr>\n",
       "  </thead>\n",
       "  <tbody>\n",
       "    <tr>\n",
       "      <th>0</th>\n",
       "      <td>0.318221</td>\n",
       "      <td>0.293902</td>\n",
       "      <td>0.436594</td>\n",
       "      <td>0.3793</td>\n",
       "      <td>50.0</td>\n",
       "    </tr>\n",
       "  </tbody>\n",
       "</table>\n",
       "</div>"
      ],
      "text/plain": [
       "         f1       ARI       ACC  cover_rate  classes\n",
       "0  0.318221  0.293902  0.436594      0.3793     50.0"
      ]
     },
     "execution_count": 244,
     "metadata": {},
     "output_type": "execute_result"
    }
   ],
   "source": [
    "X,Y_true=DataLoader.load('fmnist_20')\n",
    "t1=time.time()\n",
    "dbscan = DBSCAN(eps=2.).fit(X)\n",
    "Y_pred = dbscan.labels_\n",
    "t2=time.time()\n",
    "print(t2-t1)\n",
    "measures_calculator(Y_true,Y_pred)"
   ]
  },
  {
   "cell_type": "code",
   "execution_count": 249,
   "metadata": {},
   "outputs": [
    {
     "name": "stdout",
     "output_type": "stream",
     "text": [
      "4.5127105712890625\n"
     ]
    },
    {
     "data": {
      "text/html": [
       "<div>\n",
       "<style scoped>\n",
       "    .dataframe tbody tr th:only-of-type {\n",
       "        vertical-align: middle;\n",
       "    }\n",
       "\n",
       "    .dataframe tbody tr th {\n",
       "        vertical-align: top;\n",
       "    }\n",
       "\n",
       "    .dataframe thead th {\n",
       "        text-align: right;\n",
       "    }\n",
       "</style>\n",
       "<table border=\"1\" class=\"dataframe\">\n",
       "  <thead>\n",
       "    <tr style=\"text-align: right;\">\n",
       "      <th></th>\n",
       "      <th>f1</th>\n",
       "      <th>ARI</th>\n",
       "      <th>ACC</th>\n",
       "      <th>cover_rate</th>\n",
       "      <th>classes</th>\n",
       "    </tr>\n",
       "  </thead>\n",
       "  <tbody>\n",
       "    <tr>\n",
       "      <th>0</th>\n",
       "      <td>0.206759</td>\n",
       "      <td>0.180837</td>\n",
       "      <td>0.329834</td>\n",
       "      <td>0.543</td>\n",
       "      <td>37.0</td>\n",
       "    </tr>\n",
       "  </tbody>\n",
       "</table>\n",
       "</div>"
      ],
      "text/plain": [
       "         f1       ARI       ACC  cover_rate  classes\n",
       "0  0.206759  0.180837  0.329834       0.543     37.0"
      ]
     },
     "execution_count": 249,
     "metadata": {},
     "output_type": "execute_result"
    }
   ],
   "source": [
    "X,Y_true=DataLoader.load('fmnist_30')\n",
    "t1=time.time()\n",
    "dbscan = DBSCAN(eps=2.5).fit(X)\n",
    "Y_pred = dbscan.labels_\n",
    "t2=time.time()\n",
    "print(t2-t1)\n",
    "measures_calculator(Y_true,Y_pred)"
   ]
  },
  {
   "cell_type": "code",
   "execution_count": null,
   "metadata": {},
   "outputs": [],
   "source": []
  }
 ],
 "metadata": {
  "kernelspec": {
   "display_name": "Python 3",
   "language": "python",
   "name": "python3"
  },
  "language_info": {
   "codemirror_mode": {
    "name": "ipython",
    "version": 3
   },
   "file_extension": ".py",
   "mimetype": "text/x-python",
   "name": "python",
   "nbconvert_exporter": "python",
   "pygments_lexer": "ipython3",
   "version": "3.6.10"
  },
  "toc": {
   "base_numbering": 1,
   "nav_menu": {},
   "number_sections": true,
   "sideBar": true,
   "skip_h1_title": false,
   "title_cell": "Table of Contents",
   "title_sidebar": "Contents",
   "toc_cell": false,
   "toc_position": {},
   "toc_section_display": true,
   "toc_window_display": false
  }
 },
 "nbformat": 4,
 "nbformat_minor": 4
}
